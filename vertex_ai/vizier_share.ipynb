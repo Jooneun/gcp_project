{
  "cells": [
    {
      "cell_type": "code",
      "execution_count": null,
      "metadata": {
        "id": "7fPc-KWUi2Xd"
      },
      "outputs": [],
      "source": [
        "# Copyright 2021 Google LLC\n",
        "#\n",
        "# Licensed under the Apache License, Version 2.0 (the \"License\");\n",
        "# you may not use this file except in compliance with the License.\n",
        "# You may obtain a copy of the License at\n",
        "#\n",
        "#     https://www.apache.org/licenses/LICENSE-2.0\n",
        "#\n",
        "# Unless required by applicable law or agreed to in writing, software\n",
        "# distributed under the License is distributed on an \"AS IS\" BASIS,\n",
        "# WITHOUT WARRANTIES OR CONDITIONS OF ANY KIND, either express or implied.\n",
        "# See the License for the specific language governing permissions and\n",
        "# limitations under the License."
      ]
    },
    {
      "cell_type": "markdown",
      "metadata": {
        "id": "eoXf8TfQoVth"
      },
      "source": [
        "# Optimizing multiple objectives with Vertex AI Vizier"
      ]
    },
    {
      "cell_type": "markdown",
      "metadata": {
        "id": "b397c59391b1"
      },
      "source": [
        "## Overview\n",
        "\n",
        "This tutorial demonstrates Vertex AI Vizier multi-objective optimization. Multi-objective optimization is concerned with mathematical optimization problems involving more than one objective function to be optimized simultaneously.\n",
        "\n",
        "Learn more about [Vertex AI Vizier](https://cloud.google.com/vertex-ai/docs/vizier/overview)."
      ]
    },
    {
      "cell_type": "markdown",
      "metadata": {
        "id": "AksIKBzZ-nre"
      },
      "source": [
        "### Objective\n",
        "\n",
        "In this tutorial, you learn how to use Vertex AI Vizier to optimize a multi-objective study.\n",
        "\n",
        "The goal is to __`minimize`__ the objective metric:\n",
        "   ```\n",
        "   y1 = r*sin(theta)\n",
        "   ```\n",
        "\n",
        "and simultaneously __`maximize`__ the objective metric:\n",
        "   ```\n",
        "   y2 = r*cos(theta)\n",
        "   ```\n",
        "\n",
        "that you're going to evaluate over the parameter space:\n",
        "\n",
        "   - __`r`__ in [0,1],\n",
        "\n",
        "   - __`theta`__ in [0, pi/2]\n",
        "\n",
        "### Costs\n",
        "\n",
        "This tutorial uses billable components of Google Cloud:\n",
        "\n",
        "* Vertex AI\n",
        "\n",
        "Learn about [Vertex AI\n",
        "pricing](https://cloud.google.com/vertex-ai/pricing) and use the [Pricing\n",
        "Calculator](https://cloud.google.com/products/calculator/)\n",
        "to generate a cost estimate based on your projected usage.\n"
      ]
    },
    {
      "cell_type": "markdown",
      "metadata": {
        "id": "61RBz8LLbxCR"
      },
      "source": [
        "## Get started"
      ]
    },
    {
      "cell_type": "markdown",
      "metadata": {
        "id": "No17Cw5hgx12"
      },
      "source": [
        "### Install Vertex AI SDK for Python and other required packages\n"
      ]
    },
    {
      "cell_type": "code",
      "execution_count": null,
      "metadata": {
        "id": "b6f3dc43494b"
      },
      "outputs": [],
      "source": [
        "! pip3 install --upgrade --quiet google-cloud-aiplatform \\\n",
        "                               numpy==1.23.0 \\\n",
        "                               google-vizier"
      ]
    },
    {
      "cell_type": "markdown",
      "metadata": {
        "id": "R5Xep4W9lq-Z"
      },
      "source": [
        "### Restart runtime (Colab only)\n",
        "\n",
        "To use the newly installed packages, you must restart the runtime on Google Colab."
      ]
    },
    {
      "cell_type": "code",
      "execution_count": null,
      "metadata": {
        "id": "XRvKdaPDTznN"
      },
      "outputs": [],
      "source": [
        "import sys\n",
        "\n",
        "if \"google.colab\" in sys.modules:\n",
        "\n",
        "    import IPython\n",
        "\n",
        "    app = IPython.Application.instance()\n",
        "    app.kernel.do_shutdown(True)"
      ]
    },
    {
      "cell_type": "markdown",
      "metadata": {
        "id": "SbmM4z7FOBpM"
      },
      "source": [
        "<div class=\"alert alert-block alert-warning\">\n",
        "<b>⚠️ The kernel is going to restart. Wait until it's finished before continuing to the next step. ⚠️</b>\n",
        "</div>\n"
      ]
    },
    {
      "cell_type": "markdown",
      "metadata": {
        "id": "dmWOrTJ3gx13"
      },
      "source": [
        "### Authenticate your notebook environment (Colab only)\n",
        "\n",
        "Authenticate your environment on Google Colab.\n"
      ]
    },
    {
      "cell_type": "code",
      "execution_count": null,
      "metadata": {
        "id": "NyKGtVQjgx13"
      },
      "outputs": [],
      "source": [
        "import sys\n",
        "\n",
        "if \"google.colab\" in sys.modules:\n",
        "\n",
        "    from google.colab import auth\n",
        "\n",
        "    auth.authenticate_user()"
      ]
    },
    {
      "cell_type": "markdown",
      "metadata": {
        "id": "DF4l8DTdWgPY"
      },
      "source": [
        "### Set Google Cloud project information\n",
        "\n",
        "To get started using Vertex AI, you must have an existing Google Cloud project. Learn more about [setting up a project and a development environment](https://cloud.google.com/vertex-ai/docs/start/cloud-environment)."
      ]
    },
    {
      "cell_type": "code",
      "execution_count": null,
      "metadata": {
        "id": "oM1iC_MfAts1",
        "colab": {
          "base_uri": "https://localhost:8080/"
        },
        "outputId": "0e6a00ed-244e-4750-803f-4f910bbb5605"
      },
      "outputs": [
        {
          "output_type": "stream",
          "name": "stdout",
          "text": [
            "Updated property [core/project].\n"
          ]
        }
      ],
      "source": [
        "PROJECT_ID = \"jc-gcp-project\"  # @param {type:\"string\"}\n",
        "LOCATION = \"us-central1\"  # @param {type:\"string\"}\n",
        "\n",
        "# Set the project id\n",
        "! gcloud config set project {PROJECT_ID}"
      ]
    },
    {
      "cell_type": "markdown",
      "metadata": {
        "id": "Dax2zrpTi2Xy"
      },
      "source": [
        "### Import libraries and define constants"
      ]
    },
    {
      "cell_type": "code",
      "source": [
        "pip show google-vizier"
      ],
      "metadata": {
        "colab": {
          "base_uri": "https://localhost:8080/"
        },
        "id": "iefYMFlpTypc",
        "outputId": "29d2cf4e-996c-4eac-c588-2e239d36dc09"
      },
      "execution_count": null,
      "outputs": [
        {
          "output_type": "stream",
          "name": "stdout",
          "text": [
            "Name: google-vizier\n",
            "Version: 0.1.24\n",
            "Summary: Open Source Vizier: Distributed service framework for blackbox optimization and research.\n",
            "Home-page: https://github.com/google/vizier\n",
            "Author: Vizier Team\n",
            "Author-email: oss-vizier-dev@google.com\n",
            "License: Apache License 2.0\n",
            "Location: /usr/local/lib/python3.10/dist-packages\n",
            "Requires: absl-py, attrs, googleapis-common-protos, grpcio, numpy, portpicker, protobuf, sqlalchemy\n",
            "Required-by: \n"
          ]
        }
      ]
    },
    {
      "cell_type": "code",
      "source": [
        "import datetime\n",
        "\n",
        "from google.cloud import aiplatform\n",
        "from google.cloud.aiplatform.vizier import Study, pyvizier"
      ],
      "metadata": {
        "id": "L7E2Bm9vUyAT"
      },
      "execution_count": null,
      "outputs": []
    },
    {
      "cell_type": "markdown",
      "metadata": {
        "id": "CWuu4wmki2X3"
      },
      "source": [
        "## Tutorial\n"
      ]
    },
    {
      "cell_type": "markdown",
      "metadata": {
        "id": "KyEjqIdnad0w"
      },
      "source": [
        "This section defines some parameters and util methods to call Vertex Vizier APIs."
      ]
    },
    {
      "cell_type": "code",
      "execution_count": null,
      "metadata": {
        "id": "8HCgeF8had77",
        "colab": {
          "base_uri": "https://localhost:8080/"
        },
        "outputId": "11538b23-dcae-4872-8e4f-e19cc81375ab"
      },
      "outputs": [
        {
          "output_type": "stream",
          "name": "stdout",
          "text": [
            "LOCATION: us-central1\n",
            "PARENT: projects/jc-gcp-project/locations/us-central1\n"
          ]
        }
      ],
      "source": [
        "# These will be automatically filled in.\n",
        "STUDY_DISPLAY_NAME = \"{}_study_{}\".format(\n",
        "    PROJECT_ID.replace(\"-\", \"\"), datetime.datetime.now().strftime(\"%Y%m%d_%H%M%S\")\n",
        ")\n",
        "PARENT = \"projects/{}/locations/{}\".format(PROJECT_ID, LOCATION)\n",
        "\n",
        "print(\"LOCATION: {}\".format(LOCATION))\n",
        "print(\"PARENT: {}\".format(PARENT))"
      ]
    },
    {
      "cell_type": "markdown",
      "metadata": {
        "id": "8NBduXsEaRKr"
      },
      "source": [
        "### Create the study configuration\n",
        "\n",
        "The following is a sample study configuration, built as a hierarchical python dictionary. It's already filled out. Run the cell to configure the study."
      ]
    },
    {
      "cell_type": "code",
      "execution_count": null,
      "metadata": {
        "id": "s-AHfPOASXXW",
        "colab": {
          "base_uri": "https://localhost:8080/"
        },
        "outputId": "65c03fcc-5578-48c4-e437-d15cd73a1e46"
      },
      "outputs": [
        {
          "output_type": "execute_result",
          "data": {
            "text/plain": [
              "ParameterConfigSelector(_selected=(ParameterConfig(_name='theta', _type=DOUBLE, _bounds=(0.0, 1.57), _feasible_values=None, _scale_type=LINEAR, _default_value=None, _external_type=INTERNAL, _children={}, _matching_parent_values=(), fidelity_config=None),))"
            ]
          },
          "metadata": {},
          "execution_count": 8
        }
      ],
      "source": [
        "# Parameter Configuration\n",
        "problem = pyvizier.StudyConfig()\n",
        "problem.algorithm = pyvizier.Algorithm.RANDOM_SEARCH\n",
        "\n",
        "# Objective Metrics\n",
        "problem.metric_information.append(\n",
        "    pyvizier.MetricInformation(name=\"y1\", goal=pyvizier.ObjectiveMetricGoal.MINIMIZE)\n",
        ")\n",
        "problem.metric_information.append(\n",
        "    pyvizier.MetricInformation(name=\"y2\", goal=pyvizier.ObjectiveMetricGoal.MAXIMIZE)\n",
        ")\n",
        "\n",
        "# Defines the parameters configuration.\n",
        "root = problem.search_space.select_root()\n",
        "root.add_float_param(\"r\", 0, 1.0, scale_type=pyvizier.ScaleType.LINEAR)\n",
        "root.add_float_param(\"theta\", 0, 1.57, scale_type=pyvizier.ScaleType.LINEAR)"
      ]
    },
    {
      "cell_type": "markdown",
      "metadata": {
        "id": "uyXG_RKha7Kb"
      },
      "source": [
        "### Create the study\n",
        "\n",
        "Next, create the study, which you can subsequently run to optimize the two objectives."
      ]
    },
    {
      "cell_type": "code",
      "execution_count": null,
      "metadata": {
        "id": "jgskzqZX0Mkt",
        "colab": {
          "base_uri": "https://localhost:8080/"
        },
        "outputId": "64995b7d-2e4e-42e2-d251-18904a766554"
      },
      "outputs": [
        {
          "output_type": "stream",
          "name": "stdout",
          "text": [
            "STUDY_ID: 789187478234\n"
          ]
        }
      ],
      "source": [
        "aiplatform.init(project=PROJECT_ID, location=LOCATION)\n",
        "study = Study.create_or_load(display_name=STUDY_DISPLAY_NAME, problem=problem)\n",
        "\n",
        "STUDY_ID = study.name\n",
        "print(\"STUDY_ID: {}\".format(STUDY_ID))"
      ]
    },
    {
      "cell_type": "markdown",
      "metadata": {
        "id": "dKOMBKmtkcJb"
      },
      "source": [
        "### Metric evaluation functions\n",
        "\n",
        "Next, define some functions to evaluate the two objective metrics."
      ]
    },
    {
      "cell_type": "code",
      "execution_count": null,
      "metadata": {
        "id": "Xnl1uqnyz3Qp"
      },
      "outputs": [],
      "source": [
        "import math\n",
        "\n",
        "\n",
        "# r * sin(theta)\n",
        "def Metric1Evaluation(r, theta):\n",
        "    \"\"\"Evaluate the first metric on the trial.\"\"\"\n",
        "    return r * math.sin(theta)\n",
        "\n",
        "\n",
        "# r * cos(theta)\n",
        "def Metric2Evaluation(r, theta):\n",
        "    \"\"\"Evaluate the second metric on the trial.\"\"\"\n",
        "    return r * math.cos(theta)\n",
        "\n",
        "\n",
        "def CreateMetrics(trial_id, r, theta):\n",
        "    print((\"=========== Start Trial: [{}] =============\").format(trial_id))\n",
        "\n",
        "    # Evaluate both objective metrics for this trial\n",
        "    y1 = Metric1Evaluation(r, theta)\n",
        "    y2 = Metric2Evaluation(r, theta)\n",
        "    print(\n",
        "        \"[r = {}, theta = {}] => y1 = r*sin(theta) = {}, y2 = r*cos(theta) = {}\".format(\n",
        "            r, theta, y1, y2\n",
        "        )\n",
        "    )\n",
        "    measurement = pyvizier.Measurement()\n",
        "    measurement.metrics[\"y1\"] = y1\n",
        "    measurement.metrics[\"y2\"] = y2\n",
        "\n",
        "    # Return the results for this trial\n",
        "    return measurement"
      ]
    },
    {
      "cell_type": "markdown",
      "metadata": {
        "id": "Qzn5lVpRq05U"
      },
      "source": [
        "### Set configuration parameters for running trials\n",
        "\n",
        "__`client_id`__: The identifier of the client requesting the suggestion. If multiple `SuggestTrialsRequests` have the same `client_id`, the service returns the identical suggested trial if the trial is `PENDING`, and provide a new trial if the last suggested trial is complete.\n",
        "\n",
        "__`suggestion_count_per_request`__: The number of suggestions (trials) requested in a single request.\n",
        "\n",
        "__`max_trial_id_to_stop`__: The number of trials to explore before stopping. It's set to 4 to shorten the time to run the code, so don't expect convergence. For convergence, it would likely need to be about 20 (a good rule of thumb is to multiply the total dimensionality by 10).\n"
      ]
    },
    {
      "cell_type": "code",
      "execution_count": null,
      "metadata": {
        "id": "5usXaZA5qvUZ",
        "colab": {
          "base_uri": "https://localhost:8080/"
        },
        "outputId": "d9bbb0ee-5ae0-48ca-f864-f4521a35678c"
      },
      "outputs": [
        {
          "output_type": "stream",
          "name": "stdout",
          "text": [
            "worker_id: worker1\n",
            "suggestion_count_per_request: 3\n",
            "max_trial_id_to_stop: 4\n"
          ]
        }
      ],
      "source": [
        "worker_id = \"worker1\"  # @param {type: 'string'}\n",
        "suggestion_count_per_request = 3  # @param {type: 'integer'}\n",
        "max_trial_id_to_stop = 4  # @param {type: 'integer'}\n",
        "\n",
        "print(\"worker_id: {}\".format(worker_id))\n",
        "print(\"suggestion_count_per_request: {}\".format(suggestion_count_per_request))\n",
        "print(\"max_trial_id_to_stop: {}\".format(max_trial_id_to_stop))"
      ]
    },
    {
      "cell_type": "markdown",
      "metadata": {
        "id": "UnV2SJNskm7V"
      },
      "source": [
        "### Run Vertex Vizier trials\n",
        "\n",
        "Run the trials."
      ]
    },
    {
      "cell_type": "code",
      "execution_count": null,
      "metadata": {
        "id": "opmuTntW4-eS",
        "colab": {
          "base_uri": "https://localhost:8080/"
        },
        "outputId": "4fc6d146-6bd1-4ddf-c98f-fb906ae2934d"
      },
      "outputs": [
        {
          "output_type": "stream",
          "name": "stderr",
          "text": [
            "INFO:google.cloud.aiplatform.vizier.study:Suggest Study study backing LRO: projects/78565683329/locations/us-central1/studies/789187478234/operations/789187478234_worker1_1\n",
            "INFO:google.cloud.aiplatform.vizier.study:<class 'google.cloud.aiplatform_v1.services.vizier_service.client.VizierServiceClient'>\n",
            "INFO:google.cloud.aiplatform.vizier.study:Study study suggested. Resource name: projects/78565683329/locations/us-central1/studies/789187478234\n"
          ]
        },
        {
          "output_type": "stream",
          "name": "stdout",
          "text": [
            "=========== Start Trial: [1] =============\n",
            "[r = 0.7337310888556299, theta = 0.5042108348071791] => y1 = r*sin(theta) = 0.35447769281552166, y2 = r*cos(theta) = 0.6424226615316841\n",
            "=========== Start Trial: [2] =============\n",
            "[r = 0.645009628394043, theta = 0.5379870181391783] => y1 = r*sin(theta) = 0.330508351113888, y2 = r*cos(theta) = 0.553896786924243\n",
            "=========== Start Trial: [3] =============\n",
            "[r = 0.8619851526090625, theta = 0.23858922136157312] => y1 = r*sin(theta) = 0.2037147160020711, y2 = r*cos(theta) = 0.8375671422654212\n"
          ]
        },
        {
          "output_type": "stream",
          "name": "stderr",
          "text": [
            "INFO:google.cloud.aiplatform.vizier.study:Suggest Study study backing LRO: projects/78565683329/locations/us-central1/studies/789187478234/operations/789187478234_worker1_2\n",
            "INFO:google.cloud.aiplatform.vizier.study:<class 'google.cloud.aiplatform_v1.services.vizier_service.client.VizierServiceClient'>\n",
            "INFO:google.cloud.aiplatform.vizier.study:Study study suggested. Resource name: projects/78565683329/locations/us-central1/studies/789187478234\n"
          ]
        },
        {
          "output_type": "stream",
          "name": "stdout",
          "text": [
            "=========== Start Trial: [4] =============\n",
            "[r = 0.8832965932872785, theta = 0.09696319026052437] => y1 = r*sin(theta) = 0.08551311145223091, y2 = r*cos(theta) = 0.879147529987243\n",
            "=========== Start Trial: [5] =============\n",
            "[r = 0.7154259464410591, theta = 1.4670803138442237] => y1 = r*sin(theta) = 0.711581472039731, y2 = r*cos(theta) = 0.07406816786484281\n",
            "=========== Start Trial: [6] =============\n",
            "[r = 0.4686904970711221, theta = 0.24139085048789743] => y1 = r*sin(theta) = 0.11204204842398328, y2 = r*cos(theta) = 0.45510148475887585\n"
          ]
        }
      ],
      "source": [
        "while len(study.trials()) < max_trial_id_to_stop:\n",
        "    trials = study.suggest(count=suggestion_count_per_request, worker=worker_id)\n",
        "\n",
        "    for suggested_trial in trials:\n",
        "        measurement = CreateMetrics(\n",
        "            suggested_trial.name,\n",
        "            suggested_trial.parameters[\"r\"].value,\n",
        "            suggested_trial.parameters[\"theta\"].value,\n",
        "        )\n",
        "        suggested_trial.add_measurement(measurement=measurement)\n",
        "        suggested_trial.complete(measurement=measurement)"
      ]
    },
    {
      "cell_type": "markdown",
      "metadata": {
        "id": "i5ZTqgqBiRsq"
      },
      "source": [
        "### List the optimal solutions\n",
        "\n",
        "The `optimal_trials()` method returns the Pareto-optimal trials for a multi-objective study or the optimal trials for a single-objective study. If multiple objectives are defined in previous steps, Pareto-optimal trials are returned."
      ]
    },
    {
      "cell_type": "code",
      "execution_count": null,
      "metadata": {
        "id": "Or2PL1YxTr33",
        "colab": {
          "base_uri": "https://localhost:8080/"
        },
        "outputId": "e2afb4e5-2dbe-4035-baab-6eae6976fe3c"
      },
      "outputs": [
        {
          "output_type": "stream",
          "name": "stdout",
          "text": [
            "optimal_trials: [<google.cloud.aiplatform.vizier.trial.Trial object at 0x7e3abb8958a0> \n",
            "resource name: projects/78565683329/locations/us-central1/studies/789187478234/trials/4]\n"
          ]
        }
      ],
      "source": [
        "optimal_trials = study.optimal_trials()\n",
        "print(\"optimal_trials: {}\".format(optimal_trials))"
      ]
    },
    {
      "cell_type": "markdown",
      "metadata": {
        "id": "KAxfq9Fri2YV"
      },
      "source": [
        "## Cleaning up\n",
        "\n",
        "To clean up all Google Cloud resources used in this project, you can [delete the Google Cloud\n",
        "project](https://cloud.google.com/resource-manager/docs/creating-managing-projects#shutting_down_projects) you used for the tutorial. You can also manually delete resources that you created by running the following code."
      ]
    },
    {
      "cell_type": "code",
      "execution_count": null,
      "metadata": {
        "id": "zQlLDfvlzYde"
      },
      "outputs": [],
      "source": [
        "study.delete()"
      ]
    }
  ],
  "metadata": {
    "colab": {
      "name": "vizier-multi-objective-optimization.ipynb",
      "provenance": []
    },
    "kernelspec": {
      "display_name": "Python 3",
      "name": "python3"
    }
  },
  "nbformat": 4,
  "nbformat_minor": 0
}