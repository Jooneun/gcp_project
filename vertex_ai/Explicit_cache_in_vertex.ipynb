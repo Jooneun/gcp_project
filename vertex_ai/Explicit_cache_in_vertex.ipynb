{
 "cells": [
  {
   "cell_type": "markdown",
   "id": "521a3637-0999-42c2-85ab-1d4e12d59d2a",
   "metadata": {},
   "source": [
    "# Explicit Cache in Vertex AI"
   ]
  },
  {
   "cell_type": "code",
   "execution_count": 12,
   "id": "e7a416d1-b0ef-4f6f-804a-a447d860ff8c",
   "metadata": {},
   "outputs": [],
   "source": [
    "import os\n",
    "from IPython.display import Markdown, display\n",
    "from google import genai\n",
    "from google.genai.types import (\n",
    "    Content,\n",
    "    CreateCachedContentConfig,\n",
    "    GenerateContentConfig,\n",
    "    Part,\n",
    ")\n",
    "\n",
    "PROJECT_ID = \"jc-gcp-project\"  # @param {type: \"string\", placeholder: \"[your-project-id]\", isTemplate: true}\n",
    "LOCATION = \"us-central1\"  # @param {type:\"string\"}\n",
    "\n",
    "if not PROJECT_ID or PROJECT_ID == \"[your-project-id]\":\n",
    "    PROJECT_ID = str(os.environ.get(\"GOOGLE_CLOUD_PROJECT\"))\n",
    "\n",
    "LOCATION = os.environ.get(\"GOOGLE_CLOUD_REGION\", \"us-central1\")"
   ]
  },
  {
   "cell_type": "code",
   "execution_count": 13,
   "id": "d49161bf-dff0-4cc0-9831-270da4744ae5",
   "metadata": {},
   "outputs": [],
   "source": [
    "client = genai.Client(vertexai=True, project=PROJECT_ID, location=LOCATION)\n",
    "MODEL_ID = \"gemini-2.5-flash\"  "
   ]
  },
  {
   "cell_type": "code",
   "execution_count": 14,
   "id": "6d9eec57-8a5b-404c-b0d8-156752d6734c",
   "metadata": {},
   "outputs": [],
   "source": [
    "# Gets a list of blob's in the specified bucket and path (prefix).\n",
    "from google.cloud import storage\n",
    "BUCKET_NAME = \"jc-project-250618\"\n",
    "DESTINATION_BLOB_PREFIX = \"vertex-ai-cached-images/\" # folder name in your bucket\n",
    "\n",
    "storage_client = storage.Client(project=PROJECT_ID)\n",
    "blobs = storage_client.list_blobs(BUCKET_NAME, prefix=DESTINATION_BLOB_PREFIX)"
   ]
  },
  {
   "cell_type": "code",
   "execution_count": 15,
   "id": "99c1c4ef-367d-4577-be12-663aba525d61",
   "metadata": {},
   "outputs": [
    {
     "name": "stdout",
     "output_type": "stream",
     "text": [
      "A total of 15image file was found in GCS.\n"
     ]
    }
   ],
   "source": [
    "# Convert each file into a Part.from_uri object and make it a list.\n",
    "# Because it is a PNG file, specify mime_type as 'image/png'.\n",
    "image_parts = [\n",
    "    Part.from_uri(\n",
    "        file_uri=f\"gs://{BUCKET_NAME}/{blob.name}\",\n",
    "        mime_type=\"image/png\"\n",
    "    )\n",
    "    for blob in blobs if not blob.name.endswith('/') \n",
    "]\n",
    "# Check the generated part list (optional) \n",
    "print(f\"A total of {len(image_parts)}image file was found in GCS.\")\n",
    "# for part in image_parts:\n",
    "#     print(part.file_data.file_uri)"
   ]
  },
  {
   "cell_type": "code",
   "execution_count": 16,
   "id": "43fa9ee3-9a9b-47fd-8559-d9b78fa05bc5",
   "metadata": {},
   "outputs": [
    {
     "name": "stdout",
     "output_type": "stream",
     "text": [
      "\n",
      "✅ The cache was successfully created.\n",
      "cache name: projects/78565683329/locations/us-central1/cachedContents/6080348367307669504\n"
     ]
    }
   ],
   "source": [
    "system_instruction = \"\"\"\n",
    "Look at the images you have, and answer the following questions in 1-2 sentences.\n",
    "\"\"\"\n",
    "\n",
    "# Pass the generated image_parts list to the parts.\n",
    "cached_content = client.caches.create(\n",
    "    model=MODEL_ID,\n",
    "    config=CreateCachedContentConfig(\n",
    "        contents=[\n",
    "            Content(\n",
    "                role=\"user\",\n",
    "                parts=image_parts,  # Place the generated image part list here.\n",
    "            )\n",
    "        ],\n",
    "        system_instruction=system_instruction,\n",
    "        ttl=\"3600s\", # Time-to-live: caching time (sec)\n",
    "    ),\n",
    ")\n",
    "\n",
    "print(\"\\n✅ The cache was successfully created.\")\n",
    "print(f\"cache name: {cached_content.name}\")"
   ]
  },
  {
   "cell_type": "code",
   "execution_count": 17,
   "id": "b10bf67f-2c91-465e-9c34-2628b0d9651e",
   "metadata": {},
   "outputs": [
    {
     "name": "stdout",
     "output_type": "stream",
     "text": [
      "projects/78565683329/locations/us-central1/cachedContents/6080348367307669504\n",
      "projects/jc-gcp-project/locations/us-central1/publishers/google/models/gemini-2.5-flash\n",
      "2025-08-13 07:13:47.290142+00:00\n",
      "2025-08-13 08:13:47.270174+00:00\n",
      "audio_duration_seconds=None image_count=15 text_count=68 total_token_count=3892 video_duration_seconds=None\n"
     ]
    }
   ],
   "source": [
    "print(cached_content.name)\n",
    "print(cached_content.model)\n",
    "print(cached_content.create_time)\n",
    "print(cached_content.expire_time)\n",
    "print(cached_content.usage_metadata)"
   ]
  },
  {
   "cell_type": "code",
   "execution_count": 18,
   "id": "9c8772ff-46e4-40fc-8a84-0191b876ba26",
   "metadata": {},
   "outputs": [
    {
     "data": {
      "text/markdown": [
       "The common products displayed in all the pictures are various types of chairs and seating furniture. These range from office chairs and armchairs to lounge chairs and small sofas designed for sitting."
      ],
      "text/plain": [
       "<IPython.core.display.Markdown object>"
      ]
     },
     "metadata": {},
     "output_type": "display_data"
    }
   ],
   "source": [
    "response = client.models.generate_content(\n",
    "    model=MODEL_ID,\n",
    "    contents=\"What is the common products in pictures you have?\",\n",
    "    config=GenerateContentConfig(\n",
    "        cached_content=cached_content.name,\n",
    "    ),\n",
    ")\n",
    "\n",
    "display(Markdown(response.text))"
   ]
  },
  {
   "cell_type": "code",
   "execution_count": 19,
   "id": "e1014613-9795-4f6b-ac51-212d50c32a67",
   "metadata": {},
   "outputs": [],
   "source": [
    "# 1. local image to use my new request\n",
    "from google.genai import types\n",
    "\n",
    "local_image_path = \"images/actor_01.png\"\n",
    "\n",
    "# 2. local image to binary\n",
    "try:\n",
    "    with open(local_image_path, \"rb\") as f:\n",
    "        image_bytes = f.read()\n",
    "except FileNotFoundError:\n",
    "    print(f\"오류: '{local_image_path}' No file, check the file route.\")\n",
    "    exit()\n",
    "\n",
    "# 3. Create Part\n",
    "image_part = types.Part.from_bytes(\n",
    "    data=image_bytes,\n",
    "    mime_type=\"image/png\"\n",
    ")\n",
    "\n",
    "\n",
    "# 4. Change prompt - trial01\n",
    "specific_instruction_text = \"\"\"\n",
    "What is the image I have attached now, not cached.\n",
    "\"\"\"\n",
    "instruction_part = Part.from_text(text=specific_instruction_text)\n",
    "\n",
    "# 5. new contests\n",
    "contents = [\n",
    "    instruction_part,\n",
    "    image_part,\n",
    "]"
   ]
  },
  {
   "cell_type": "code",
   "execution_count": 20,
   "id": "a4e79018-cf6b-49d2-8075-fc4bdeb2393c",
   "metadata": {},
   "outputs": [
    {
     "data": {
      "text/markdown": [
       "The images you have attached display a variety of chairs, including several types of office chairs, lounge chairs, armchairs, an inflatable chair, and a children's chair. There is also one image of a smiling man among the collection."
      ],
      "text/plain": [
       "<IPython.core.display.Markdown object>"
      ]
     },
     "metadata": {},
     "output_type": "display_data"
    }
   ],
   "source": [
    "response = client.models.generate_content(\n",
    "    model=MODEL_ID,\n",
    "    contents=contents,\n",
    "    config=GenerateContentConfig(\n",
    "        cached_content=cached_content.name,\n",
    "    ),\n",
    ")\n",
    "\n",
    "display(Markdown(response.text))"
   ]
  },
  {
   "cell_type": "code",
   "execution_count": 21,
   "id": "8fb8db35-4de6-4f3d-a909-7453fe1460dc",
   "metadata": {},
   "outputs": [],
   "source": [
    "# 6. Prompt Engineering\n",
    "specific_instruction_text = \"\"\"\n",
    "You are an expert interior stylist who recommends furniture that matches a client's personal style.\n",
    "\n",
    "- **Your Catalog (Cached Images):** The various furniture (chair) images from our previous conversation are the product list you can offer.\n",
    "- **Your Client (Newly Attached Image):** The newly attached portrait photo is your client.\n",
    "\n",
    "**Your Task:**\n",
    "Analyze your client's photo to understand their style, mood, and personality. Then, from the chairs in your catalog, choose and recommend the one that would best suit your client's personal space.\n",
    "\n",
    "You must explain your recommendation as if you are speaking directly to the client. Specifically connect which features of the person (e.g., their clothing, expression, posture) match well with the chair's design elements (e.g., its material, color, shape), and explain why.\n",
    "\"\"\"\n",
    "instruction_part = types.Part.from_text(text=specific_instruction_text)\n",
    "\n",
    "# 7. Set new contents\n",
    "contents = [\n",
    "    instruction_part,\n",
    "    image_part,\n",
    "]"
   ]
  },
  {
   "cell_type": "code",
   "execution_count": 22,
   "id": "fbb6d527-cc0d-4d71-a883-2a2158bfd1e1",
   "metadata": {},
   "outputs": [
    {
     "data": {
      "text/markdown": [
       "Given your polished and elegant appearance, marked by your sharp suit and gentle, warm smile, I recommend the luxurious beige executive office chair (Image 14). Its plush cushioning and sophisticated high-back design perfectly complement your refined demeanor, offering both the comfort and professional aesthetic that seem to align with your personal style."
      ],
      "text/plain": [
       "<IPython.core.display.Markdown object>"
      ]
     },
     "metadata": {},
     "output_type": "display_data"
    }
   ],
   "source": [
    "response = client.models.generate_content(\n",
    "    model=MODEL_ID,\n",
    "    contents=contents,  # New prompt\n",
    "    config=GenerateContentConfig(\n",
    "        # Cache\n",
    "        cached_content=cached_content.name,\n",
    "    ),\n",
    ")\n",
    "\n",
    "display(Markdown(response.text))"
   ]
  },
  {
   "cell_type": "code",
   "execution_count": null,
   "id": "f699cec9-2d0e-435c-8d47-46eccc8bc2cc",
   "metadata": {},
   "outputs": [],
   "source": []
  },
  {
   "cell_type": "code",
   "execution_count": 53,
   "id": "b7eb5918-16d9-499c-9a67-b727aa1b3637",
   "metadata": {},
   "outputs": [],
   "source": [
    "# 6. Prompt Engineering\n",
    "specific_instruction_text = \"\"\"\n",
    "You are an expert consultant who analyzes a client's style and mood to recommend the optimal product.\n",
    "\n",
    "### Input Data\n",
    "- **Product Catalog (Cached Images):** A list of images for various products that can be recommended to the client.\n",
    "- **Client for Analysis (Newly Attached Image):** A photo of the client who has requested a product recommendation.\n",
    "\n",
    "### Task & Output Format\n",
    "Create a 'Final Recommendation Report' according to the format below. **It is crucial that you include the filenames accurately.**\n",
    "\n",
    "---\n",
    "\n",
    "## Final Recommendation Report\n",
    "\n",
    "### 1. Client Analysis\n",
    "- **Analyzed File:** [short description of the file]\n",
    "- **Detailed Client Description:** [Describe the client's style, expression, mood, attire, and other observed details here]\n",
    "\n",
    "### 2. Recommended Product\n",
    "- **Recommended Product Filename:** [Return file number in the cached]\n",
    "- **Detailed Product Description:** [Describe the selected product's design, color, material, features, and other details here]\n",
    "\n",
    "### 3. Justification for Recommendation\n",
    "- **Matching Point Explanation:** [Logically explain why this product is the best match for the client by specifically connecting the analyzed client features with the recommended product features.]\n",
    "\"\"\"\n",
    "instruction_part = types.Part.from_text(text=specific_instruction_text)\n",
    "\n",
    "# 7. Set new contents\n",
    "contents = [\n",
    "    instruction_part,\n",
    "    image_part,\n",
    "]"
   ]
  },
  {
   "cell_type": "code",
   "execution_count": 54,
   "id": "72d2c1df-25c6-45e4-910e-90344d1fe729",
   "metadata": {},
   "outputs": [
    {
     "data": {
      "text/markdown": [
       "## Final Recommendation Report\n",
       "\n",
       "### 1. Client Analysis\n",
       "- **Analyzed File:** Image of a smiling East Asian male.\n",
       "- **Detailed Client Description:** The client is a young, well-groomed East Asian male with a warm and approachable smile. He is dressed in formal or semi-formal attire, including a crisp white shirt and a dark suit jacket, suggesting a professional, refined, and classic sense of style. His overall mood appears pleasant and sophisticated.\n",
       "\n",
       "### 2. Recommended Product\n",
       "- **Recommended Product Filename:** `image_9.jpeg`\n",
       "- **Detailed Product Description:** The recommended product is a tan upholstered armchair with a wooden frame, characteristic of mid-century modern design. It features clean lines, square tufted cushions for both the seat and back, and elegant wooden armrests and legs. The color is a warm, inviting tan, complementing the natural wood tones.\n",
       "\n",
       "### 3. Justification for Recommendation\n",
       "- **Matching Point Explanation:** The mid-century modern armchair in image_9.jpeg perfectly complements the client's refined, classic, and approachable style. Its clean lines and timeless design resonate with his sophisticated attire, while the warm tan upholstery and wooden elements offer an inviting comfort that mirrors his pleasant demeanor. This chair would fit seamlessly into a tastefully designed space, reflecting the client's elegant aesthetic."
      ],
      "text/plain": [
       "<IPython.core.display.Markdown object>"
      ]
     },
     "metadata": {},
     "output_type": "display_data"
    }
   ],
   "source": [
    "response = client.models.generate_content(\n",
    "    model=MODEL_ID,\n",
    "    contents=contents,  # New prompt\n",
    "    config=GenerateContentConfig(\n",
    "        # Cache\n",
    "        cached_content=cached_content.name,\n",
    "    ),\n",
    ")\n",
    "\n",
    "display(Markdown(response.text))"
   ]
  },
  {
   "cell_type": "code",
   "execution_count": 55,
   "id": "67375fb5-937b-44ba-8852-9554f125ba20",
   "metadata": {},
   "outputs": [
    {
     "data": {
      "text/plain": [
       "GenerateContentResponseUsageMetadata(\n",
       "  cached_content_token_count=3892,\n",
       "  candidates_token_count=273,\n",
       "  candidates_tokens_details=[\n",
       "    ModalityTokenCount(\n",
       "      modality=<MediaModality.TEXT: 'TEXT'>,\n",
       "      token_count=273\n",
       "    ),\n",
       "  ],\n",
       "  prompt_token_count=4400,\n",
       "  prompt_tokens_details=[\n",
       "    ModalityTokenCount(\n",
       "      modality=<MediaModality.TEXT: 'TEXT'>,\n",
       "      token_count=272\n",
       "    ),\n",
       "    ModalityTokenCount(\n",
       "      modality=<MediaModality.IMAGE: 'IMAGE'>,\n",
       "      token_count=4128\n",
       "    ),\n",
       "  ],\n",
       "  thoughts_token_count=1034,\n",
       "  total_token_count=5707,\n",
       "  traffic_type=<TrafficType.ON_DEMAND: 'ON_DEMAND'>\n",
       ")"
      ]
     },
     "execution_count": 55,
     "metadata": {},
     "output_type": "execute_result"
    }
   ],
   "source": [
    "response.usage_metadata"
   ]
  },
  {
   "cell_type": "code",
   "execution_count": null,
   "id": "3a55a575-4f89-4e21-8d25-bdbef196bdf6",
   "metadata": {},
   "outputs": [],
   "source": []
  }
 ],
 "metadata": {
  "environment": {
   "kernel": "conda-root-py",
   "name": "workbench-notebooks.m111",
   "type": "gcloud",
   "uri": "gcr.io/deeplearning-platform-release/workbench-notebooks:m111"
  },
  "kernelspec": {
   "display_name": "Python 3",
   "language": "python",
   "name": "conda-root-py"
  },
  "language_info": {
   "codemirror_mode": {
    "name": "ipython",
    "version": 3
   },
   "file_extension": ".py",
   "mimetype": "text/x-python",
   "name": "python",
   "nbconvert_exporter": "python",
   "pygments_lexer": "ipython3",
   "version": "3.10.12"
  }
 },
 "nbformat": 4,
 "nbformat_minor": 5
}
