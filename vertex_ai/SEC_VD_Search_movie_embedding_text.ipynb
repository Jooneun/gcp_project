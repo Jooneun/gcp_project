{
  "cells": [
    {
      "cell_type": "code",
      "id": "Wo92sK6nP479IKOvFFFSVj2y",
      "metadata": {
        "tags": [],
        "id": "Wo92sK6nP479IKOvFFFSVj2y"
      },
      "source": [
        "# Copyright 2024 Google LLC\n",
        "#\n",
        "# Licensed under the Apache License, Version 2.0 (the \"License\");\n",
        "# you may not use this file except in compliance with the License.\n",
        "# You may obtain a copy of the License at\n",
        "#\n",
        "#     https://www.apache.org/licenses/LICENSE-2.0\n",
        "#\n",
        "# Unless required by applicable law or agreed to in writing, software\n",
        "# distributed under the License is distributed on an \"AS IS\" BASIS,\n",
        "# WITHOUT WARRANTIES OR CONDITIONS OF ANY KIND, either express or implied.\n",
        "# See the License for the specific language governing permissions and\n",
        "# limitations under the License.\n",
        "# Baseline: https://github.com/GoogleCloudPlatform/generative-ai/blob/main/embeddings/intro-textemb-vectorsearch.ipynb"
      ],
      "execution_count": null,
      "outputs": []
    },
    {
      "cell_type": "markdown",
      "source": [
        "# Getting Started with Text Embeddings + Vertex AI Vector Search"
      ],
      "metadata": {
        "id": "5PU6qTFMddG9"
      },
      "id": "5PU6qTFMddG9"
    },
    {
      "cell_type": "markdown",
      "source": [
        "#### Install Python SDK"
      ],
      "metadata": {
        "id": "BAS8Qfy0dmQd"
      },
      "id": "BAS8Qfy0dmQd"
    },
    {
      "cell_type": "code",
      "source": [
        "%pip install --upgrade --user google-cloud-aiplatform google-cloud-storage 'google-cloud-bigquery[pandas]'"
      ],
      "metadata": {
        "id": "MDfuhJPodZmt"
      },
      "id": "MDfuhJPodZmt",
      "execution_count": null,
      "outputs": []
    },
    {
      "cell_type": "markdown",
      "source": [
        "## Restart current runtime"
      ],
      "metadata": {
        "id": "a65kiXY-dqrw"
      },
      "id": "a65kiXY-dqrw"
    },
    {
      "cell_type": "code",
      "source": [
        "# Restart kernel after installs so that your environment can access the new packages\n",
        "import IPython\n",
        "\n",
        "app = IPython.Application.instance()\n",
        "app.kernel.do_shutdown(True)"
      ],
      "metadata": {
        "colab": {
          "base_uri": "https://localhost:8080/"
        },
        "id": "_-czqR_AdxSI",
        "executionInfo": {
          "status": "ok",
          "timestamp": 1733316223891,
          "user_tz": -540,
          "elapsed": 477,
          "user": {
            "displayName": "",
            "userId": ""
          }
        },
        "outputId": "d342b501-896c-46c4-edc6-47642d47b852"
      },
      "id": "_-czqR_AdxSI",
      "execution_count": null,
      "outputs": [
        {
          "output_type": "execute_result",
          "data": {
            "text/plain": [
              "{'status': 'ok', 'restart': True}"
            ]
          },
          "metadata": {},
          "execution_count": 5
        }
      ]
    },
    {
      "cell_type": "markdown",
      "source": [
        "## Environment variables"
      ],
      "metadata": {
        "id": "2aotKqFkdzwg"
      },
      "id": "2aotKqFkdzwg"
    },
    {
      "cell_type": "code",
      "source": [
        "###### get project ID\n",
        "PROJECT_ID = ! gcloud config get project\n",
        "PROJECT_ID = PROJECT_ID[0]\n",
        "LOCATION = \"us-central1\"\n",
        "if PROJECT_ID == \"(unset)\":\n",
        "    print(f\"Please set the project ID manually below\")"
      ],
      "metadata": {
        "id": "1fhJou1Od1Ym"
      },
      "id": "1fhJou1Od1Ym",
      "execution_count": null,
      "outputs": []
    },
    {
      "cell_type": "code",
      "source": [
        "###### define project information\n",
        "if PROJECT_ID == \"(unset)\":\n",
        "    PROJECT_ID = \"jc-gcp-project\"  # @param {type:\"string\"}\n",
        "\n",
        "# generate an unique id for this session\n",
        "from datetime import datetime\n",
        "\n",
        "UID = datetime.now().strftime(\"%m%d%H%M\")"
      ],
      "metadata": {
        "id": "cOOc2Fbdd6dM"
      },
      "id": "cOOc2Fbdd6dM",
      "execution_count": null,
      "outputs": []
    },
    {
      "cell_type": "markdown",
      "source": [
        "## Enable APIs"
      ],
      "metadata": {
        "id": "_YW_qvzIeDOE"
      },
      "id": "_YW_qvzIeDOE"
    },
    {
      "cell_type": "code",
      "source": [
        "! gcloud services enable compute.googleapis.com aiplatform.googleapis.com storage.googleapis.com bigquery.googleapis.com --project {PROJECT_ID}"
      ],
      "metadata": {
        "id": "HgebxdjTeEfO"
      },
      "id": "HgebxdjTeEfO",
      "execution_count": null,
      "outputs": []
    },
    {
      "cell_type": "markdown",
      "source": [
        "## Data Preparation"
      ],
      "metadata": {
        "id": "0tlr3ZKpeHHd"
      },
      "id": "0tlr3ZKpeHHd"
    },
    {
      "cell_type": "code",
      "source": [
        "###### load the BQ Table into a Pandas DataFrame\n",
        "from google.cloud import bigquery\n",
        "\n",
        "client = bigquery.Client(project=PROJECT_ID)\n",
        "\n",
        "# Perform a query\n",
        "QUERY = (\n",
        "    'select * from `jc-gcp-project.movielens.sample_movies`'\n",
        ")\n",
        "query_job = client.query(QUERY)  # API request\n",
        "rows = query_job.result()  # Waits for query to finish\n",
        "\n",
        "df = rows.to_dataframe()\n",
        "\n",
        "# examine the data\n",
        "df.head()"
      ],
      "metadata": {
        "colab": {
          "base_uri": "https://localhost:8080/",
          "height": 206
        },
        "id": "TbveOq2zeKfr",
        "executionInfo": {
          "status": "ok",
          "timestamp": 1737034953798,
          "user_tz": -540,
          "elapsed": 4222,
          "user": {
            "displayName": "",
            "userId": ""
          }
        },
        "outputId": "d9852a99-8583-41eb-c5f5-8241d3a10b2d"
      },
      "id": "TbveOq2zeKfr",
      "execution_count": null,
      "outputs": [
        {
          "output_type": "execute_result",
          "data": {
            "text/plain": [
              "       id                                              title  popularity  \\\n",
              "0  371085                                          Sharkskin    0.027801   \n",
              "1  198370                                     Mutual Friends    0.136721   \n",
              "2   38786  The Blood of My Brother: A Story of Death in Iraq    0.005256   \n",
              "3  219716                                           Sparkler    0.547654   \n",
              "4  331493                            Light from the Darkroom    0.012942   \n",
              "\n",
              "   vote_average                                           overview genre  \n",
              "0           0.0  The Post War II story of Manhattan born Mike E...  None  \n",
              "1           0.0  Surprise parties rarely go well. This one is n...  None  \n",
              "2           0.0  THE BLOOD OF MY BROTHER goes behind the scenes...  None  \n",
              "3           0.0  Melba is a Californian trailer-park girl who i...  None  \n",
              "4           0.0  Light in the Darkroom is the story of two best...  None  "
            ],
            "text/html": [
              "\n",
              "  <div id=\"df-0312d2a6-1ee1-483f-8304-f6f5bfe06f13\" class=\"colab-df-container\">\n",
              "    <div>\n",
              "<style scoped>\n",
              "    .dataframe tbody tr th:only-of-type {\n",
              "        vertical-align: middle;\n",
              "    }\n",
              "\n",
              "    .dataframe tbody tr th {\n",
              "        vertical-align: top;\n",
              "    }\n",
              "\n",
              "    .dataframe thead th {\n",
              "        text-align: right;\n",
              "    }\n",
              "</style>\n",
              "<table border=\"1\" class=\"dataframe\">\n",
              "  <thead>\n",
              "    <tr style=\"text-align: right;\">\n",
              "      <th></th>\n",
              "      <th>id</th>\n",
              "      <th>title</th>\n",
              "      <th>popularity</th>\n",
              "      <th>vote_average</th>\n",
              "      <th>overview</th>\n",
              "      <th>genre</th>\n",
              "    </tr>\n",
              "  </thead>\n",
              "  <tbody>\n",
              "    <tr>\n",
              "      <th>0</th>\n",
              "      <td>371085</td>\n",
              "      <td>Sharkskin</td>\n",
              "      <td>0.027801</td>\n",
              "      <td>0.0</td>\n",
              "      <td>The Post War II story of Manhattan born Mike E...</td>\n",
              "      <td>None</td>\n",
              "    </tr>\n",
              "    <tr>\n",
              "      <th>1</th>\n",
              "      <td>198370</td>\n",
              "      <td>Mutual Friends</td>\n",
              "      <td>0.136721</td>\n",
              "      <td>0.0</td>\n",
              "      <td>Surprise parties rarely go well. This one is n...</td>\n",
              "      <td>None</td>\n",
              "    </tr>\n",
              "    <tr>\n",
              "      <th>2</th>\n",
              "      <td>38786</td>\n",
              "      <td>The Blood of My Brother: A Story of Death in Iraq</td>\n",
              "      <td>0.005256</td>\n",
              "      <td>0.0</td>\n",
              "      <td>THE BLOOD OF MY BROTHER goes behind the scenes...</td>\n",
              "      <td>None</td>\n",
              "    </tr>\n",
              "    <tr>\n",
              "      <th>3</th>\n",
              "      <td>219716</td>\n",
              "      <td>Sparkler</td>\n",
              "      <td>0.547654</td>\n",
              "      <td>0.0</td>\n",
              "      <td>Melba is a Californian trailer-park girl who i...</td>\n",
              "      <td>None</td>\n",
              "    </tr>\n",
              "    <tr>\n",
              "      <th>4</th>\n",
              "      <td>331493</td>\n",
              "      <td>Light from the Darkroom</td>\n",
              "      <td>0.012942</td>\n",
              "      <td>0.0</td>\n",
              "      <td>Light in the Darkroom is the story of two best...</td>\n",
              "      <td>None</td>\n",
              "    </tr>\n",
              "  </tbody>\n",
              "</table>\n",
              "</div>\n",
              "    <div class=\"colab-df-buttons\">\n",
              "\n",
              "  <div class=\"colab-df-container\">\n",
              "    <button class=\"colab-df-convert\" onclick=\"convertToInteractive('df-0312d2a6-1ee1-483f-8304-f6f5bfe06f13')\"\n",
              "            title=\"Convert this dataframe to an interactive table.\"\n",
              "            style=\"display:none;\">\n",
              "\n",
              "  <svg xmlns=\"http://www.w3.org/2000/svg\" height=\"24px\" viewBox=\"0 -960 960 960\">\n",
              "    <path d=\"M120-120v-720h720v720H120Zm60-500h600v-160H180v160Zm220 220h160v-160H400v160Zm0 220h160v-160H400v160ZM180-400h160v-160H180v160Zm440 0h160v-160H620v160ZM180-180h160v-160H180v160Zm440 0h160v-160H620v160Z\"/>\n",
              "  </svg>\n",
              "    </button>\n",
              "\n",
              "  <style>\n",
              "    .colab-df-container {\n",
              "      display:flex;\n",
              "      gap: 12px;\n",
              "    }\n",
              "\n",
              "    .colab-df-convert {\n",
              "      background-color: #E8F0FE;\n",
              "      border: none;\n",
              "      border-radius: 50%;\n",
              "      cursor: pointer;\n",
              "      display: none;\n",
              "      fill: #1967D2;\n",
              "      height: 32px;\n",
              "      padding: 0 0 0 0;\n",
              "      width: 32px;\n",
              "    }\n",
              "\n",
              "    .colab-df-convert:hover {\n",
              "      background-color: #E2EBFA;\n",
              "      box-shadow: 0px 1px 2px rgba(60, 64, 67, 0.3), 0px 1px 3px 1px rgba(60, 64, 67, 0.15);\n",
              "      fill: #174EA6;\n",
              "    }\n",
              "\n",
              "    .colab-df-buttons div {\n",
              "      margin-bottom: 4px;\n",
              "    }\n",
              "\n",
              "    [theme=dark] .colab-df-convert {\n",
              "      background-color: #3B4455;\n",
              "      fill: #D2E3FC;\n",
              "    }\n",
              "\n",
              "    [theme=dark] .colab-df-convert:hover {\n",
              "      background-color: #434B5C;\n",
              "      box-shadow: 0px 1px 3px 1px rgba(0, 0, 0, 0.15);\n",
              "      filter: drop-shadow(0px 1px 2px rgba(0, 0, 0, 0.3));\n",
              "      fill: #FFFFFF;\n",
              "    }\n",
              "  </style>\n",
              "\n",
              "    <script>\n",
              "      const buttonEl =\n",
              "        document.querySelector('#df-0312d2a6-1ee1-483f-8304-f6f5bfe06f13 button.colab-df-convert');\n",
              "      buttonEl.style.display =\n",
              "        google.colab.kernel.accessAllowed ? 'block' : 'none';\n",
              "\n",
              "      async function convertToInteractive(key) {\n",
              "        const element = document.querySelector('#df-0312d2a6-1ee1-483f-8304-f6f5bfe06f13');\n",
              "        const dataTable =\n",
              "          await google.colab.kernel.invokeFunction('convertToInteractive',\n",
              "                                                    [key], {});\n",
              "        if (!dataTable) return;\n",
              "\n",
              "        const docLinkHtml = 'Like what you see? Visit the ' +\n",
              "          '<a target=\"_blank\" href=https://colab.research.google.com/notebooks/data_table.ipynb>data table notebook</a>'\n",
              "          + ' to learn more about interactive tables.';\n",
              "        element.innerHTML = '';\n",
              "        dataTable['output_type'] = 'display_data';\n",
              "        await google.colab.output.renderOutput(dataTable, element);\n",
              "        const docLink = document.createElement('div');\n",
              "        docLink.innerHTML = docLinkHtml;\n",
              "        element.appendChild(docLink);\n",
              "      }\n",
              "    </script>\n",
              "  </div>\n",
              "\n",
              "\n",
              "<div id=\"df-2e9f3f15-90d0-4c09-a5d6-096a8de4a1a8\">\n",
              "  <button class=\"colab-df-quickchart\" onclick=\"quickchart('df-2e9f3f15-90d0-4c09-a5d6-096a8de4a1a8')\"\n",
              "            title=\"Suggest charts\"\n",
              "            style=\"display:none;\">\n",
              "\n",
              "<svg xmlns=\"http://www.w3.org/2000/svg\" height=\"24px\"viewBox=\"0 0 24 24\"\n",
              "     width=\"24px\">\n",
              "    <g>\n",
              "        <path d=\"M19 3H5c-1.1 0-2 .9-2 2v14c0 1.1.9 2 2 2h14c1.1 0 2-.9 2-2V5c0-1.1-.9-2-2-2zM9 17H7v-7h2v7zm4 0h-2V7h2v10zm4 0h-2v-4h2v4z\"/>\n",
              "    </g>\n",
              "</svg>\n",
              "  </button>\n",
              "\n",
              "<style>\n",
              "  .colab-df-quickchart {\n",
              "      --bg-color: #E8F0FE;\n",
              "      --fill-color: #1967D2;\n",
              "      --hover-bg-color: #E2EBFA;\n",
              "      --hover-fill-color: #174EA6;\n",
              "      --disabled-fill-color: #AAA;\n",
              "      --disabled-bg-color: #DDD;\n",
              "  }\n",
              "\n",
              "  [theme=dark] .colab-df-quickchart {\n",
              "      --bg-color: #3B4455;\n",
              "      --fill-color: #D2E3FC;\n",
              "      --hover-bg-color: #434B5C;\n",
              "      --hover-fill-color: #FFFFFF;\n",
              "      --disabled-bg-color: #3B4455;\n",
              "      --disabled-fill-color: #666;\n",
              "  }\n",
              "\n",
              "  .colab-df-quickchart {\n",
              "    background-color: var(--bg-color);\n",
              "    border: none;\n",
              "    border-radius: 50%;\n",
              "    cursor: pointer;\n",
              "    display: none;\n",
              "    fill: var(--fill-color);\n",
              "    height: 32px;\n",
              "    padding: 0;\n",
              "    width: 32px;\n",
              "  }\n",
              "\n",
              "  .colab-df-quickchart:hover {\n",
              "    background-color: var(--hover-bg-color);\n",
              "    box-shadow: 0 1px 2px rgba(60, 64, 67, 0.3), 0 1px 3px 1px rgba(60, 64, 67, 0.15);\n",
              "    fill: var(--button-hover-fill-color);\n",
              "  }\n",
              "\n",
              "  .colab-df-quickchart-complete:disabled,\n",
              "  .colab-df-quickchart-complete:disabled:hover {\n",
              "    background-color: var(--disabled-bg-color);\n",
              "    fill: var(--disabled-fill-color);\n",
              "    box-shadow: none;\n",
              "  }\n",
              "\n",
              "  .colab-df-spinner {\n",
              "    border: 2px solid var(--fill-color);\n",
              "    border-color: transparent;\n",
              "    border-bottom-color: var(--fill-color);\n",
              "    animation:\n",
              "      spin 1s steps(1) infinite;\n",
              "  }\n",
              "\n",
              "  @keyframes spin {\n",
              "    0% {\n",
              "      border-color: transparent;\n",
              "      border-bottom-color: var(--fill-color);\n",
              "      border-left-color: var(--fill-color);\n",
              "    }\n",
              "    20% {\n",
              "      border-color: transparent;\n",
              "      border-left-color: var(--fill-color);\n",
              "      border-top-color: var(--fill-color);\n",
              "    }\n",
              "    30% {\n",
              "      border-color: transparent;\n",
              "      border-left-color: var(--fill-color);\n",
              "      border-top-color: var(--fill-color);\n",
              "      border-right-color: var(--fill-color);\n",
              "    }\n",
              "    40% {\n",
              "      border-color: transparent;\n",
              "      border-right-color: var(--fill-color);\n",
              "      border-top-color: var(--fill-color);\n",
              "    }\n",
              "    60% {\n",
              "      border-color: transparent;\n",
              "      border-right-color: var(--fill-color);\n",
              "    }\n",
              "    80% {\n",
              "      border-color: transparent;\n",
              "      border-right-color: var(--fill-color);\n",
              "      border-bottom-color: var(--fill-color);\n",
              "    }\n",
              "    90% {\n",
              "      border-color: transparent;\n",
              "      border-bottom-color: var(--fill-color);\n",
              "    }\n",
              "  }\n",
              "</style>\n",
              "\n",
              "  <script>\n",
              "    async function quickchart(key) {\n",
              "      const quickchartButtonEl =\n",
              "        document.querySelector('#' + key + ' button');\n",
              "      quickchartButtonEl.disabled = true;  // To prevent multiple clicks.\n",
              "      quickchartButtonEl.classList.add('colab-df-spinner');\n",
              "      try {\n",
              "        const charts = await google.colab.kernel.invokeFunction(\n",
              "            'suggestCharts', [key], {});\n",
              "      } catch (error) {\n",
              "        console.error('Error during call to suggestCharts:', error);\n",
              "      }\n",
              "      quickchartButtonEl.classList.remove('colab-df-spinner');\n",
              "      quickchartButtonEl.classList.add('colab-df-quickchart-complete');\n",
              "    }\n",
              "    (() => {\n",
              "      let quickchartButtonEl =\n",
              "        document.querySelector('#df-2e9f3f15-90d0-4c09-a5d6-096a8de4a1a8 button');\n",
              "      quickchartButtonEl.style.display =\n",
              "        google.colab.kernel.accessAllowed ? 'block' : 'none';\n",
              "    })();\n",
              "  </script>\n",
              "</div>\n",
              "    </div>\n",
              "  </div>\n"
            ]
          },
          "metadata": {},
          "execution_count": 3
        }
      ]
    },
    {
      "cell_type": "code",
      "source": [
        "len(df)"
      ],
      "metadata": {
        "colab": {
          "base_uri": "https://localhost:8080/"
        },
        "id": "_mmVYLGPUsHR",
        "executionInfo": {
          "status": "ok",
          "timestamp": 1737034958767,
          "user_tz": -540,
          "elapsed": 495,
          "user": {
            "displayName": "",
            "userId": ""
          }
        },
        "outputId": "1f94eecd-f771-4a2a-f0a7-2fd9ba978194"
      },
      "id": "_mmVYLGPUsHR",
      "execution_count": null,
      "outputs": [
        {
          "output_type": "execute_result",
          "data": {
            "text/plain": [
              "4803"
            ]
          },
          "metadata": {},
          "execution_count": 4
        }
      ]
    },
    {
      "cell_type": "code",
      "source": [
        "df.isna().sum()"
      ],
      "metadata": {
        "colab": {
          "base_uri": "https://localhost:8080/",
          "height": 272
        },
        "id": "mEzTnWF5WjMI",
        "executionInfo": {
          "status": "ok",
          "timestamp": 1737034973119,
          "user_tz": -540,
          "elapsed": 433,
          "user": {
            "displayName": "",
            "userId": ""
          }
        },
        "outputId": "319235c6-02ee-44dc-9d0a-e0c09bc1fa96"
      },
      "id": "mEzTnWF5WjMI",
      "execution_count": null,
      "outputs": [
        {
          "output_type": "execute_result",
          "data": {
            "text/plain": [
              "id               0\n",
              "title            0\n",
              "popularity       0\n",
              "vote_average     0\n",
              "overview         3\n",
              "genre           28\n",
              "dtype: int64"
            ],
            "text/html": [
              "<div>\n",
              "<style scoped>\n",
              "    .dataframe tbody tr th:only-of-type {\n",
              "        vertical-align: middle;\n",
              "    }\n",
              "\n",
              "    .dataframe tbody tr th {\n",
              "        vertical-align: top;\n",
              "    }\n",
              "\n",
              "    .dataframe thead th {\n",
              "        text-align: right;\n",
              "    }\n",
              "</style>\n",
              "<table border=\"1\" class=\"dataframe\">\n",
              "  <thead>\n",
              "    <tr style=\"text-align: right;\">\n",
              "      <th></th>\n",
              "      <th>0</th>\n",
              "    </tr>\n",
              "  </thead>\n",
              "  <tbody>\n",
              "    <tr>\n",
              "      <th>id</th>\n",
              "      <td>0</td>\n",
              "    </tr>\n",
              "    <tr>\n",
              "      <th>title</th>\n",
              "      <td>0</td>\n",
              "    </tr>\n",
              "    <tr>\n",
              "      <th>popularity</th>\n",
              "      <td>0</td>\n",
              "    </tr>\n",
              "    <tr>\n",
              "      <th>vote_average</th>\n",
              "      <td>0</td>\n",
              "    </tr>\n",
              "    <tr>\n",
              "      <th>overview</th>\n",
              "      <td>3</td>\n",
              "    </tr>\n",
              "    <tr>\n",
              "      <th>genre</th>\n",
              "      <td>28</td>\n",
              "    </tr>\n",
              "  </tbody>\n",
              "</table>\n",
              "</div><br><label><b>dtype:</b> int64</label>"
            ]
          },
          "metadata": {},
          "execution_count": 5
        }
      ]
    },
    {
      "cell_type": "code",
      "source": [
        "# Remove NA\n",
        "df['overview'] = df['overview'].fillna('')\n",
        "df['genre'] = df['genre'].fillna('')"
      ],
      "metadata": {
        "id": "-PQgtI72oShB"
      },
      "id": "-PQgtI72oShB",
      "execution_count": null,
      "outputs": []
    },
    {
      "cell_type": "code",
      "source": [
        "df[df['title'] == 'Avatar']"
      ],
      "metadata": {
        "colab": {
          "base_uri": "https://localhost:8080/",
          "height": 81
        },
        "id": "1e3MYzyUgX0r",
        "executionInfo": {
          "status": "ok",
          "timestamp": 1737034985572,
          "user_tz": -540,
          "elapsed": 5,
          "user": {
            "displayName": "",
            "userId": ""
          }
        },
        "outputId": "228f5846-26b2-4fd1-b0a5-11312c462688"
      },
      "id": "1e3MYzyUgX0r",
      "execution_count": null,
      "outputs": [
        {
          "output_type": "execute_result",
          "data": {
            "text/plain": [
              "         id   title  popularity  vote_average  \\\n",
              "2228  19995  Avatar  150.437577           7.2   \n",
              "\n",
              "                                               overview   genre  \n",
              "2228  In the 22nd century, a paraplegic Marine is di...  Action  "
            ],
            "text/html": [
              "\n",
              "  <div id=\"df-d7dd4319-e061-42d9-982c-179a0470d997\" class=\"colab-df-container\">\n",
              "    <div>\n",
              "<style scoped>\n",
              "    .dataframe tbody tr th:only-of-type {\n",
              "        vertical-align: middle;\n",
              "    }\n",
              "\n",
              "    .dataframe tbody tr th {\n",
              "        vertical-align: top;\n",
              "    }\n",
              "\n",
              "    .dataframe thead th {\n",
              "        text-align: right;\n",
              "    }\n",
              "</style>\n",
              "<table border=\"1\" class=\"dataframe\">\n",
              "  <thead>\n",
              "    <tr style=\"text-align: right;\">\n",
              "      <th></th>\n",
              "      <th>id</th>\n",
              "      <th>title</th>\n",
              "      <th>popularity</th>\n",
              "      <th>vote_average</th>\n",
              "      <th>overview</th>\n",
              "      <th>genre</th>\n",
              "    </tr>\n",
              "  </thead>\n",
              "  <tbody>\n",
              "    <tr>\n",
              "      <th>2228</th>\n",
              "      <td>19995</td>\n",
              "      <td>Avatar</td>\n",
              "      <td>150.437577</td>\n",
              "      <td>7.2</td>\n",
              "      <td>In the 22nd century, a paraplegic Marine is di...</td>\n",
              "      <td>Action</td>\n",
              "    </tr>\n",
              "  </tbody>\n",
              "</table>\n",
              "</div>\n",
              "    <div class=\"colab-df-buttons\">\n",
              "\n",
              "  <div class=\"colab-df-container\">\n",
              "    <button class=\"colab-df-convert\" onclick=\"convertToInteractive('df-d7dd4319-e061-42d9-982c-179a0470d997')\"\n",
              "            title=\"Convert this dataframe to an interactive table.\"\n",
              "            style=\"display:none;\">\n",
              "\n",
              "  <svg xmlns=\"http://www.w3.org/2000/svg\" height=\"24px\" viewBox=\"0 -960 960 960\">\n",
              "    <path d=\"M120-120v-720h720v720H120Zm60-500h600v-160H180v160Zm220 220h160v-160H400v160Zm0 220h160v-160H400v160ZM180-400h160v-160H180v160Zm440 0h160v-160H620v160ZM180-180h160v-160H180v160Zm440 0h160v-160H620v160Z\"/>\n",
              "  </svg>\n",
              "    </button>\n",
              "\n",
              "  <style>\n",
              "    .colab-df-container {\n",
              "      display:flex;\n",
              "      gap: 12px;\n",
              "    }\n",
              "\n",
              "    .colab-df-convert {\n",
              "      background-color: #E8F0FE;\n",
              "      border: none;\n",
              "      border-radius: 50%;\n",
              "      cursor: pointer;\n",
              "      display: none;\n",
              "      fill: #1967D2;\n",
              "      height: 32px;\n",
              "      padding: 0 0 0 0;\n",
              "      width: 32px;\n",
              "    }\n",
              "\n",
              "    .colab-df-convert:hover {\n",
              "      background-color: #E2EBFA;\n",
              "      box-shadow: 0px 1px 2px rgba(60, 64, 67, 0.3), 0px 1px 3px 1px rgba(60, 64, 67, 0.15);\n",
              "      fill: #174EA6;\n",
              "    }\n",
              "\n",
              "    .colab-df-buttons div {\n",
              "      margin-bottom: 4px;\n",
              "    }\n",
              "\n",
              "    [theme=dark] .colab-df-convert {\n",
              "      background-color: #3B4455;\n",
              "      fill: #D2E3FC;\n",
              "    }\n",
              "\n",
              "    [theme=dark] .colab-df-convert:hover {\n",
              "      background-color: #434B5C;\n",
              "      box-shadow: 0px 1px 3px 1px rgba(0, 0, 0, 0.15);\n",
              "      filter: drop-shadow(0px 1px 2px rgba(0, 0, 0, 0.3));\n",
              "      fill: #FFFFFF;\n",
              "    }\n",
              "  </style>\n",
              "\n",
              "    <script>\n",
              "      const buttonEl =\n",
              "        document.querySelector('#df-d7dd4319-e061-42d9-982c-179a0470d997 button.colab-df-convert');\n",
              "      buttonEl.style.display =\n",
              "        google.colab.kernel.accessAllowed ? 'block' : 'none';\n",
              "\n",
              "      async function convertToInteractive(key) {\n",
              "        const element = document.querySelector('#df-d7dd4319-e061-42d9-982c-179a0470d997');\n",
              "        const dataTable =\n",
              "          await google.colab.kernel.invokeFunction('convertToInteractive',\n",
              "                                                    [key], {});\n",
              "        if (!dataTable) return;\n",
              "\n",
              "        const docLinkHtml = 'Like what you see? Visit the ' +\n",
              "          '<a target=\"_blank\" href=https://colab.research.google.com/notebooks/data_table.ipynb>data table notebook</a>'\n",
              "          + ' to learn more about interactive tables.';\n",
              "        element.innerHTML = '';\n",
              "        dataTable['output_type'] = 'display_data';\n",
              "        await google.colab.output.renderOutput(dataTable, element);\n",
              "        const docLink = document.createElement('div');\n",
              "        docLink.innerHTML = docLinkHtml;\n",
              "        element.appendChild(docLink);\n",
              "      }\n",
              "    </script>\n",
              "  </div>\n",
              "\n",
              "    </div>\n",
              "  </div>\n"
            ]
          },
          "metadata": {},
          "execution_count": 7
        }
      ]
    },
    {
      "cell_type": "markdown",
      "source": [
        "## Call the API to generate embeddings"
      ],
      "metadata": {
        "id": "vm53l6zVglsB"
      },
      "id": "vm53l6zVglsB"
    },
    {
      "cell_type": "code",
      "source": [
        "###### init the vertexai package\n",
        "import vertexai\n",
        "\n",
        "vertexai.init(project=PROJECT_ID, location=LOCATION)"
      ],
      "metadata": {
        "id": "AGXe7wFsgcLX"
      },
      "id": "AGXe7wFsgcLX",
      "execution_count": null,
      "outputs": []
    },
    {
      "cell_type": "code",
      "source": [
        "###### Load the text embeddings model\n",
        "from vertexai.language_models import TextEmbeddingModel\n",
        "\n",
        "model = TextEmbeddingModel.from_pretrained(\"textembedding-gecko-multilingual@001\")"
      ],
      "metadata": {
        "id": "i8_GfVfNgnVe"
      },
      "id": "i8_GfVfNgnVe",
      "execution_count": null,
      "outputs": []
    },
    {
      "cell_type": "markdown",
      "source": [
        "## API Usage Quota"
      ],
      "metadata": {
        "id": "71Kdq0MuhSba"
      },
      "id": "71Kdq0MuhSba"
    },
    {
      "cell_type": "code",
      "source": [
        "###### Functions\n",
        "\n",
        "import time\n",
        "\n",
        "import tqdm  # to show a progress bar\n",
        "\n",
        "# get embeddings for a list of texts\n",
        "BATCH_SIZE = 5\n",
        "\n",
        "\n",
        "def get_embeddings_wrapper(texts):\n",
        "    embs = []\n",
        "    for i in tqdm.tqdm(range(0, len(texts), BATCH_SIZE)):\n",
        "        time.sleep(1)  # to avoid the quota error\n",
        "        result = model.get_embeddings(texts[i : i + BATCH_SIZE])\n",
        "        embs = embs + [e.values for e in result]\n",
        "    return embs"
      ],
      "metadata": {
        "id": "G_TY0C5lhS16"
      },
      "id": "G_TY0C5lhS16",
      "execution_count": null,
      "outputs": []
    },
    {
      "cell_type": "code",
      "source": [
        "df['text'] = '\"title\" : ' + df['title'].astype(\"string\") + ', \"popularity\" : ' + df['popularity'].astype(\"string\") + ', \"vote_average\"' + df['vote_average'].astype(\"string\") + ', \"genre\" : ' + df['genre'].astype(\"string\") + ', \"overview\" : ' + df['overview'].astype(\"string\")"
      ],
      "metadata": {
        "id": "fZwTZkYSmyTt"
      },
      "id": "fZwTZkYSmyTt",
      "execution_count": null,
      "outputs": []
    },
    {
      "cell_type": "code",
      "source": [
        "# get embeddings for the question titles and add them as \"embedding\" column\n",
        "df = df.assign(embedding=get_embeddings_wrapper(list(df.text)))\n",
        "df.head()"
      ],
      "metadata": {
        "colab": {
          "base_uri": "https://localhost:8080/",
          "height": 397
        },
        "id": "LbITSPwTiCOi",
        "executionInfo": {
          "status": "ok",
          "timestamp": 1737036084401,
          "user_tz": -540,
          "elapsed": 1052018,
          "user": {
            "displayName": "",
            "userId": ""
          }
        },
        "outputId": "a2267032-ff27-42e2-c214-1248c8acdea7"
      },
      "id": "LbITSPwTiCOi",
      "execution_count": null,
      "outputs": [
        {
          "output_type": "stream",
          "name": "stderr",
          "text": [
            "100%|██████████| 961/961 [17:31<00:00,  1.09s/it]\n"
          ]
        },
        {
          "output_type": "execute_result",
          "data": {
            "text/plain": [
              "       id                                              title  popularity  \\\n",
              "0  371085                                          Sharkskin    0.027801   \n",
              "1  198370                                     Mutual Friends    0.136721   \n",
              "2   38786  The Blood of My Brother: A Story of Death in Iraq    0.005256   \n",
              "3  219716                                           Sparkler    0.547654   \n",
              "4  331493                            Light from the Darkroom    0.012942   \n",
              "\n",
              "   vote_average                                           overview genre  \\\n",
              "0           0.0  The Post War II story of Manhattan born Mike E...         \n",
              "1           0.0  Surprise parties rarely go well. This one is n...         \n",
              "2           0.0  THE BLOOD OF MY BROTHER goes behind the scenes...         \n",
              "3           0.0  Melba is a Californian trailer-park girl who i...         \n",
              "4           0.0  Light in the Darkroom is the story of two best...         \n",
              "\n",
              "                                                text  \\\n",
              "0  \"title\" : Sharkskin, \"popularity\" : 0.027801, ...   \n",
              "1  \"title\" : Mutual Friends, \"popularity\" : 0.136...   \n",
              "2  \"title\" : The Blood of My Brother: A Story of ...   \n",
              "3  \"title\" : Sparkler, \"popularity\" : 0.547654, \"...   \n",
              "4  \"title\" : Light from the Darkroom, \"popularity...   \n",
              "\n",
              "                                           embedding  \n",
              "0  [0.015336157754063606, -0.038394711911678314, ...  \n",
              "1  [0.009683111682534218, -0.04617595672607422, 0...  \n",
              "2  [-0.029223162680864334, -0.033517830073833466,...  \n",
              "3  [0.04448612406849861, -0.0565938837826252, 0.0...  \n",
              "4  [-0.02965383604168892, -0.05053010955452919, 0...  "
            ],
            "text/html": [
              "\n",
              "  <div id=\"df-627cfcfd-9cfb-46d2-876a-e8f3d9d60b38\" class=\"colab-df-container\">\n",
              "    <div>\n",
              "<style scoped>\n",
              "    .dataframe tbody tr th:only-of-type {\n",
              "        vertical-align: middle;\n",
              "    }\n",
              "\n",
              "    .dataframe tbody tr th {\n",
              "        vertical-align: top;\n",
              "    }\n",
              "\n",
              "    .dataframe thead th {\n",
              "        text-align: right;\n",
              "    }\n",
              "</style>\n",
              "<table border=\"1\" class=\"dataframe\">\n",
              "  <thead>\n",
              "    <tr style=\"text-align: right;\">\n",
              "      <th></th>\n",
              "      <th>id</th>\n",
              "      <th>title</th>\n",
              "      <th>popularity</th>\n",
              "      <th>vote_average</th>\n",
              "      <th>overview</th>\n",
              "      <th>genre</th>\n",
              "      <th>text</th>\n",
              "      <th>embedding</th>\n",
              "    </tr>\n",
              "  </thead>\n",
              "  <tbody>\n",
              "    <tr>\n",
              "      <th>0</th>\n",
              "      <td>371085</td>\n",
              "      <td>Sharkskin</td>\n",
              "      <td>0.027801</td>\n",
              "      <td>0.0</td>\n",
              "      <td>The Post War II story of Manhattan born Mike E...</td>\n",
              "      <td></td>\n",
              "      <td>\"title\" : Sharkskin, \"popularity\" : 0.027801, ...</td>\n",
              "      <td>[0.015336157754063606, -0.038394711911678314, ...</td>\n",
              "    </tr>\n",
              "    <tr>\n",
              "      <th>1</th>\n",
              "      <td>198370</td>\n",
              "      <td>Mutual Friends</td>\n",
              "      <td>0.136721</td>\n",
              "      <td>0.0</td>\n",
              "      <td>Surprise parties rarely go well. This one is n...</td>\n",
              "      <td></td>\n",
              "      <td>\"title\" : Mutual Friends, \"popularity\" : 0.136...</td>\n",
              "      <td>[0.009683111682534218, -0.04617595672607422, 0...</td>\n",
              "    </tr>\n",
              "    <tr>\n",
              "      <th>2</th>\n",
              "      <td>38786</td>\n",
              "      <td>The Blood of My Brother: A Story of Death in Iraq</td>\n",
              "      <td>0.005256</td>\n",
              "      <td>0.0</td>\n",
              "      <td>THE BLOOD OF MY BROTHER goes behind the scenes...</td>\n",
              "      <td></td>\n",
              "      <td>\"title\" : The Blood of My Brother: A Story of ...</td>\n",
              "      <td>[-0.029223162680864334, -0.033517830073833466,...</td>\n",
              "    </tr>\n",
              "    <tr>\n",
              "      <th>3</th>\n",
              "      <td>219716</td>\n",
              "      <td>Sparkler</td>\n",
              "      <td>0.547654</td>\n",
              "      <td>0.0</td>\n",
              "      <td>Melba is a Californian trailer-park girl who i...</td>\n",
              "      <td></td>\n",
              "      <td>\"title\" : Sparkler, \"popularity\" : 0.547654, \"...</td>\n",
              "      <td>[0.04448612406849861, -0.0565938837826252, 0.0...</td>\n",
              "    </tr>\n",
              "    <tr>\n",
              "      <th>4</th>\n",
              "      <td>331493</td>\n",
              "      <td>Light from the Darkroom</td>\n",
              "      <td>0.012942</td>\n",
              "      <td>0.0</td>\n",
              "      <td>Light in the Darkroom is the story of two best...</td>\n",
              "      <td></td>\n",
              "      <td>\"title\" : Light from the Darkroom, \"popularity...</td>\n",
              "      <td>[-0.02965383604168892, -0.05053010955452919, 0...</td>\n",
              "    </tr>\n",
              "  </tbody>\n",
              "</table>\n",
              "</div>\n",
              "    <div class=\"colab-df-buttons\">\n",
              "\n",
              "  <div class=\"colab-df-container\">\n",
              "    <button class=\"colab-df-convert\" onclick=\"convertToInteractive('df-627cfcfd-9cfb-46d2-876a-e8f3d9d60b38')\"\n",
              "            title=\"Convert this dataframe to an interactive table.\"\n",
              "            style=\"display:none;\">\n",
              "\n",
              "  <svg xmlns=\"http://www.w3.org/2000/svg\" height=\"24px\" viewBox=\"0 -960 960 960\">\n",
              "    <path d=\"M120-120v-720h720v720H120Zm60-500h600v-160H180v160Zm220 220h160v-160H400v160Zm0 220h160v-160H400v160ZM180-400h160v-160H180v160Zm440 0h160v-160H620v160ZM180-180h160v-160H180v160Zm440 0h160v-160H620v160Z\"/>\n",
              "  </svg>\n",
              "    </button>\n",
              "\n",
              "  <style>\n",
              "    .colab-df-container {\n",
              "      display:flex;\n",
              "      gap: 12px;\n",
              "    }\n",
              "\n",
              "    .colab-df-convert {\n",
              "      background-color: #E8F0FE;\n",
              "      border: none;\n",
              "      border-radius: 50%;\n",
              "      cursor: pointer;\n",
              "      display: none;\n",
              "      fill: #1967D2;\n",
              "      height: 32px;\n",
              "      padding: 0 0 0 0;\n",
              "      width: 32px;\n",
              "    }\n",
              "\n",
              "    .colab-df-convert:hover {\n",
              "      background-color: #E2EBFA;\n",
              "      box-shadow: 0px 1px 2px rgba(60, 64, 67, 0.3), 0px 1px 3px 1px rgba(60, 64, 67, 0.15);\n",
              "      fill: #174EA6;\n",
              "    }\n",
              "\n",
              "    .colab-df-buttons div {\n",
              "      margin-bottom: 4px;\n",
              "    }\n",
              "\n",
              "    [theme=dark] .colab-df-convert {\n",
              "      background-color: #3B4455;\n",
              "      fill: #D2E3FC;\n",
              "    }\n",
              "\n",
              "    [theme=dark] .colab-df-convert:hover {\n",
              "      background-color: #434B5C;\n",
              "      box-shadow: 0px 1px 3px 1px rgba(0, 0, 0, 0.15);\n",
              "      filter: drop-shadow(0px 1px 2px rgba(0, 0, 0, 0.3));\n",
              "      fill: #FFFFFF;\n",
              "    }\n",
              "  </style>\n",
              "\n",
              "    <script>\n",
              "      const buttonEl =\n",
              "        document.querySelector('#df-627cfcfd-9cfb-46d2-876a-e8f3d9d60b38 button.colab-df-convert');\n",
              "      buttonEl.style.display =\n",
              "        google.colab.kernel.accessAllowed ? 'block' : 'none';\n",
              "\n",
              "      async function convertToInteractive(key) {\n",
              "        const element = document.querySelector('#df-627cfcfd-9cfb-46d2-876a-e8f3d9d60b38');\n",
              "        const dataTable =\n",
              "          await google.colab.kernel.invokeFunction('convertToInteractive',\n",
              "                                                    [key], {});\n",
              "        if (!dataTable) return;\n",
              "\n",
              "        const docLinkHtml = 'Like what you see? Visit the ' +\n",
              "          '<a target=\"_blank\" href=https://colab.research.google.com/notebooks/data_table.ipynb>data table notebook</a>'\n",
              "          + ' to learn more about interactive tables.';\n",
              "        element.innerHTML = '';\n",
              "        dataTable['output_type'] = 'display_data';\n",
              "        await google.colab.output.renderOutput(dataTable, element);\n",
              "        const docLink = document.createElement('div');\n",
              "        docLink.innerHTML = docLinkHtml;\n",
              "        element.appendChild(docLink);\n",
              "      }\n",
              "    </script>\n",
              "  </div>\n",
              "\n",
              "\n",
              "<div id=\"df-53b9dab9-f4e2-4aee-99d7-c9eb83415247\">\n",
              "  <button class=\"colab-df-quickchart\" onclick=\"quickchart('df-53b9dab9-f4e2-4aee-99d7-c9eb83415247')\"\n",
              "            title=\"Suggest charts\"\n",
              "            style=\"display:none;\">\n",
              "\n",
              "<svg xmlns=\"http://www.w3.org/2000/svg\" height=\"24px\"viewBox=\"0 0 24 24\"\n",
              "     width=\"24px\">\n",
              "    <g>\n",
              "        <path d=\"M19 3H5c-1.1 0-2 .9-2 2v14c0 1.1.9 2 2 2h14c1.1 0 2-.9 2-2V5c0-1.1-.9-2-2-2zM9 17H7v-7h2v7zm4 0h-2V7h2v10zm4 0h-2v-4h2v4z\"/>\n",
              "    </g>\n",
              "</svg>\n",
              "  </button>\n",
              "\n",
              "<style>\n",
              "  .colab-df-quickchart {\n",
              "      --bg-color: #E8F0FE;\n",
              "      --fill-color: #1967D2;\n",
              "      --hover-bg-color: #E2EBFA;\n",
              "      --hover-fill-color: #174EA6;\n",
              "      --disabled-fill-color: #AAA;\n",
              "      --disabled-bg-color: #DDD;\n",
              "  }\n",
              "\n",
              "  [theme=dark] .colab-df-quickchart {\n",
              "      --bg-color: #3B4455;\n",
              "      --fill-color: #D2E3FC;\n",
              "      --hover-bg-color: #434B5C;\n",
              "      --hover-fill-color: #FFFFFF;\n",
              "      --disabled-bg-color: #3B4455;\n",
              "      --disabled-fill-color: #666;\n",
              "  }\n",
              "\n",
              "  .colab-df-quickchart {\n",
              "    background-color: var(--bg-color);\n",
              "    border: none;\n",
              "    border-radius: 50%;\n",
              "    cursor: pointer;\n",
              "    display: none;\n",
              "    fill: var(--fill-color);\n",
              "    height: 32px;\n",
              "    padding: 0;\n",
              "    width: 32px;\n",
              "  }\n",
              "\n",
              "  .colab-df-quickchart:hover {\n",
              "    background-color: var(--hover-bg-color);\n",
              "    box-shadow: 0 1px 2px rgba(60, 64, 67, 0.3), 0 1px 3px 1px rgba(60, 64, 67, 0.15);\n",
              "    fill: var(--button-hover-fill-color);\n",
              "  }\n",
              "\n",
              "  .colab-df-quickchart-complete:disabled,\n",
              "  .colab-df-quickchart-complete:disabled:hover {\n",
              "    background-color: var(--disabled-bg-color);\n",
              "    fill: var(--disabled-fill-color);\n",
              "    box-shadow: none;\n",
              "  }\n",
              "\n",
              "  .colab-df-spinner {\n",
              "    border: 2px solid var(--fill-color);\n",
              "    border-color: transparent;\n",
              "    border-bottom-color: var(--fill-color);\n",
              "    animation:\n",
              "      spin 1s steps(1) infinite;\n",
              "  }\n",
              "\n",
              "  @keyframes spin {\n",
              "    0% {\n",
              "      border-color: transparent;\n",
              "      border-bottom-color: var(--fill-color);\n",
              "      border-left-color: var(--fill-color);\n",
              "    }\n",
              "    20% {\n",
              "      border-color: transparent;\n",
              "      border-left-color: var(--fill-color);\n",
              "      border-top-color: var(--fill-color);\n",
              "    }\n",
              "    30% {\n",
              "      border-color: transparent;\n",
              "      border-left-color: var(--fill-color);\n",
              "      border-top-color: var(--fill-color);\n",
              "      border-right-color: var(--fill-color);\n",
              "    }\n",
              "    40% {\n",
              "      border-color: transparent;\n",
              "      border-right-color: var(--fill-color);\n",
              "      border-top-color: var(--fill-color);\n",
              "    }\n",
              "    60% {\n",
              "      border-color: transparent;\n",
              "      border-right-color: var(--fill-color);\n",
              "    }\n",
              "    80% {\n",
              "      border-color: transparent;\n",
              "      border-right-color: var(--fill-color);\n",
              "      border-bottom-color: var(--fill-color);\n",
              "    }\n",
              "    90% {\n",
              "      border-color: transparent;\n",
              "      border-bottom-color: var(--fill-color);\n",
              "    }\n",
              "  }\n",
              "</style>\n",
              "\n",
              "  <script>\n",
              "    async function quickchart(key) {\n",
              "      const quickchartButtonEl =\n",
              "        document.querySelector('#' + key + ' button');\n",
              "      quickchartButtonEl.disabled = true;  // To prevent multiple clicks.\n",
              "      quickchartButtonEl.classList.add('colab-df-spinner');\n",
              "      try {\n",
              "        const charts = await google.colab.kernel.invokeFunction(\n",
              "            'suggestCharts', [key], {});\n",
              "      } catch (error) {\n",
              "        console.error('Error during call to suggestCharts:', error);\n",
              "      }\n",
              "      quickchartButtonEl.classList.remove('colab-df-spinner');\n",
              "      quickchartButtonEl.classList.add('colab-df-quickchart-complete');\n",
              "    }\n",
              "    (() => {\n",
              "      let quickchartButtonEl =\n",
              "        document.querySelector('#df-53b9dab9-f4e2-4aee-99d7-c9eb83415247 button');\n",
              "      quickchartButtonEl.style.display =\n",
              "        google.colab.kernel.accessAllowed ? 'block' : 'none';\n",
              "    })();\n",
              "  </script>\n",
              "</div>\n",
              "    </div>\n",
              "  </div>\n"
            ]
          },
          "metadata": {},
          "execution_count": 13
        }
      ]
    },
    {
      "cell_type": "code",
      "source": [
        "# BigQuery 테이블 저장!\n",
        "project_id = 'jc-gcp-project'  # 프로젝트 ID\n",
        "dataset_id = 'sec_test'  # 데이터셋 ID\n",
        "table_id = 'movie_embeddings'  # 테이블 ID\n",
        "\n",
        "# DataFrame을 BigQuery 테이블로 저장\n",
        "df.to_gbq(f'{dataset_id}.{table_id}', project_id=project_id, if_exists='replace')"
      ],
      "metadata": {
        "colab": {
          "base_uri": "https://localhost:8080/"
        },
        "id": "mXHLJ-ogW3LT",
        "executionInfo": {
          "status": "ok",
          "timestamp": 1737036339418,
          "user_tz": -540,
          "elapsed": 10480,
          "user": {
            "displayName": "",
            "userId": ""
          }
        },
        "outputId": "9294f50f-3311-493f-8ee2-9a874bffd5c6"
      },
      "id": "mXHLJ-ogW3LT",
      "execution_count": null,
      "outputs": [
        {
          "output_type": "stream",
          "name": "stderr",
          "text": [
            "<ipython-input-14-d14fd032eae4>:7: FutureWarning: to_gbq is deprecated and will be removed in a future version. Please use pandas_gbq.to_gbq instead: https://pandas-gbq.readthedocs.io/en/latest/api.html#pandas_gbq.to_gbq\n",
            "  df.to_gbq(f'{dataset_id}.{table_id}', project_id=project_id, if_exists='replace')\n",
            "100%|██████████| 1/1 [00:00<00:00, 8112.77it/s]\n"
          ]
        }
      ]
    },
    {
      "cell_type": "code",
      "source": [
        "# df[df['title'] == 'Avatar'].embedding.iloc[0] # avartar 임베딩\n",
        "df[df['title'] == 'Avatar']"
      ],
      "metadata": {
        "colab": {
          "base_uri": "https://localhost:8080/",
          "height": 98
        },
        "id": "VlQzPgPp9D3a",
        "executionInfo": {
          "status": "ok",
          "timestamp": 1737036452945,
          "user_tz": -540,
          "elapsed": 454,
          "user": {
            "displayName": "",
            "userId": ""
          }
        },
        "outputId": "a4a4c779-88af-44d6-a69a-5e939be358d0"
      },
      "id": "VlQzPgPp9D3a",
      "execution_count": null,
      "outputs": [
        {
          "output_type": "execute_result",
          "data": {
            "text/plain": [
              "         id   title  popularity  vote_average  \\\n",
              "2228  19995  Avatar  150.437577           7.2   \n",
              "\n",
              "                                               overview   genre  \\\n",
              "2228  In the 22nd century, a paraplegic Marine is di...  Action   \n",
              "\n",
              "                                                   text  \\\n",
              "2228  \"title\" : Avatar, \"popularity\" : 150.437577, \"...   \n",
              "\n",
              "                                              embedding  \n",
              "2228  [0.018325019627809525, -0.054211799055337906, ...  "
            ],
            "text/html": [
              "\n",
              "  <div id=\"df-7cc3bbbc-c164-4d08-a471-e2d19cbe48e6\" class=\"colab-df-container\">\n",
              "    <div>\n",
              "<style scoped>\n",
              "    .dataframe tbody tr th:only-of-type {\n",
              "        vertical-align: middle;\n",
              "    }\n",
              "\n",
              "    .dataframe tbody tr th {\n",
              "        vertical-align: top;\n",
              "    }\n",
              "\n",
              "    .dataframe thead th {\n",
              "        text-align: right;\n",
              "    }\n",
              "</style>\n",
              "<table border=\"1\" class=\"dataframe\">\n",
              "  <thead>\n",
              "    <tr style=\"text-align: right;\">\n",
              "      <th></th>\n",
              "      <th>id</th>\n",
              "      <th>title</th>\n",
              "      <th>popularity</th>\n",
              "      <th>vote_average</th>\n",
              "      <th>overview</th>\n",
              "      <th>genre</th>\n",
              "      <th>text</th>\n",
              "      <th>embedding</th>\n",
              "    </tr>\n",
              "  </thead>\n",
              "  <tbody>\n",
              "    <tr>\n",
              "      <th>2228</th>\n",
              "      <td>19995</td>\n",
              "      <td>Avatar</td>\n",
              "      <td>150.437577</td>\n",
              "      <td>7.2</td>\n",
              "      <td>In the 22nd century, a paraplegic Marine is di...</td>\n",
              "      <td>Action</td>\n",
              "      <td>\"title\" : Avatar, \"popularity\" : 150.437577, \"...</td>\n",
              "      <td>[0.018325019627809525, -0.054211799055337906, ...</td>\n",
              "    </tr>\n",
              "  </tbody>\n",
              "</table>\n",
              "</div>\n",
              "    <div class=\"colab-df-buttons\">\n",
              "\n",
              "  <div class=\"colab-df-container\">\n",
              "    <button class=\"colab-df-convert\" onclick=\"convertToInteractive('df-7cc3bbbc-c164-4d08-a471-e2d19cbe48e6')\"\n",
              "            title=\"Convert this dataframe to an interactive table.\"\n",
              "            style=\"display:none;\">\n",
              "\n",
              "  <svg xmlns=\"http://www.w3.org/2000/svg\" height=\"24px\" viewBox=\"0 -960 960 960\">\n",
              "    <path d=\"M120-120v-720h720v720H120Zm60-500h600v-160H180v160Zm220 220h160v-160H400v160Zm0 220h160v-160H400v160ZM180-400h160v-160H180v160Zm440 0h160v-160H620v160ZM180-180h160v-160H180v160Zm440 0h160v-160H620v160Z\"/>\n",
              "  </svg>\n",
              "    </button>\n",
              "\n",
              "  <style>\n",
              "    .colab-df-container {\n",
              "      display:flex;\n",
              "      gap: 12px;\n",
              "    }\n",
              "\n",
              "    .colab-df-convert {\n",
              "      background-color: #E8F0FE;\n",
              "      border: none;\n",
              "      border-radius: 50%;\n",
              "      cursor: pointer;\n",
              "      display: none;\n",
              "      fill: #1967D2;\n",
              "      height: 32px;\n",
              "      padding: 0 0 0 0;\n",
              "      width: 32px;\n",
              "    }\n",
              "\n",
              "    .colab-df-convert:hover {\n",
              "      background-color: #E2EBFA;\n",
              "      box-shadow: 0px 1px 2px rgba(60, 64, 67, 0.3), 0px 1px 3px 1px rgba(60, 64, 67, 0.15);\n",
              "      fill: #174EA6;\n",
              "    }\n",
              "\n",
              "    .colab-df-buttons div {\n",
              "      margin-bottom: 4px;\n",
              "    }\n",
              "\n",
              "    [theme=dark] .colab-df-convert {\n",
              "      background-color: #3B4455;\n",
              "      fill: #D2E3FC;\n",
              "    }\n",
              "\n",
              "    [theme=dark] .colab-df-convert:hover {\n",
              "      background-color: #434B5C;\n",
              "      box-shadow: 0px 1px 3px 1px rgba(0, 0, 0, 0.15);\n",
              "      filter: drop-shadow(0px 1px 2px rgba(0, 0, 0, 0.3));\n",
              "      fill: #FFFFFF;\n",
              "    }\n",
              "  </style>\n",
              "\n",
              "    <script>\n",
              "      const buttonEl =\n",
              "        document.querySelector('#df-7cc3bbbc-c164-4d08-a471-e2d19cbe48e6 button.colab-df-convert');\n",
              "      buttonEl.style.display =\n",
              "        google.colab.kernel.accessAllowed ? 'block' : 'none';\n",
              "\n",
              "      async function convertToInteractive(key) {\n",
              "        const element = document.querySelector('#df-7cc3bbbc-c164-4d08-a471-e2d19cbe48e6');\n",
              "        const dataTable =\n",
              "          await google.colab.kernel.invokeFunction('convertToInteractive',\n",
              "                                                    [key], {});\n",
              "        if (!dataTable) return;\n",
              "\n",
              "        const docLinkHtml = 'Like what you see? Visit the ' +\n",
              "          '<a target=\"_blank\" href=https://colab.research.google.com/notebooks/data_table.ipynb>data table notebook</a>'\n",
              "          + ' to learn more about interactive tables.';\n",
              "        element.innerHTML = '';\n",
              "        dataTable['output_type'] = 'display_data';\n",
              "        await google.colab.output.renderOutput(dataTable, element);\n",
              "        const docLink = document.createElement('div');\n",
              "        docLink.innerHTML = docLinkHtml;\n",
              "        element.appendChild(docLink);\n",
              "      }\n",
              "    </script>\n",
              "  </div>\n",
              "\n",
              "    </div>\n",
              "  </div>\n"
            ]
          },
          "metadata": {},
          "execution_count": 15
        }
      ]
    },
    {
      "cell_type": "code",
      "source": [
        "## 아바타 샘플 임베딩 값 확인\n",
        "# df[df['title'] == 'Avatar'].embedding.iloc[0]"
      ],
      "metadata": {
        "id": "OxJDKt5fPcff"
      },
      "id": "OxJDKt5fPcff",
      "execution_count": null,
      "outputs": []
    },
    {
      "cell_type": "markdown",
      "source": [
        "## Get Randome one & Check similarity w/ Dot"
      ],
      "metadata": {
        "id": "djoB2TTGvLDn"
      },
      "id": "djoB2TTGvLDn"
    },
    {
      "cell_type": "code",
      "source": [
        "import random\n",
        "import numpy as np\n",
        "\n",
        "# pick one of them as a key question\n",
        "# key = random.randint(0, len(df))\n",
        "key = df[df['title'] == 'Avatar'].index[0]\n",
        "# calc dot product between the key and other questions\n",
        "embs = np.array(df.embedding.to_list())\n",
        "similarities = np.dot(embs[key], embs.T)\n",
        "\n",
        "# print similarities for the first 5 questions\n",
        "similarities[:5]"
      ],
      "metadata": {
        "colab": {
          "base_uri": "https://localhost:8080/"
        },
        "id": "ppHIcPvfl4pJ",
        "executionInfo": {
          "status": "ok",
          "timestamp": 1737036465089,
          "user_tz": -540,
          "elapsed": 2,
          "user": {
            "displayName": "",
            "userId": ""
          }
        },
        "outputId": "1b9242bd-b971-4372-a080-064dc1ae0dbd"
      },
      "id": "ppHIcPvfl4pJ",
      "execution_count": null,
      "outputs": [
        {
          "output_type": "execute_result",
          "data": {
            "text/plain": [
              "array([0.60934513, 0.58459621, 0.6016171 , 0.64416181, 0.58156595])"
            ]
          },
          "metadata": {},
          "execution_count": 16
        }
      ]
    },
    {
      "cell_type": "markdown",
      "source": [
        "## Print the list"
      ],
      "metadata": {
        "id": "10jHQUUKvXyd"
      },
      "id": "10jHQUUKvXyd"
    },
    {
      "cell_type": "code",
      "source": [
        "# print the question\n",
        "print(f\"Key question: {df.title[key]}\\n\")\n",
        "\n",
        "# sort and print the questions by similarities\n",
        "sorted_questions = sorted(\n",
        "    zip(df.title, similarities), key=lambda x: x[1], reverse=True\n",
        ")[:20]\n",
        "for i, (question, similarity) in enumerate(sorted_questions):\n",
        "    print(f\"{similarity:.4f} {question}\")"
      ],
      "metadata": {
        "colab": {
          "base_uri": "https://localhost:8080/"
        },
        "id": "5_Wkt63ui8zW",
        "executionInfo": {
          "status": "ok",
          "timestamp": 1737036473814,
          "user_tz": -540,
          "elapsed": 3,
          "user": {
            "displayName": "",
            "userId": ""
          }
        },
        "outputId": "03b78cdc-069f-46be-8d9c-5a90667e41ad"
      },
      "id": "5_Wkt63ui8zW",
      "execution_count": null,
      "outputs": [
        {
          "output_type": "stream",
          "name": "stdout",
          "text": [
            "Key question: Avatar\n",
            "\n",
            "1.0000 Avatar\n",
            "0.7709 The Last Airbender\n",
            "0.7398 Titan A.E.\n",
            "0.7379 The Inhabited Island\n",
            "0.7375 John Carter\n",
            "0.7319 Pandorum\n",
            "0.7306 Planet of the Apes\n",
            "0.7279 Conquest of the Planet of the Apes\n",
            "0.7179 Beneath the Planet of the Apes\n",
            "0.7177 Avengers: Age of Ultron\n",
            "0.7175 Escape from Planet Earth\n",
            "0.7166 Oblivion\n",
            "0.7160 Apocalypto\n",
            "0.7153 Lost in Space\n",
            "0.7150 Captain America: Civil War\n",
            "0.7149 The Martian\n",
            "0.7148 The Matrix\n",
            "0.7134 Galaxina\n",
            "0.7120 Cargo\n",
            "0.7110 Mission to Mars\n"
          ]
        }
      ]
    },
    {
      "cell_type": "markdown",
      "source": [
        "## Find with Natural Language"
      ],
      "metadata": {
        "id": "vAV7E7uxcXqz"
      },
      "id": "vAV7E7uxcXqz"
    },
    {
      "cell_type": "code",
      "source": [
        "want_to_find = \"외계인 나오는 영화\"\n",
        "\n",
        "emb_val = model.get_embeddings(\n",
        "    [want_to_find],\n",
        ")\n",
        "# calc dot product between the key and other questions\n",
        "embs = np.array(df.embedding.to_list())\n",
        "similarities = np.dot(emb_val[0].values, embs.T)\n",
        "# print the question\n",
        "print(f\"Key question: {want_to_find}\\n\")\n",
        "\n",
        "# sort and print the questions by similarities\n",
        "sorted_questions = sorted(\n",
        "    zip(df.title, similarities), key=lambda x: x[1], reverse=True\n",
        ")[:20]\n",
        "for i, (question, similarity) in enumerate(sorted_questions):\n",
        "    print(f\"{similarity:.4f} {question}\")"
      ],
      "metadata": {
        "colab": {
          "base_uri": "https://localhost:8080/"
        },
        "id": "bj82129_cUKP",
        "executionInfo": {
          "status": "ok",
          "timestamp": 1737037154697,
          "user_tz": -540,
          "elapsed": 455,
          "user": {
            "displayName": "",
            "userId": ""
          }
        },
        "outputId": "724598ca-a4f4-4a72-bc29-2064e1581756"
      },
      "id": "bj82129_cUKP",
      "execution_count": null,
      "outputs": [
        {
          "output_type": "stream",
          "name": "stdout",
          "text": [
            "Key question: 외계인 나오는 영화\n",
            "\n",
            "0.6784 Monsters\n",
            "0.6664 Alien\n",
            "0.6635 Aliens\n",
            "0.6599 U.F.O.\n",
            "0.6587 My Stepmother is an Alien\n",
            "0.6551 Invaders from Mars\n",
            "0.6551 Spaced Invaders\n",
            "0.6523 They Live\n",
            "0.6512 Unknown\n",
            "0.6511 The Thing\n",
            "0.6474 Muppets from Space\n",
            "0.6474 What Planet Are You From?\n",
            "0.6446 The Outsiders\n",
            "0.6439 Contact\n",
            "0.6434 Meteor\n",
            "0.6423 The Watch\n",
            "0.6379 Meet Dave\n",
            "0.6364 Independence Day: Resurgence\n",
            "0.6346 Surrogates\n",
            "0.6336 Gods and Monsters\n"
          ]
        }
      ]
    },
    {
      "cell_type": "markdown",
      "source": [
        "# (Optional) - Vector Search"
      ],
      "metadata": {
        "id": "vpBwC0wCC4gj"
      },
      "id": "vpBwC0wCC4gj"
    },
    {
      "cell_type": "markdown",
      "source": [
        "## Save the embeddings in a JSON file"
      ],
      "metadata": {
        "id": "RFZOylxXvnmz"
      },
      "id": "RFZOylxXvnmz"
    },
    {
      "cell_type": "code",
      "source": [
        "# save id and embedding as a json file\n",
        "jsonl_string = df[[\"id\", \"embedding\"]].to_json(orient=\"records\", lines=True)\n",
        "with open(\"questions.json\", \"w\") as f:\n",
        "    f.write(jsonl_string)\n",
        "\n",
        "# show the first few lines of the json file\n",
        "! head -n 3 questions.json"
      ],
      "metadata": {
        "colab": {
          "base_uri": "https://localhost:8080/"
        },
        "id": "A69xlJZckUaQ",
        "executionInfo": {
          "status": "ok",
          "timestamp": 1733059562680,
          "user_tz": -540,
          "elapsed": 1949,
          "user": {
            "displayName": "",
            "userId": ""
          }
        },
        "outputId": "19f3ff0c-fad5-4111-a4f5-3ef107227747"
      },
      "id": "A69xlJZckUaQ",
      "execution_count": null,
      "outputs": [
        {
          "output_type": "stream",
          "name": "stdout",
          "text": [
            "{\"id\":371085,\"embedding\":[0.0153361578,-0.0383947119,0.0352433771,0.0147550041,-0.0319922231,-0.0459211282,-0.0205535181,-0.041891966,0.0089921989,0.0284238458,0.014186698,0.0300955791,0.0258459207,-0.0378358439,0.0237927306,0.0335237756,0.0195060074,0.0082418136,-0.0965101644,0.019350538,-0.0078775575,-0.0119496165,-0.0274844002,0.0447204672,0.0143402014,-0.0388614349,-0.0185875259,-0.0016751911,-0.0199454874,-0.0016352511,0.0079187471,-0.0133166835,0.0349910371,0.0353308655,0.040520031,0.0601883009,0.0099755321,-0.0040698647,0.0197575428,0.0556138679,0.056258142,-0.0870138109,-0.0106943715,0.0019231349,0.0433021486,-0.0126744583,-0.0298540033,0.0327363946,0.0133010373,0.0056282762,0.0609988943,-0.0264207441,0.0384953767,0.0040295478,0.0478877015,0.0103862984,-0.0204253197,0.0240118429,-0.0155596314,0.0039435392,0.0222576689,-0.055673115,0.0395441763,0.0292392205,-0.0050922697,0.032362625,-0.0595636182,0.0457811058,0.005710192,0.0020742365,0.0170880556,0.0225609373,-0.0893099606,0.0289120004,-0.0254909378,0.0200770032,-0.0093735671,-0.0164090786,-0.0378105082,-0.0420005172,0.0052810479,0.0237913821,0.008413502,0.0028958225,0.0019115502,-0.0798139349,0.0284834392,-0.0209055059,0.0326995812,-0.0717997253,-0.030467676,-0.0093571339,-0.0217668433,-0.0336434469,-0.0132607147,0.0368708,0.0688193217,-0.0087630805,-0.0311267506,-0.0144917052,0.0016101624,0.0236502755,0.0215830766,0.0184345469,0.0329377726,0.0686930194,-0.0187562481,-0.0124428179,0.0331426524,0.0554384068,0.0048103575,-0.0070332978,0.0152474428,-0.0144489668,-0.0313345753,-0.0064209104,0.0717493519,0.0117533095,0.01189816,-0.0113949375,0.0396755151,0.0030988629,0.0465199128,0.0264518149,0.0020476577,-0.0588165894,0.0009012208,-0.0311652832,-0.0181071255,-0.0084852651,-0.0021362912,-0.0317305103,-0.0083872993,0.0130398329,-0.0338493995,0.0193775017,0.0206472203,-0.0490795933,-0.0004029346,0.0297144055,0.0208676588,-0.0217756797,-0.009546889,0.0122916494,0.0150255049,-0.069979541,0.0739390105,-0.058833126,-0.0272881724,0.0037149419,-0.0051623574,0.0113598295,-0.0018944388,-0.0141642513,-0.0423892438,-0.0225342344,0.011070366,-0.0026926056,0.0309395269,0.047200866,-0.0099421106,-0.0410632379,-0.0482158549,-0.0351132415,-0.0924359784,0.043526452,-0.0036980114,0.0558768697,0.0040802131,-0.0049521988,-0.0446429364,0.0712091625,0.0395194292,-0.0275327247,-0.0262784865,0.047628656,-0.0880472213,0.0087315897,-0.0153341861,-0.0359068625,0.0482941307,0.0480568707,-0.0048940834,0.0072557856,0.0226250365,0.0036441362,0.0680426732,0.0258637164,-0.0233613402,-0.0040333602,-0.0083260592,0.0448817164,-0.0117063439,-0.00196954,0.0106334528,-0.0614777058,-0.0072058742,-0.0026559948,-0.0277796052,0.0960450396,0.082673341,-0.0144078769,0.0234038066,-0.0496675111,-0.0930200219,0.1175983995,0.0594451167,0.0049582478,0.0054282919,-0.0536171086,-0.0339786075,0.0208043102,0.043530535,-0.0911404565,-0.0153349973,0.0474993996,0.0179178175,0.0430983305,-0.001619379,0.0022136283,-0.0063536647,0.0576479733,0.0225587785,-0.0047299284,0.0583789945,0.0129428413,-0.0469844826,-0.0204680748,0.0188968796,-0.0000843638,0.0090628751,0.0224075671,-0.0356689394,-0.0065335273,0.0097849919,0.0105188377,0.0476433486,0.0094083715,-0.0150669133,0.011447248,0.0139473882,0.0161643419,0.0261893403,-0.0133431992,0.0475968681,0.0076067192,0.0957363248,0.0403665602,0.0345827565,0.0150836287,0.0301247425,-0.008163929,-0.0149067277,-0.0002218981,-0.0383399762,0.01319433,0.0027370988,0.0548894629,0.0069772196,-0.0696185902,-0.0283163209,-0.0121822609,-0.0716196597,0.0373341478,0.0875901431,0.0103497673,-0.0112914043,0.0260039177,-0.0017698394,0.0156316813,-0.0051574679,0.0169486161,-0.0190095901,0.0204573087,-0.0017423565,-0.0015891101,0.0157248899,-0.0235886797,-0.0070568207,-0.0202767793,0.0436269119,0.0407617167,-0.0731834695,0.0032957727,-0.0125230616,0.0232793707,0.0001362716,0.0040805293,0.0027126018,-0.0487378277,0.0350857526,-0.0186796226,-0.0290483385,-0.0793701708,0.008216124,0.0286998153,0.0390645266,0.015886467,0.0372379869,-0.0112195443,0.0270679481,0.0124064796,-0.028244175,-0.0026974354,0.0158757661,-0.0230237823,-0.0129211014,-0.0104606561,0.0421324596,0.0096625276,-0.0144196516,0.0526032373,0.0195022766,0.0757810473,0.0388800651,-0.0109896977,-0.0191453081,0.022246737,0.0302421656,0.0439630672,0.0111409677,0.0471212044,-0.0512487851,0.0387453437,0.0315455645,0.0089101531,0.0432819538,0.0029240844,0.0184051804,-0.0364466459,0.0107373744,0.032530982,0.0035395692,-0.0402016416,0.0108552426,-0.0146549251,0.0957041234,0.041777309,0.0561518483,-0.0527320318,0.0148940049,-0.0717018396,-0.0601143055,0.0120339263,0.0018605985,-0.0430878364,-0.0410613827,-0.0080636758,-0.0098240403,-0.0461208187,-0.0129278852,0.030431373,-0.0321397632,-0.0500256717,0.0591047257,-0.0740991011,-0.0123134172,-0.047175806,-0.0234970972,-0.034013655,0.0132524958,-0.0301197935,-0.0232838579,-0.0220795553,0.0450689346,0.038125392,-0.0412282497,0.0126813194,0.0025233494,0.0123970844,0.0268553011,-0.060302835,-0.0604050681,-0.0183209311,-0.0092291459,-0.0194224212,-0.0071370918,0.0285025481,-0.0149993058,0.0105589991,0.0038499138,-0.0335682556,-0.0152499462,-0.0542365015,0.0558721051,-0.0481937751,0.0098540196,0.0353517123,0.0064910296,0.0254346281,-0.0088764662,0.0401019342,0.0059254398,0.0104359761,0.0571979359,0.0009709164,-0.0174992476,-0.033564087,0.021020608,0.0108765196,-0.0409640633,0.0529747978,0.0085549867,-0.0118423114,0.0459608659,-0.0118431849,0.0078277923,0.0152064078,0.028583426,-0.0220166817,-0.0208072942,-0.0308498237,0.0054231831,-0.0215386804,0.0672523901,0.0173014291,0.0093293088,0.0679141879,-0.0251122881,-0.0297304597,-0.0361988358,-0.0560956299,-0.0606045686,0.027320968,0.0029201175,-0.0283432212,0.0154353091,-0.0041814027,0.0025897378,0.0094993962,-0.0426388718,0.0038543984,-0.0090538729,0.0261351988,0.0489683114,-0.0433179811,0.0442105681,-0.017427329,0.0129077705,0.0239512883,0.0487374663,0.0035944842,0.0117010865,-0.0201288462,-0.0162248816,-0.0041600214,0.0805061981,-0.0240084529,-0.1226952299,-0.0023176621,-0.0221241843,-0.0361357071,0.0309297517,0.0496752001,0.0133476341,0.0145418914,-0.0512503423,-0.0296331812,-0.0348023772,-0.0155247282,-0.0051487717,0.0172004476,-0.0048932978,-0.0331209488,-0.0341762044,-0.0040218206,-0.0266588107,-0.0259798467,0.0007093836,0.019186696,-0.0452740714,0.0236253999,0.0249848682,-0.0365274362,0.0691449046,0.0088490145,-0.0572929867,-0.0045032371,0.0024529072,0.0146093369,0.0171027239,-0.0119528854,-0.0353559442,0.0017612664,-0.0030458916,-0.0655920878,0.0684276968,0.0889024138,0.0456400178,0.023015447,-0.0294882245,-0.0516321249,-0.0109234257,0.0247461516,0.0090727769,-0.0597788543,0.0325742029,-0.0329964645,0.0220810883,0.0681910589,0.0040192753,0.0825836882,-0.0242963526,0.0077063227,0.0047772657,0.0484971963,0.0003598421,-0.0263372026,-0.0023318529,-0.0356522277,-0.063087903,-0.0750476271,0.0550781339,-0.0183323603,-0.0151081551,-0.0400511622,-0.0249981619,0.0042483825,-0.0546378903,-0.062533848,0.0464966074,0.0431529805,0.0437465608,-0.0434621349,-0.0263444781,-0.0156989656,-0.069951348,0.0525967665,-0.0319727771,0.0056407829,0.0242882967,-0.0174436048,-0.0467933267,-0.0662445575,0.0099928202,-0.0000334488,-0.019724939,0.0486706868,-0.012601315,-0.0279216003,-0.0493767858,-0.0342476666,0.0614236742,-0.0112033933,0.0242284834,0.0205269605,0.0468787849,-0.0461179353,-0.054775767,-0.0555979833,-0.0014844172,-0.0136011932,0.0024595424,-0.04507659,-0.0326321162,-0.061935313,0.0361955389,0.0351851359,-0.0280504376,0.0293080434,0.0146700563,0.0056578047,0.0622538365,0.0050529703,0.0151416967,-0.0215090122,-0.0094462642,-0.0603397153,0.0206016712,-0.0110739227,0.0322857387,-0.0036241354,0.0251288917,-0.0183744486,0.0317924917,-0.0329460725,0.0098219942,-0.0133945672,0.0351652056,-0.0778636783,-0.0158774164,0.0582441241,-0.0037553469,-0.0049231299,0.0178669468,0.0258925781,-0.0899282992,-0.0206648298,0.0532513112,0.0558746085,-0.007069279,-0.0276629534,0.0422532111,0.0533451028,0.0127889477,-0.0523794293,-0.066502206,-0.0372426137,0.0223693252,-0.0274610166,-0.0394009613,-0.0425448865,0.0396283753,-0.0361520499,-0.0232826825,0.0289988667,-0.0195481535,0.0678096563,0.0443571247,-0.1005477309,0.0292659216,-0.0263602529,-0.033266291,-0.07143718,-0.0102165798,-0.0142562259,-0.0162482895,0.0103900023,-0.0225357376,-0.0461379625,0.0183712821,0.0612953827,-0.021035336,-0.0333242528,-0.0164077319,0.0325038098,0.0439903997,0.0103329932,0.0473087505,-0.0119823059,0.0000886607,-0.010216482,0.0205647647,0.0028099383,-0.0067926468,0.0304194484,-0.0009715785,0.050305862,0.0048387768,0.0282191578,0.0001964323,0.0115279751,-0.0175492708,0.0043910206,0.0252158754,0.0106410459,0.027005583,0.0096919099,-0.0222973805,0.0988750979,-0.0230283774,0.0072565307,-0.0091622025,0.0334440805,-0.0034930697,0.0295371898,0.0116511639,0.02518351,0.038776014,0.0421207584,0.0213273317,-0.0063238689,0.0355811901,0.0390480012,0.0392244011,0.0931348503,-0.0003766042,-0.0527431294,0.0090066353,-0.0407194123,0.0841553509,0.0304516964,0.0210013483,-0.0043183151,-0.0252527799,0.0258979071,-0.0453470573,-0.0145145161,0.0516266711,0.0312664099,-0.0547184162,0.0621460788,0.0251549054,0.0389972217,0.0506791063,-0.0000332419,-0.0292252507,0.0151521163,-0.0156891365,-0.005707291,-0.0725174919,0.0214193128,-0.0132155232,0.0236716103,0.0084898006,0.0131032178,0.0322952792,0.0090903174,0.0038207176,-0.0693071112,-0.0222151913,0.0063691037,0.019633485,-0.0006027682,-0.0383594036,0.0028211342,0.0193900075,-0.0059528057,0.0310419388,0.0087823998,0.0002239951,-0.0388132371,0.0304196402,-0.0155306673,0.0844485015,-0.0500896908,-0.0080202995,0.0139091471,-0.0073520066,0.0037251669,-0.0024439599,-0.0738634244,-0.0033510607,0.0124656316,-0.0369808711,-0.0627347827,0.0016737005,-0.0026633269,-0.0161282979,0.0351414271,-0.0213702507,0.0387691669,-0.0038033829,0.0022406387,-0.0360220112,0.0035452086,-0.0075357868,0.0561086498,0.01427327,0.0201152116,-0.0712525621,-0.0246760212,-0.0206687767,-0.026329834,-0.0500382669,0.036672499,-0.0305419955,0.0180033613,0.0846770778,0.0281185918,-0.0356000401,0.0056609372,-0.0422591902,-0.0547989644,0.0457357876,0.0510481372,-0.0407739654,-0.0216847323,-0.0185552817,-0.0636624098,-0.0246689022,-0.0132219605,-0.034937378,0.0581383035,0.0478563532,0.0030784288,0.0731783584,0.0360792913]}\n",
            "{\"id\":198370,\"embedding\":[0.0096831117,-0.0461759567,0.034245085,0.0206447709,-0.0158923343,-0.0492628813,-0.03247362,-0.0204172656,0.0269884281,0.0442802794,0.049131427,0.0284467116,0.0050257691,-0.0120587079,0.0037139216,-0.0062331897,0.0165439676,0.0091600949,-0.0297243688,0.0408709981,-0.0302513465,0.0235020909,0.0109334197,-0.0270154979,0.0254920684,0.0117495582,-0.0171028301,-0.0589102618,-0.0083569763,0.0169826746,0.0064903917,-0.0155790709,-0.018466156,0.0057155937,0.0121923899,0.0758690238,0.039297156,-0.0087622469,0.0500585586,0.0255660601,0.0227118488,-0.0655043051,-0.0240162686,-0.036340069,0.0347726308,-0.0123306988,-0.0127133764,0.0140879909,0.0376854651,0.0299519058,0.0581237078,-0.0321611576,0.0143055748,-0.0220064484,-0.0140060727,0.0035159779,0.0039515942,0.0084751351,-0.0269180741,0.0167534575,-0.000259525,0.0076976214,0.0001603203,-0.0151081625,-0.0227407496,-0.0090135289,-0.0112336446,0.0178218987,0.0380095504,0.0176103171,0.0041590803,-0.0010743702,-0.0485898294,-0.0101346672,-0.0263528433,0.0209169202,0.0213113371,-0.0561681427,-0.0378258526,-0.003154895,0.0220739096,-0.0024715331,0.021897722,-0.028658988,-0.0044124192,-0.0951604471,0.0196890682,-0.0701198205,0.0616982952,-0.0838296264,0.0015105116,-0.0043329261,-0.0095168091,0.0048195748,0.0020852631,0.0821584091,0.0296401288,-0.0163239539,0.0083243903,0.0198754724,-0.0204068068,0.0166654363,0.0417208895,0.0202102251,0.0195061862,0.0274599865,0.0070893033,-0.056352172,0.0543042272,0.0431158356,0.0140132196,-0.0261746068,-0.0248195268,-0.0024617712,0.0009881813,0.0130359959,0.0324934795,0.0030941619,0.0270270109,-0.0553566217,0.1053223684,-0.0112137776,0.0373269804,0.0418777913,-0.0160127431,-0.0243097506,0.0174344238,-0.0461117886,-0.0455007181,-0.006303716,0.0420611128,-0.0025946791,-0.043103233,0.0328823477,-0.0551581904,0.0452201366,-0.0362768285,-0.015713986,-0.0457356609,0.028016055,0.0127026429,-0.0340958312,0.0207291506,0.0453342423,-0.0347217657,-0.0118707204,0.0865255818,-0.0620114692,-0.051648479,-0.0606740303,0.0493139252,0.0017863694,0.0045652809,-0.040901497,-0.0338881984,-0.0356260277,0.0449910946,-0.0007097284,0.0371099077,-0.0030407342,-0.0021521642,-0.0445459485,-0.0694584996,-0.0022890195,-0.0238878988,0.0261881649,0.0805847198,0.0089810975,0.0251297057,0.05220218,0.0078317523,0.0126963705,0.0064498796,-0.0006729897,-0.0287209228,0.020311119,-0.0850720257,0.0332950652,-0.002015888,-0.0098172128,0.0412037745,0.0456581153,0.0105043165,-0.0089543983,0.0386744961,0.031345319,0.1063616127,0.0267920755,-0.0868209451,0.0040434208,-0.0252974611,0.0343822725,-0.0785062164,-0.0000651383,0.0014607118,-0.0087107969,0.0088092675,-0.0182619914,-0.0416841842,0.0596695207,0.0680846497,-0.0164550152,-0.0065247449,-0.0886225551,-0.0290967636,0.0638107434,0.0637204647,0.0462290905,-0.0212180577,-0.0458165444,-0.0567154363,-0.0236085299,0.0738293007,-0.0965712592,-0.026689522,0.0184078738,0.0425436012,0.0231320243,-0.0078638047,-0.0120997876,-0.0035835465,0.0217670314,-0.01885763,-0.0323984213,0.0123085864,0.0171544831,-0.0417530723,-0.0111827627,0.0023048227,-0.0422779731,-0.0492556132,-0.0028290313,-0.0269307029,0.0004187787,-0.0247783996,0.0937230363,-0.0096576354,0.041589696,-0.041519329,0.0088393288,0.0381687358,0.0230514649,-0.0143079152,0.0058541638,0.0336642526,0.0164727457,0.0975135267,-0.0220782086,0.0422169231,0.0252473969,0.0516237095,0.0190416966,-0.0350171924,0.0072523179,-0.0355151221,-0.0053476398,0.0200008675,-0.0331598148,0.0321316309,-0.0080920877,-0.0309514441,0.0174715854,-0.0926366374,0.0157531947,0.0483545735,-0.0064442251,0.0043304269,0.0124951322,-0.0262180045,-0.0214180965,-0.0232793298,0.0055757849,-0.0070124608,0.035226427,-0.0106519666,-0.0198218357,0.0573827736,-0.039759513,-0.0004899591,-0.1075560525,0.0742985681,0.0217204206,-0.094944939,0.0369035117,-0.0536016598,-0.000234279,0.0197893977,-0.0225242376,-0.0388237163,-0.0140693719,0.0041287425,0.0115876282,-0.0198963787,-0.0171375927,-0.0071795518,0.0317476392,0.1032386124,-0.0108810691,0.0212531965,-0.0360258855,0.0069840197,-0.0101665948,-0.0701690316,0.0113563184,-0.0159725603,-0.0670673326,-0.0812389851,0.00715602,-0.0221935995,0.0200159308,0.0269017741,-0.0028936956,0.0416130573,0.0230077449,0.0668339059,-0.084203586,-0.0663374215,-0.0203956999,0.0361456163,0.01678681,-0.0185382217,0.0256384797,-0.0282803811,0.0307007171,0.0049787988,0.0224599373,0.0012057698,0.0191672053,0.0267584436,0.007078032,0.0263132676,0.0200482849,0.0148456609,-0.055466149,-0.0083644269,0.034650024,0.0900046304,0.0346389525,0.0616438799,-0.0220663734,0.0200595707,-0.1274598092,-0.0031350534,0.0081488425,0.0110720731,-0.0197603367,-0.0285271537,-0.0465052314,-0.0129148206,-0.0204839669,0.0221891142,0.0502210259,-0.0049719852,-0.005404681,0.0118086515,-0.0175454244,-0.0498846695,0.0081935385,-0.0339835472,-0.0500679947,0.0027525604,-0.075886488,0.0595791601,0.0077663129,0.0322953984,-0.0345051549,-0.0226017479,-0.0208832882,-0.0058306889,0.0359587409,-0.0003313401,-0.0362172984,-0.0073614456,0.0015868947,0.0204780605,0.0118322298,0.0345160142,0.0120103918,0.0290504489,0.0125406561,-0.0205141678,-0.0399554037,0.0139556304,-0.0272262003,0.0392220095,0.0152701521,-0.0118094236,-0.0006838696,0.0107199028,0.0182377547,0.029884262,0.0499910451,-0.0151184415,-0.0214736871,0.0379359983,0.0288527384,0.010473066,-0.0316024348,0.0231410768,0.0484155901,0.0024217002,0.043776527,-0.0164985321,-0.0077197123,0.0287245717,-0.0155642014,-0.0148074729,-0.0173720904,-0.0127424691,-0.0065828832,0.0097905928,-0.0131283039,0.0155512895,-0.0055702631,0.0652773827,0.0174213704,0.0435320362,0.0047169928,-0.0535398871,-0.0455747172,-0.0142660774,-0.0481398851,-0.0634348541,0.0416131802,-0.0004705766,0.0495646857,0.0450846702,0.064320229,-0.0011017428,-0.0535524786,-0.0374119841,0.0150193116,-0.0306503158,-0.0002964475,0.0224711411,-0.0276374221,0.0371086374,0.0187739655,-0.0010293199,0.0219571721,0.0451929793,0.0091640865,0.0273181945,0.0347714275,-0.0513058454,-0.026299702,0.0105638122,0.0056588277,-0.1185799316,-0.0160687473,-0.0134220496,-0.0311845653,-0.0159983747,0.0205772165,0.0136025865,-0.0164049715,-0.0325933844,-0.0297076404,-0.0305593088,-0.0048883795,-0.0153683415,0.0422686078,-0.0156783368,-0.0335533209,-0.0232969001,-0.0079835886,-0.0689783841,-0.0280903,-0.0321764052,0.0054503921,-0.0104234107,-0.0300474968,0.0388823338,-0.0359338671,0.0712251961,-0.0111977775,-0.067107819,0.0235473868,-0.0172442514,-0.0227556713,0.0066722091,-0.0292787775,0.005306337,-0.0047054468,-0.0008102164,-0.0552680679,-0.0060702655,-0.0095554367,0.0635262355,0.0246469621,-0.0175179821,-0.0783620775,-0.0081818709,-0.0071822726,-0.0368785672,-0.0313708559,0.0407714769,-0.0758184865,0.0072034094,0.0488505438,-0.0001174755,0.0284237824,0.0012379297,0.0279423073,0.0067708245,0.0235172957,0.001841378,-0.0688415542,0.0019749475,-0.0442710742,-0.0422773734,-0.0484554917,0.0357595608,-0.0423084721,-0.0012532751,0.0129038924,-0.0218363572,0.0212496761,-0.0435636602,-0.0135594755,-0.0330653451,0.0485170484,0.0252407752,-0.0439466983,-0.0355077758,0.0240014978,-0.042585399,0.0545799807,0.004421195,-0.0080225747,0.011466234,0.0086998874,-0.0383805186,-0.0373719595,0.0108672893,0.0006314398,-0.0126302354,0.0539944246,-0.0474067442,-0.0276040044,-0.0013726356,-0.04761732,0.1072160229,-0.0239325501,-0.0028793793,-0.0430876054,0.0802910626,-0.0588300526,-0.0454489663,-0.0869294479,0.0502563678,-0.0130278897,0.0145236151,-0.0016320738,-0.031098891,-0.0525308512,-0.0014116596,0.0598745719,0.0163653195,-0.0150134265,0.0736459941,-0.0041734269,0.055717472,-0.0174942948,-0.0248554926,-0.0398605205,0.0209663324,-0.0007476452,0.0464403853,0.0406702794,0.0139847035,0.0065849628,0.0289657842,-0.0387756601,0.0309423991,-0.0552662648,0.0252749957,-0.0131725017,-0.0038687922,0.0023418877,-0.0493190996,0.0625519902,0.0351784416,-0.0056143859,0.00754921,0.0080170892,-0.0507854857,-0.0448583663,0.094088614,0.0176423565,-0.0551906489,-0.0302908458,0.0541900471,0.012824161,-0.0048039234,-0.0819197297,-0.0446833968,0.0333509035,-0.0082282117,-0.0096631395,-0.0293186232,-0.0503898412,0.0160321761,-0.0089836968,-0.004715445,0.0458116792,-0.001293606,0.0687445626,0.066226013,-0.0652298853,0.0093452651,-0.0317304134,-0.0587722249,-0.0383986682,-0.016658606,0.0063083298,-0.0119536761,0.0465289317,-0.0473868363,-0.0406489111,-0.0158113576,0.0262831654,0.0065954686,0.025520755,-0.0179293025,-0.0164584015,0.0233226176,0.0392175429,-0.003616323,0.025979232,-0.0097918808,0.0235554818,0.0408388712,-0.0135582397,-0.0195047185,-0.0085391281,-0.006503589,0.031518098,-0.0132710002,0.0007212762,0.0011363877,0.0007939457,0.0070439861,0.0077490667,0.0176256709,0.0272142868,0.0119582964,0.0126485396,-0.015031564,0.0418852344,0.0147638088,-0.0246383343,-0.0100293346,0.0023271549,-0.0319084674,0.058374349,0.0099924412,0.0109502263,0.0357039496,0.0444574803,-0.0037883155,-0.0006510908,-0.0484929904,0.0377841741,0.0031151066,0.0620198585,0.0241503902,-0.067734994,-0.0144499689,-0.0521947481,0.0474531762,0.0078743882,-0.0427869223,-0.0163354445,-0.0403677858,0.040691182,-0.0027020199,-0.0246316511,0.0777248368,0.0362961143,-0.0670306608,0.0509408005,0.0130001977,-0.0258867033,0.0088814599,0.0226295758,-0.0359931178,0.00763901,0.0048351455,0.001577923,-0.0817379728,0.0314534903,-0.0031234254,-0.0030865485,0.025403237,-0.0029660831,-0.0143436929,-0.0425898321,-0.0283569377,-0.0561225004,0.0329820737,0.0028980786,0.0200940631,-0.0012244858,-0.0093067996,0.0026361516,0.0396396965,-0.0231918283,0.0119122025,0.0233075619,-0.0152901886,-0.0369822793,-0.0047583259,-0.0210920703,0.0652621016,-0.0231248271,-0.0257817563,0.0182447042,-0.0132386833,0.003646411,0.0100926431,-0.0596045032,0.0474638008,-0.014999683,0.0066312524,-0.0821590722,0.0797983706,-0.0265744161,0.0047672177,-0.0089376401,-0.0288330223,0.0176552702,0.0325267352,-0.0217299946,0.0208267234,0.0164400395,0.0069002905,0.0364829339,0.0372401923,0.0062580067,-0.0882551298,-0.0225950498,-0.0517004654,0.0100963507,-0.0215013903,0.0430223346,0.0566679873,0.0596136153,0.0387812592,0.0026524898,-0.0368715487,0.0425107814,-0.0334129445,-0.0277099796,0.039036762,0.0541010238,-0.0112819774,-0.0205740947,0.0219336823,-0.0409010872,0.021247929,0.0166319553,-0.020358881,0.0273426641,0.0318859629,-0.0111898556,0.0324237533,0.0063595222]}\n",
            "{\"id\":38786,\"embedding\":[-0.0292231627,-0.0335178301,0.018842008,0.0180071294,-0.0526237674,-0.0873457268,-0.0420785733,-0.0052863234,0.0127478857,0.0637020618,0.0781783611,-0.0208915975,-0.0157964788,-0.0909899995,0.0097703394,0.0166972391,0.0256036352,0.0100685423,-0.0752817914,0.0018804561,-0.0091225598,0.0628584772,-0.0683843344,0.0062550316,0.008180907,0.0022178728,0.0111112371,-0.0371558778,0.010231657,-0.0126337884,0.0020687955,-0.0201221816,-0.0023135161,0.0221763924,0.0348191559,0.0504866578,-0.0032675744,0.0099033127,0.002546981,0.044408679,0.0187086295,-0.0919306353,-0.0477768704,-0.0465206616,0.0381447971,-0.0350629799,-0.0403997898,0.0466561243,0.0447588637,0.0291397795,0.0939353555,-0.0141034639,-0.0224530883,-0.0085703442,-0.0020131136,-0.002418776,0.019036876,0.0129258055,-0.0158342682,0.0147993555,0.0272335801,0.0191418752,-0.0010894836,0.0486669354,-0.0028892367,-0.0115980692,0.0009860585,0.0156870782,0.0342376344,-0.0137836318,-0.0047507668,-0.0119412253,-0.0510217957,0.0033206211,-0.0256618019,0.0280557312,0.0390021317,-0.0192357432,-0.0232158788,-0.062559627,-0.0127792396,-0.0211293194,0.0056379717,0.0127677452,0.0295338891,-0.0526897497,0.0256202109,-0.0426064059,-0.0138874566,-0.0242971964,-0.0062107942,-0.0099166511,-0.0061661098,-0.0326889642,-0.0093161967,0.077072762,0.0325443074,-0.0307705533,-0.0555102341,0.0435869619,-0.0551664084,-0.0347470343,0.0690446943,0.0014116043,0.0433236174,0.0222044233,-0.0354801975,-0.005675836,0.0021010817,0.025009254,-0.0191836245,-0.0116248559,0.0101363538,0.0044451854,0.0034548205,0.0155567983,-0.0145046813,-0.029257847,-0.0050655804,-0.0174169857,0.0685757622,0.0156329386,0.0189975761,0.0207506958,-0.0308164135,-0.040730942,-0.0107550798,0.0062640491,-0.0340948068,-0.0250930004,0.0442176163,-0.0620036833,-0.0587156489,0.0194809139,-0.0489343926,0.0034052255,0.0252639931,0.0302913431,-0.0477240831,0.0051828339,0.0327587426,0.0127886627,-0.0150093101,0.0253047869,0.0142171159,-0.0066025476,0.0758323893,-0.0274494011,-0.0321748853,-0.0169256739,0.0655208677,-0.0394362807,0.0289055742,-0.0572436079,-0.0245267581,-0.007441048,0.0426239744,-0.0167772006,0.0623210296,0.0437502414,-0.0388806351,-0.0145676071,-0.059335731,-0.0617646463,-0.0621626787,0.0379834622,-0.0271240845,0.0169268567,0.036071986,0.0094431518,-0.025818754,-0.0137520069,0.0240430012,-0.0048737316,-0.0060355812,-0.0455243997,-0.03240766,0.0212233011,0.0120919244,-0.0255946852,0.0277657025,0.0485601872,0.0565139502,-0.0256620701,0.0426447466,0.0021485975,0.0536346957,0.0228938553,-0.0583460666,0.0201611854,0.0007446543,0.0434848778,0.0324249864,-0.0245009325,-0.0558227859,-0.0063875993,0.013797435,-0.0124920048,-0.0477000996,0.0998367667,0.0594523884,-0.0087633319,-0.0138373654,-0.0839973092,-0.019548798,0.0975311473,0.0290743653,0.0078874016,0.0055281715,-0.050932359,-0.0320435986,-0.0458015203,0.056648884,-0.0997952893,-0.0126964767,0.035277497,0.0728651881,0.0042856424,-0.0046885726,0.0465057455,-0.0121037932,-0.0138317104,0.0111507149,0.0197997596,0.0322724618,0.005747553,-0.0193507317,-0.0288263168,0.04949468,0.0120629221,0.0000641226,-0.0349657089,-0.0487244017,0.0225393213,0.037614055,0.0618377924,-0.0372587517,0.0314664021,-0.0473864041,-0.0051833382,-0.0269742962,0.0645417795,-0.0259709675,-0.0028248904,0.0269136764,-0.0037043528,0.0801940858,-0.0244992077,0.0640009344,-0.0506077148,0.0052564428,-0.0305423457,-0.0770882517,-0.0026501438,0.0116328439,0.0183543283,-0.0080491137,0.1034663469,-0.0095520187,-0.0553871617,-0.02916863,-0.0439560935,-0.0163608398,-0.0368601494,0.0547635034,-0.0054040607,0.0094796093,0.0408630185,0.0048354268,0.0043696412,-0.0039429697,0.0168766994,-0.0152323656,0.0111511666,-0.0065722265,-0.0638710856,0.0354666635,-0.0068847775,-0.0227117706,-0.0312102363,0.0444402657,0.0502481833,-0.0567089468,0.0524063334,-0.0407915413,0.0063603553,0.0256903302,0.0075357878,-0.0460068807,-0.0432041846,-0.0280547421,-0.0045284638,-0.0432151221,-0.0311339535,-0.0000916396,0.0725801513,0.0085390955,0.0100090066,0.0171361808,-0.0340524837,-0.0275256503,-0.0290073976,0.0005686549,-0.0213236157,0.0250945427,-0.0318091959,-0.0442391112,0.020113891,0.0119714895,0.0120703289,-0.0000033865,-0.036087092,0.0057478403,0.0275109541,0.0417438895,-0.0384439826,0.012841301,0.0029272558,-0.0018893586,0.0459168069,-0.0231932234,0.0262844488,0.0081271213,0.0410054438,0.0102504017,0.0370680317,-0.0185877271,-0.0024802841,0.0220735706,-0.0176618062,-0.0002160196,0.0279779192,0.047349371,-0.0714100599,-0.0379065908,-0.0055528814,0.0844363421,0.0039657056,0.0606247745,0.0101560531,0.0197307635,-0.0906581581,-0.0613934062,0.0007937644,-0.04586358,0.0126374792,0.0107213585,-0.0061541875,0.0054468727,0.0132987686,-0.0421506912,0.063868247,-0.0038282869,0.0186284799,0.0117844362,-0.0316346735,-0.0495755486,-0.0161508732,-0.0259806477,0.0106973108,0.0759668127,-0.0562999174,0.0365474634,0.0075462684,-0.0097262785,0.0172045901,0.0080991378,0.0012925686,-0.0347027741,0.0138977244,0.0329350308,-0.0773093775,-0.0170687754,0.0384615026,-0.0115998127,0.0170158297,0.0075139171,0.0274568647,0.0433825441,0.044041913,-0.0182163604,-0.0270081535,-0.0446003452,0.010218652,0.0089845136,-0.002285531,-0.0342652164,-0.0123935295,-0.0159548745,0.0071884664,-0.0026836174,0.055181317,-0.000698264,-0.0028656342,0.0684205517,-0.0246685743,-0.0345321596,-0.0204334073,-0.0177049506,-0.0218019243,-0.0442265533,0.0185157042,-0.0147873387,-0.0534350537,0.0338810869,-0.0096558491,0.0112827811,-0.0181443077,0.0304814018,0.01747448,0.003098011,-0.0149673857,0.0030070238,-0.0061920481,0.0694523975,0.0073194378,-0.0178406257,0.0220764354,-0.0106875207,-0.0102299852,-0.0124262087,-0.0827531293,-0.0349113159,0.0157798957,0.0109214177,0.0293610469,0.0126188789,0.035110835,0.0378581993,0.0005900506,-0.0046616746,-0.0317469425,-0.0230338424,0.0058428128,0.0459383763,-0.0119060446,0.0467561409,0.0156023251,-0.0062394957,-0.0023755606,0.0266142935,-0.0041008261,0.002219426,-0.0169375036,-0.0480579361,-0.0087037478,-0.0219976604,-0.0144320745,-0.0868875608,-0.0179809034,0.0081903515,-0.0139564807,-0.0157089494,0.0802558437,0.0006031065,-0.017912088,-0.0167152025,-0.0477155335,-0.0144279636,-0.0545587577,-0.0570648015,0.0340486653,-0.0148128606,-0.0324101225,0.005550521,-0.0414339826,-0.0126336217,-0.0066907285,0.0592957586,0.015952915,-0.0115081584,0.0208377317,0.0226091705,0.0108962553,0.0376733802,-0.0080692172,-0.0196358636,-0.0024407092,0.013519858,0.0245549977,0.0498737544,0.0100669796,0.0193030816,-0.0366792679,-0.0838331282,-0.0402416065,0.0547114909,0.0036970782,0.0588402785,-0.005545774,-0.0111833913,0.0182099305,-0.0086736279,-0.0311781392,-0.0049121426,-0.0336994343,0.0453530513,-0.0322979279,0.040742781,0.0161143932,-0.0008667521,0.0407776795,-0.0518761091,0.0123752877,0.0238573439,0.0166190956,-0.0279775392,-0.0361747146,-0.0035140563,-0.0435034595,-0.0292529501,-0.077885814,0.0794147551,-0.0169172827,-0.0038332271,-0.0360295624,-0.0212400351,-0.0161261316,-0.0390030853,-0.0324315727,0.0036930838,0.0764947981,0.0369585119,-0.0095952107,-0.0600355491,0.0269726291,-0.0365574323,0.0420219377,0.0108903144,-0.0006251678,0.0465817414,-0.0078486791,-0.0273529813,-0.0844380036,0.0201068856,-0.0113285678,-0.0068788975,0.0860028341,0.0132020907,-0.0379398316,-0.0244269501,-0.0061635445,0.0441218205,-0.0143443299,0.0426065326,0.064672187,-0.0134380376,-0.0493436642,-0.080435887,-0.0806435347,0.0224229991,0.0143610127,0.0100247143,0.0396336205,-0.0250725802,-0.0664479136,0.0470784418,0.0965467617,0.0043833745,-0.0166976973,0.0335551798,0.0055027539,0.0602085739,-0.0131330257,0.0760345161,0.0095362039,0.005309687,-0.0216776524,0.058682669,-0.0052255359,0.039392475,-0.0257636048,0.012005846,0.0376573503,0.0237460341,-0.0431949347,0.0638369098,-0.0419086255,0.0036395204,0.0070023853,-0.0232029203,0.067174837,-0.0109251356,-0.0049415086,0.0103161288,-0.0147419795,-0.0740383491,-0.0438443199,0.0416428484,0.0336134434,-0.0905489922,-0.0514230467,0.0425117463,-0.0001753315,-0.0551426709,-0.0297689922,-0.1126756519,-0.0274069272,0.0128621012,-0.0308443382,-0.0516786613,-0.0611988232,0.0260603372,-0.0061855656,-0.0063521205,0.0191555489,-0.0055887075,0.0422939509,0.0418788306,-0.1035133824,-0.0032338258,-0.0422299094,-0.0324552096,-0.0480479598,0.0376050845,-0.0408778749,-0.0274665449,0.0711462945,-0.0272944253,-0.0015802501,0.0068765543,0.0557794571,-0.0318918861,-0.0065375715,0.0100353807,-0.0429607704,-0.0049487338,-0.0392416269,0.0112096062,0.0130919646,-0.0143613797,-0.0141342385,0.0068698525,0.0325256214,-0.0024240471,0.0057636783,-0.0051651597,0.0370501801,-0.0332950614,0.0122758616,-0.0245378371,0.00263261,-0.0054713394,0.026623819,0.0110757332,0.0415325686,0.0343508422,0.0055178092,-0.0127194263,0.0604653656,0.0011772363,0.043694064,-0.0381571911,-0.0139197595,0.0046776626,0.0586440116,-0.0008433522,0.0148818055,0.002014274,0.0067420923,-0.0125424657,0.0202291496,-0.0379201993,0.0287442878,0.0453408659,0.0892548859,0.0045785736,-0.0275967121,-0.0190437473,-0.0277591031,0.0067417212,0.0425015427,0.0230750851,0.0460528433,-0.0056614154,0.0526602678,-0.0429250635,0.0161632821,0.0835051909,0.0349947326,-0.0367861576,0.0066064345,0.0115471091,-0.018181853,0.0402374007,0.0080184778,-0.027734369,-0.0116768777,0.0042752707,-0.0095270006,-0.0811300874,-0.0209038407,-0.0462565608,-0.0201474335,0.0103936745,0.0187599715,0.0203394182,0.0248235539,0.0071148155,-0.0500621423,-0.0652950406,0.0147374868,0.0022344335,0.0195487291,-0.0397676639,0.0265815873,-0.0404856913,0.0043222369,-0.0046344027,0.0237338394,0.0431078076,-0.052650746,0.0221112762,-0.0184144955,0.0065053189,-0.0211162902,-0.0237149429,0.0290117301,0.0658500493,0.0762874186,0.0037557101,-0.0811128244,0.0737904385,-0.0040317969,-0.0278681125,-0.0380136669,0.0274354927,-0.0610955879,0.0247706771,-0.0177757032,0.0136109069,0.0272904523,0.0004968462,-0.0222960897,0.0152795119,0.0172929149,0.0116486726,0.0851968378,0.0053190356,0.0306038819,-0.0585978664,0.0121128336,-0.010239942,-0.0178219136,-0.0226007253,-0.0006437123,0.0148062939,0.0083735613,0.0648354068,0.0193504896,-0.0557193309,0.0209674817,-0.0515256263,0.0046906942,-0.0104693482,0.0724174902,-0.0108489404,0.0046070544,0.0199081767,-0.0609240346,-0.0314212143,0.0016303078,0.0176218711,0.0046650558,0.0118400743,0.0107066277,0.02002207,0.0302481819]}\n"
          ]
        }
      ]
    },
    {
      "cell_type": "markdown",
      "source": [
        "## Save to Bucket"
      ],
      "metadata": {
        "id": "tIwXd4P3wFKO"
      },
      "id": "tIwXd4P3wFKO"
    },
    {
      "cell_type": "code",
      "source": [
        "BUCKET_URI = f\"gs://{PROJECT_ID}-movie_embedding-{UID}\"\n",
        "! gsutil mb -l $LOCATION -p {PROJECT_ID} {BUCKET_URI}\n",
        "! gsutil cp questions.json {BUCKET_URI}"
      ],
      "metadata": {
        "colab": {
          "base_uri": "https://localhost:8080/"
        },
        "id": "10_5XZ0Yj8Ws",
        "executionInfo": {
          "status": "ok",
          "timestamp": 1733059620508,
          "user_tz": -540,
          "elapsed": 6125,
          "user": {
            "displayName": "",
            "userId": ""
          }
        },
        "outputId": "33319d8f-4f71-4228-ced8-0bc932e0145f"
      },
      "id": "10_5XZ0Yj8Ws",
      "execution_count": null,
      "outputs": [
        {
          "output_type": "stream",
          "name": "stdout",
          "text": [
            "Creating gs://jc-gcp-project-movie_embedding-12010905/...\n",
            "Copying file://questions.json [Content-Type=application/json]...\n",
            "- [1 files][ 47.2 MiB/ 47.2 MiB]                                                \n",
            "Operation completed over 1 objects/47.2 MiB.                                     \n"
          ]
        }
      ]
    },
    {
      "cell_type": "markdown",
      "source": [
        "## Create an Index"
      ],
      "metadata": {
        "id": "qXeIPH5jwsnE"
      },
      "id": "qXeIPH5jwsnE"
    },
    {
      "cell_type": "code",
      "source": [
        "###### init the aiplatform package\n",
        "from google.cloud import aiplatform\n",
        "\n",
        "aiplatform.init(project=PROJECT_ID, location=LOCATION)"
      ],
      "metadata": {
        "id": "X2Wf0k-7wsTe"
      },
      "id": "X2Wf0k-7wsTe",
      "execution_count": null,
      "outputs": []
    },
    {
      "cell_type": "code",
      "source": [
        "# create index\n",
        "my_index = aiplatform.MatchingEngineIndex.create_tree_ah_index(\n",
        "    display_name=f\"embvs-movie-index-{UID}\",\n",
        "    contents_delta_uri=BUCKET_URI,\n",
        "    dimensions=768,\n",
        "    approximate_neighbors_count=20,\n",
        "    distance_measure_type=\"DOT_PRODUCT_DISTANCE\",\n",
        ")"
      ],
      "metadata": {
        "colab": {
          "base_uri": "https://localhost:8080/"
        },
        "id": "ld5U2R_3wYL_",
        "executionInfo": {
          "status": "ok",
          "timestamp": 1733059763129,
          "user_tz": -540,
          "elapsed": 24029,
          "user": {
            "displayName": "",
            "userId": ""
          }
        },
        "outputId": "9cb5df28-761b-41d0-ad2a-e3a714ca04be"
      },
      "id": "ld5U2R_3wYL_",
      "execution_count": null,
      "outputs": [
        {
          "output_type": "stream",
          "name": "stderr",
          "text": [
            "INFO:google.cloud.aiplatform.matching_engine.matching_engine_index:Creating MatchingEngineIndex\n",
            "INFO:google.cloud.aiplatform.matching_engine.matching_engine_index:Create MatchingEngineIndex backing LRO: projects/78565683329/locations/us-central1/indexes/7527375351010295808/operations/2693361931053432832\n",
            "INFO:google.cloud.aiplatform.matching_engine.matching_engine_index:MatchingEngineIndex created. Resource name: projects/78565683329/locations/us-central1/indexes/7527375351010295808\n",
            "INFO:google.cloud.aiplatform.matching_engine.matching_engine_index:To use this MatchingEngineIndex in another session:\n",
            "INFO:google.cloud.aiplatform.matching_engine.matching_engine_index:index = aiplatform.MatchingEngineIndex('projects/78565683329/locations/us-central1/indexes/7527375351010295808')\n"
          ]
        }
      ]
    },
    {
      "cell_type": "markdown",
      "source": [
        "### **The parameters for creating index**\n",
        "#### **contents_delta_uri**: The URI of Cloud Storage directory where you stored the embedding JSON files\n",
        "#### **dimensions**: Dimension size of each embedding. In this case, it is 768 as we are using the embeddings from the Text Embeddings API.\n",
        "#### **approximate_neighbors_count**: how many similar items we want to retrieve in typical cases\n",
        "#### **distance_measure_type**: what metrics to measure distance/similarity between embeddings. In this case it's DOT_PRODUCT_DISTANCE"
      ],
      "metadata": {
        "id": "rsCh3jPhxkaG"
      },
      "id": "rsCh3jPhxkaG"
    },
    {
      "cell_type": "markdown",
      "source": [
        "## Create Index Endpoint and deploy the Index"
      ],
      "metadata": {
        "id": "8P_6bMdWyHZU"
      },
      "id": "8P_6bMdWyHZU"
    },
    {
      "cell_type": "code",
      "source": [
        "# create IndexEndpoint\n",
        "my_index_endpoint = aiplatform.MatchingEngineIndexEndpoint.create(\n",
        "    display_name=f\"movie_indexing_endpoint-{UID}\",\n",
        "    public_endpoint_enabled=True,\n",
        ")"
      ],
      "metadata": {
        "colab": {
          "base_uri": "https://localhost:8080/"
        },
        "id": "VHQAiMZ4yGsf",
        "executionInfo": {
          "status": "ok",
          "timestamp": 1733059801348,
          "user_tz": -540,
          "elapsed": 2528,
          "user": {
            "displayName": "",
            "userId": ""
          }
        },
        "outputId": "1f1e541a-1514-432a-ef10-77b507e45227"
      },
      "id": "VHQAiMZ4yGsf",
      "execution_count": null,
      "outputs": [
        {
          "output_type": "stream",
          "name": "stderr",
          "text": [
            "INFO:google.cloud.aiplatform.matching_engine.matching_engine_index_endpoint:Creating MatchingEngineIndexEndpoint\n",
            "INFO:google.cloud.aiplatform.matching_engine.matching_engine_index_endpoint:Create MatchingEngineIndexEndpoint backing LRO: projects/78565683329/locations/us-central1/indexEndpoints/664311731362725888/operations/6935893517524795392\n",
            "INFO:google.cloud.aiplatform.matching_engine.matching_engine_index_endpoint:MatchingEngineIndexEndpoint created. Resource name: projects/78565683329/locations/us-central1/indexEndpoints/664311731362725888\n",
            "INFO:google.cloud.aiplatform.matching_engine.matching_engine_index_endpoint:To use this MatchingEngineIndexEndpoint in another session:\n",
            "INFO:google.cloud.aiplatform.matching_engine.matching_engine_index_endpoint:index_endpoint = aiplatform.MatchingEngineIndexEndpoint('projects/78565683329/locations/us-central1/indexEndpoints/664311731362725888')\n"
          ]
        }
      ]
    },
    {
      "cell_type": "code",
      "source": [
        "DEPLOYED_INDEX_ID = f\"movie_indexing_test_deployed_2\""
      ],
      "metadata": {
        "id": "YF5SzXbTxq_O"
      },
      "id": "YF5SzXbTxq_O",
      "execution_count": null,
      "outputs": []
    },
    {
      "cell_type": "code",
      "source": [
        "# deploy the Index to the Index Endpoint\n",
        "my_index_endpoint.deploy_index(index=my_index, deployed_index_id=DEPLOYED_INDEX_ID)"
      ],
      "metadata": {
        "colab": {
          "base_uri": "https://localhost:8080/"
        },
        "id": "U85jiMRhyZLG",
        "executionInfo": {
          "status": "ok",
          "timestamp": 1733061365374,
          "user_tz": -540,
          "elapsed": 1543750,
          "user": {
            "displayName": "",
            "userId": ""
          }
        },
        "outputId": "2a0b1458-d020-4357-b13d-932297b5f9b2"
      },
      "id": "U85jiMRhyZLG",
      "execution_count": null,
      "outputs": [
        {
          "output_type": "stream",
          "name": "stderr",
          "text": [
            "INFO:google.cloud.aiplatform.matching_engine.matching_engine_index_endpoint:Deploying index MatchingEngineIndexEndpoint index_endpoint: projects/78565683329/locations/us-central1/indexEndpoints/664311731362725888\n",
            "INFO:google.cloud.aiplatform.matching_engine.matching_engine_index_endpoint:Deploy index MatchingEngineIndexEndpoint index_endpoint backing LRO: projects/78565683329/locations/us-central1/indexEndpoints/664311731362725888/operations/3585778344714567680\n",
            "INFO:google.cloud.aiplatform.matching_engine.matching_engine_index_endpoint:MatchingEngineIndexEndpoint index_endpoint Deployed index. Resource name: projects/78565683329/locations/us-central1/indexEndpoints/664311731362725888\n"
          ]
        },
        {
          "output_type": "execute_result",
          "data": {
            "text/plain": [
              "<google.cloud.aiplatform.matching_engine.matching_engine_index_endpoint.MatchingEngineIndexEndpoint object at 0x7e2f526b4550> \n",
              "resource name: projects/78565683329/locations/us-central1/indexEndpoints/664311731362725888"
            ]
          },
          "metadata": {},
          "execution_count": 198
        }
      ]
    },
    {
      "cell_type": "markdown",
      "source": [
        "## Run Query"
      ],
      "metadata": {
        "id": "wWO8_Qusyiu5"
      },
      "id": "wWO8_Qusyiu5"
    },
    {
      "cell_type": "code",
      "source": [
        "###### Call Endpoint\n",
        "from google.cloud import aiplatform_v1\n",
        "\n",
        "# Set variables for the current deployed index.\n",
        "API_ENDPOINT=\"1051074875.us-central1-78565683329.vdb.vertexai.goog\"\n",
        "INDEX_ENDPOINT=\"projects/78565683329/locations/us-central1/indexEndpoints/664311731362725888\"\n",
        "DEPLOYED_INDEX_ID=\"search_test_1737044762588\""
      ],
      "metadata": {
        "id": "CK7jjrwft81o"
      },
      "id": "CK7jjrwft81o",
      "execution_count": null,
      "outputs": []
    },
    {
      "cell_type": "code",
      "source": [
        "###### Call Endpoint\n",
        "PROJECT_ID = \"jc-gcp-project\"\n",
        "REGION = \"us-central1\"\n",
        "ENDPOINT_ID = \"664311731362725888\""
      ],
      "metadata": {
        "id": "elOZHGfDxjc6"
      },
      "id": "elOZHGfDxjc6",
      "execution_count": null,
      "outputs": []
    },
    {
      "cell_type": "code",
      "source": [
        "###### Call Endpoint\n",
        "my_index_endpoint = aiplatform.MatchingEngineIndexEndpoint(\n",
        "    index_endpoint_name=f\"projects/{PROJECT_ID}/locations/{REGION}/indexEndpoints/{ENDPOINT_ID}\"\n",
        ")"
      ],
      "metadata": {
        "id": "_MJQGGWbxgA5"
      },
      "id": "_MJQGGWbxgA5",
      "execution_count": null,
      "outputs": []
    },
    {
      "cell_type": "code",
      "source": [
        "###### Test\n",
        "query = '니가 가라 하와이'\n",
        "test_embeddings = get_embeddings_wrapper([query])"
      ],
      "metadata": {
        "colab": {
          "base_uri": "https://localhost:8080/"
        },
        "id": "paqfboo3pzJL",
        "executionInfo": {
          "status": "ok",
          "timestamp": 1737046509369,
          "user_tz": -540,
          "elapsed": 1297,
          "user": {
            "displayName": "",
            "userId": ""
          }
        },
        "outputId": "1f3ea9df-5d91-4b6e-a154-cd8541daa71d"
      },
      "id": "paqfboo3pzJL",
      "execution_count": null,
      "outputs": [
        {
          "output_type": "stream",
          "name": "stderr",
          "text": [
            "100%|██████████| 1/1 [00:01<00:00,  1.15s/it]\n"
          ]
        }
      ]
    },
    {
      "cell_type": "code",
      "source": [
        "###### Test query\n",
        "response = my_index_endpoint.find_neighbors(\n",
        "    deployed_index_id=DEPLOYED_INDEX_ID,\n",
        "    queries=test_embeddings,\n",
        "    num_neighbors=20,\n",
        ")\n",
        "\n",
        "# show the result\n",
        "import numpy as np\n",
        "\n",
        "for idx, neighbor in enumerate(response[0]):\n",
        "    id = np.int64(neighbor.id)\n",
        "    similar = df.query(\"id == @id\", engine=\"python\")\n",
        "    print(f\"{neighbor.distance:.4f} {similar.title.values[0]}\")"
      ],
      "metadata": {
        "colab": {
          "base_uri": "https://localhost:8080/"
        },
        "id": "nZuamCHr64Vx",
        "executionInfo": {
          "status": "ok",
          "timestamp": 1737046720614,
          "user_tz": -540,
          "elapsed": 415,
          "user": {
            "displayName": "",
            "userId": ""
          }
        },
        "outputId": "862efbf7-8b98-4b8d-b793-878c059551bf"
      },
      "id": "nZuamCHr64Vx",
      "execution_count": null,
      "outputs": [
        {
          "output_type": "stream",
          "name": "stdout",
          "text": [
            "0.6365 Nim's Island\n",
            "0.6295 Rapa Nui\n",
            "0.6244 A Perfect Getaway\n",
            "0.6213 Treading Water\n",
            "0.6098 Aloha\n",
            "0.6077 Yes\n",
            "0.6030 Beyond the Lights\n",
            "0.6018 Six Days Seven Nights\n",
            "0.6006 Just Go with It\n",
            "0.5988 Dil Jo Bhi Kahey...\n",
            "0.5979 Princess Kaiulani\n",
            "0.5975 Neal 'n' Nikki\n",
            "0.5975 Whale Rider\n",
            "0.5971 Forgetting Sarah Marshall\n",
            "0.5945 From Here to Eternity\n",
            "0.5879 Showgirls\n",
            "0.5829 Here On Earth\n",
            "0.5826 Letters from Iwo Jima\n",
            "0.5822 Flags of Our Fathers\n",
            "0.5819 The Beach\n"
          ]
        }
      ]
    },
    {
      "cell_type": "code",
      "source": [
        "# @title Agent initialization.\n",
        "######\n",
        "\n",
        "from IPython.display import display, Markdown\n",
        "from vertexai.preview.generative_models import grounding\n",
        "\n",
        "from vertexai.generative_models import (\n",
        "    GenerationConfig,\n",
        "    GenerativeModel,\n",
        "    HarmBlockThreshold,\n",
        "    HarmCategory,\n",
        "    Part,\n",
        "    Tool\n",
        ")\n",
        "\n",
        "MODEL_NAME=\"gemini-1.5-flash\"\n",
        "PROJECT_ID=\"jc-gcp-project\"\n",
        "REGION=\"us-central1\"\n",
        "\n",
        "vertexai.init(project=PROJECT_ID, location=REGION)\n",
        "model_1 = GenerativeModel(MODEL_NAME)"
      ],
      "metadata": {
        "id": "HvILZbcKjMPU"
      },
      "id": "HvILZbcKjMPU",
      "execution_count": null,
      "outputs": []
    },
    {
      "cell_type": "code",
      "source": [
        "# @title Call Gemini\n",
        "######\n",
        "def give_to_gemini(query):\n",
        "  prompt =f\"\"\"\n",
        "          당신은 영화정보를 제공하는AI 어시스턴트 입니다. 답변은 질문 내용을 참고해서 답해주세요.\n",
        "          답변은 3개의 영화를 알려주세요. 질문과 제목이 똑같은 영화는 추천하지 마세요.\n",
        "\n",
        "          답변은 JSON 포맷으로 아래와 같이 답변해 주세요.\n",
        "\n",
        "              \"title\": \"movie title\",\n",
        "              \"type\": \"Genre\",\n",
        "              \"release_date\": \"date\",\n",
        "              \"director\": \"director name\",\n",
        "              \"cast\": \"chracters name\"\n",
        "\n",
        "          <질문> : {query}\n",
        "  \"\"\"\n",
        "  tool = Tool.from_google_search_retrieval(grounding.GoogleSearchRetrieval())\n",
        "\n",
        "  responses = model_1.generate_content(\n",
        "      [prompt],\n",
        "      tools=[tool],\n",
        "\n",
        "  )\n",
        "  return responses.text"
      ],
      "metadata": {
        "id": "Bg6MLg2dzW7t"
      },
      "id": "Bg6MLg2dzW7t",
      "execution_count": null,
      "outputs": []
    },
    {
      "cell_type": "code",
      "source": [
        "# # @title Call Gemini\n",
        "# ######\n",
        "# def give_to_gemini(query):\n",
        "#   prompt =f\"\"\"\n",
        "#           당신은 영화정보를 제공하는AI 어시스턴트 입니다. 답변은 아래 내용을 따라서 답해주세요.\n",
        "\n",
        "#           1. 영화 2~3개와 이유를 2줄 이내로 먼저 답변 해주세요.\n",
        "#           2. 영화를 선정 하는 이유를 설명 해주세요.\n",
        "#           3. 전체적인 답변은 간략하게 최대 10줄을 넘지 않게 해주세요.\n",
        "\n",
        "#           <질문> : {query}\n",
        "#   \"\"\"\n",
        "#   tool = Tool.from_google_search_retrieval(grounding.GoogleSearchRetrieval())\n",
        "\n",
        "#   responses = model_1.generate_content(\n",
        "#       [prompt],\n",
        "#       tools=[tool],\n",
        "\n",
        "#   )\n",
        "#   return responses.text"
      ],
      "metadata": {
        "id": "kZw8wNqx6AnY"
      },
      "id": "kZw8wNqx6AnY",
      "execution_count": null,
      "outputs": []
    },
    {
      "cell_type": "code",
      "source": [
        "for idx, neighbor in enumerate(response[0]):\n",
        "    id = np.int64(neighbor.id)\n",
        "    similar = df.query(\"id == @id\", engine=\"python\")\n",
        "    print(f\"{neighbor.distance:.4f} {similar.title.values[0]}\")\n",
        "    if neighbor.distance < 0.7:\n",
        "        print(\"stop and give to Gemini\")\n",
        "        print(\"\")\n",
        "        ans = give_to_gemini(query)\n",
        "        print(ans)\n",
        "        break"
      ],
      "metadata": {
        "id": "BU_gdcFTzW9U",
        "colab": {
          "base_uri": "https://localhost:8080/"
        },
        "executionInfo": {
          "status": "ok",
          "timestamp": 1737046525986,
          "user_tz": -540,
          "elapsed": 2551,
          "user": {
            "displayName": "",
            "userId": ""
          }
        },
        "outputId": "f2c9ef35-cc00-4f1f-a369-5cfe1c599312"
      },
      "id": "BU_gdcFTzW9U",
      "execution_count": null,
      "outputs": [
        {
          "output_type": "stream",
          "name": "stdout",
          "text": [
            "0.6365 Nim's Island\n",
            "stop and give to Gemini\n",
            "\n",
            "```json\n",
            "[\n",
            "  {\n",
            "    \"title\": \"친구\",\n",
            "    \"type\": \"범죄, 드라마\",\n",
            "    \"release_date\": \"2001-04-14\",\n",
            "    \"director\": \"곽경택\",\n",
            "    \"cast\": \"장동건, 유오성, 김원해, 정진영\"\n",
            "  },\n",
            "  {\n",
            "    \"title\": \"아바타\",\n",
            "    \"type\": \"SF, 액션, 모험\",\n",
            "    \"release_date\": \"2009-12-16\",\n",
            "    \"director\": \"제임스 카메론\",\n",
            "    \"cast\": \"샘 워싱턴, 조 샐다나, 시고니 위버, 스티븐 랭\"\n",
            "  },\n",
            "  {\n",
            "    \"title\": \"인셉션\",\n",
            "    \"type\": \"SF, 액션, 스릴러\",\n",
            "    \"release_date\": \"2010-07-15\",\n",
            "    \"director\": \"크리스토퍼 놀란\",\n",
            "    \"cast\": \"레오나르도 디카프리오, 조셉 고든-레빗, 엘렌 페이지, 마리옹 꼬티아르\"\n",
            "  }\n",
            "]\n",
            "```\n"
          ]
        }
      ]
    },
    {
      "cell_type": "markdown",
      "source": [
        "## Clean Up"
      ],
      "metadata": {
        "id": "LRiGmwH2y_NY"
      },
      "id": "LRiGmwH2y_NY"
    },
    {
      "cell_type": "code",
      "source": [
        "# # wait for a confirmation\n",
        "# input(\"Press Enter to delete Index Endpoint, Index and Cloud Storage bucket:\")\n",
        "\n",
        "# # delete Index Endpoint\n",
        "# my_index_endpoint.undeploy_all()\n",
        "# my_index_endpoint.delete(force=True)\n",
        "\n",
        "# # delete Index\n",
        "# my_index.delete()\n",
        "\n",
        "# # delete Cloud Storage bucket\n",
        "# ! gsutil rm -r {BUCKET_URI}"
      ],
      "metadata": {
        "id": "LQ0kx5ixzCIb"
      },
      "id": "LQ0kx5ixzCIb",
      "execution_count": null,
      "outputs": []
    },
    {
      "cell_type": "markdown",
      "source": [
        "Structured search, Vector search\n",
        "\n",
        "Vertex AI Search (콜수) - 빅쿼리에 데이터 넣고, 인덱싱해서 따로 만듦\n",
        "임베딩할 필요없음\n",
        "BQ, CloudSQL"
      ],
      "metadata": {
        "id": "QK_TqRsG_60C"
      },
      "id": "QK_TqRsG_60C"
    }
  ],
  "metadata": {
    "kernelspec": {
      "display_name": "Python 3",
      "language": "python",
      "name": "python3"
    },
    "language_info": {
      "codemirror_mode": {
        "name": "ipython",
        "version": 3
      },
      "file_extension": ".py",
      "mimetype": "text/x-python",
      "name": "python",
      "nbconvert_exporter": "python",
      "pygments_lexer": "ipython3",
      "version": "3.10.10"
    },
    "colab": {
      "provenance": [],
      "name": "movie_embedding_test"
    }
  },
  "nbformat": 4,
  "nbformat_minor": 5
}