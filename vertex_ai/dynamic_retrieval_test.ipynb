{
  "cells": [
    {
      "cell_type": "code",
      "execution_count": null,
      "metadata": {
        "id": "bCIMTPB1WoTq"
      },
      "outputs": [],
      "source": [
        "# Copyright 2024 Google LLC\n",
        "#\n",
        "# Licensed under the Apache License, Version 2.0 (the \"License\");\n",
        "# you may not use this file except in compliance with the License.\n",
        "# You may obtain a copy of the License at\n",
        "#\n",
        "#     https://www.apache.org/licenses/LICENSE-2.0\n",
        "#\n",
        "# Unless required by applicable law or agreed to in writing, software\n",
        "# distributed under the License is distributed on an \"AS IS\" BASIS,\n",
        "# WITHOUT WARRANTIES OR CONDITIONS OF ANY KIND, either express or implied.\n",
        "# See the License for the specific language governing permissions and\n",
        "# limitations under the License."
      ]
    },
    {
      "cell_type": "markdown",
      "metadata": {
        "id": "7yVV6txOmNMn"
      },
      "source": [
        "# Getting started with Vertex AI Gemini 1.5 Pro\n",
        "\n",
        "\n",
        "<table align=\"left\">\n",
        "  <td style=\"text-align: center\">\n",
        "    <a href=\"https://colab.research.google.com/github/GoogleCloudPlatform/generative-ai/blob/main/gemini/getting-started/intro_gemini_1_5_pro.ipynb\">\n",
        "      <img src=\"https://cloud.google.com/ml-engine/images/colab-logo-32px.png\" alt=\"Google Colaboratory logo\"><br> Open in Colab\n",
        "    </a>\n",
        "  </td>\n",
        "  <td style=\"text-align: center\">\n",
        "    <a href=\"https://console.cloud.google.com/vertex-ai/colab/import/https:%2F%2Fraw.githubusercontent.com%2FGoogleCloudPlatform%2Fgenerative-ai%2Fmain%2Fgemini%2Fgetting-started%2Fintro_gemini_1_5_pro.ipynb\">\n",
        "      <img width=\"32px\" src=\"https://lh3.googleusercontent.com/JmcxdQi-qOpctIvWKgPtrzZdJJK-J3sWE1RsfjZNwshCFgE_9fULcNpuXYTilIR2hjwN\" alt=\"Google Cloud Colab Enterprise logo\"><br> Open in Colab Enterprise\n",
        "    </a>\n",
        "  </td>    \n",
        "  <td style=\"text-align: center\">\n",
        "    <a href=\"https://console.cloud.google.com/vertex-ai/workbench/deploy-notebook?download_url=https://raw.githubusercontent.com/GoogleCloudPlatform/generative-ai/main/gemini/getting-started/intro_gemini_1_5_pro.ipynb\">\n",
        "      <img src=\"https://lh3.googleusercontent.com/UiNooY4LUgW_oTvpsNhPpQzsstV5W8F7rYgxgGBD85cWJoLmrOzhVs_ksK_vgx40SHs7jCqkTkCk=e14-rj-sc0xffffff-h130-w32\" alt=\"Vertex AI logo\"><br> Open in Workbench\n",
        "    </a>\n",
        "  </td>\n",
        "  <td style=\"text-align: center\">\n",
        "    <a href=\"https://github.com/GoogleCloudPlatform/generative-ai/blob/main/gemini/getting-started/intro_gemini_1_5_pro.ipynb\">\n",
        "      <img src=\"https://cloud.google.com/ml-engine/images/github-logo-32px.png\" alt=\"GitHub logo\"><br> View on GitHub\n",
        "    </a>\n",
        "  </td>\n",
        "</table>\n",
        "\n",
        "<div style=\"clear: both;\"></div>\n",
        "\n",
        "<b>Share to:</b>\n",
        "\n",
        "<a href=\"https://www.linkedin.com/sharing/share-offsite/?url=https%3A//github.com/GoogleCloudPlatform/generative-ai/blob/main/gemini/getting-started/intro_gemini_1_5_pro.ipynb\" target=\"_blank\">\n",
        "  <img width=\"20px\" src=\"https://upload.wikimedia.org/wikipedia/commons/8/81/LinkedIn_icon.svg\" alt=\"LinkedIn logo\">\n",
        "</a>\n",
        "\n",
        "<a href=\"https://bsky.app/intent/compose?text=https%3A//github.com/GoogleCloudPlatform/generative-ai/blob/main/gemini/getting-started/intro_gemini_1_5_pro.ipynb\" target=\"_blank\">\n",
        "  <img width=\"20px\" src=\"https://upload.wikimedia.org/wikipedia/commons/7/7a/Bluesky_Logo.svg\" alt=\"Bluesky logo\">\n",
        "</a>\n",
        "\n",
        "<a href=\"https://twitter.com/intent/tweet?url=https%3A//github.com/GoogleCloudPlatform/generative-ai/blob/main/gemini/getting-started/intro_gemini_1_5_pro.ipynb\" target=\"_blank\">\n",
        "  <img width=\"20px\" src=\"https://upload.wikimedia.org/wikipedia/commons/5/53/X_logo_2023_original.svg\" alt=\"X logo\">\n",
        "</a>\n",
        "\n",
        "<a href=\"https://reddit.com/submit?url=https%3A//github.com/GoogleCloudPlatform/generative-ai/blob/main/gemini/getting-started/intro_gemini_1_5_pro.ipynb\" target=\"_blank\">\n",
        "  <img width=\"20px\" src=\"https://redditinc.com/hubfs/Reddit%20Inc/Brand/Reddit_Logo.png\" alt=\"Reddit logo\">\n",
        "</a>\n",
        "\n",
        "<a href=\"https://www.facebook.com/sharer/sharer.php?u=https%3A//github.com/GoogleCloudPlatform/generative-ai/blob/main/gemini/getting-started/intro_gemini_1_5_pro.ipynb\" target=\"_blank\">\n",
        "  <img width=\"20px\" src=\"https://upload.wikimedia.org/wikipedia/commons/5/51/Facebook_f_logo_%282019%29.svg\" alt=\"Facebook logo\">\n",
        "</a>            \n"
      ]
    },
    {
      "cell_type": "markdown",
      "metadata": {
        "id": "1EExYZvij2ve"
      },
      "source": [
        "| | |\n",
        "|-|-|\n",
        "|Author(s) | [Eric Dong](https://github.com/gericdong)|"
      ]
    },
    {
      "cell_type": "markdown",
      "metadata": {
        "id": "t1DnOs6rkbOy"
      },
      "source": [
        "## Overview\n",
        "\n",
        "Gemini 1.5 Pro is a new language model from the Gemini family. This model introduces a breakthrough long context window of up to 1 million tokens that can help seamlessly analyze large amounts of information and long-context understanding. It can process text, images, audio, video, and code all together for deeper insights. Learn more about [Gemini 1.5](https://blog.google/technology/ai/google-gemini-next-generation-model-february-2024/).\n",
        "\n",
        "With this tutorial, you learn how to use the Gemini API in Vertex AI and the Vertex AI SDK to work with the Gemini 1.5 Pro model to:\n",
        "\n",
        "- analyze audio for insights.\n",
        "- understand videos (including their audio components).\n",
        "- extract information from PDF documents.\n",
        "- process images, video, audio, and text simultaneously."
      ]
    },
    {
      "cell_type": "markdown",
      "metadata": {
        "id": "61RBz8LLbxCR"
      },
      "source": [
        "## Getting Started"
      ]
    },
    {
      "cell_type": "markdown",
      "metadata": {
        "id": "No17Cw5hgx12"
      },
      "source": [
        "### Install Vertex AI SDK for Python\n"
      ]
    },
    {
      "cell_type": "code",
      "execution_count": null,
      "metadata": {
        "id": "tFy3H3aPgx12"
      },
      "outputs": [],
      "source": [
        "%pip install --upgrade --user --quiet google-cloud-aiplatform"
      ]
    },
    {
      "cell_type": "markdown",
      "metadata": {
        "id": "R5Xep4W9lq-Z"
      },
      "source": [
        "### Restart runtime\n",
        "\n",
        "To use the newly installed packages in this Jupyter runtime, you must restart the runtime. You can do this by running the cell below, which restarts the current kernel."
      ]
    },
    {
      "cell_type": "code",
      "execution_count": null,
      "metadata": {
        "id": "XRvKdaPDTznN"
      },
      "outputs": [],
      "source": [
        "import sys\n",
        "\n",
        "if \"google.colab\" in sys.modules:\n",
        "    import IPython\n",
        "\n",
        "    app = IPython.Application.instance()\n",
        "    app.kernel.do_shutdown(True)"
      ]
    },
    {
      "cell_type": "markdown",
      "metadata": {
        "id": "SbmM4z7FOBpM"
      },
      "source": [
        "<div class=\"alert alert-block alert-warning\">\n",
        "<b>⚠️ The kernel is going to restart. Please wait until it is finished before continuing to the next step. ⚠️</b>\n",
        "</div>\n"
      ]
    },
    {
      "cell_type": "markdown",
      "metadata": {
        "id": "dmWOrTJ3gx13"
      },
      "source": [
        "### Authenticate your notebook environment (Colab only)\n",
        "\n",
        "If you are running this notebook on Google Colab, run the cell below to authenticate your environment.\n"
      ]
    },
    {
      "cell_type": "code",
      "execution_count": null,
      "metadata": {
        "id": "NyKGtVQjgx13"
      },
      "outputs": [],
      "source": [
        "import sys\n",
        "\n",
        "if \"google.colab\" in sys.modules:\n",
        "    from google.colab import auth\n",
        "\n",
        "    auth.authenticate_user()"
      ]
    },
    {
      "cell_type": "markdown",
      "metadata": {
        "id": "DF4l8DTdWgPY"
      },
      "source": [
        "### Set Google Cloud project information and initialize Vertex AI SDK\n",
        "\n",
        "To get started using Vertex AI, you must have an existing Google Cloud project and [enable the Vertex AI API](https://console.cloud.google.com/flows/enableapi?apiid=aiplatform.googleapis.com).\n",
        "\n",
        "Learn more about [setting up a project and a development environment](https://cloud.google.com/vertex-ai/docs/start/cloud-environment)."
      ]
    },
    {
      "cell_type": "code",
      "execution_count": 1,
      "metadata": {
        "id": "Nqwi-5ufWp_B",
        "executionInfo": {
          "status": "ok",
          "timestamp": 1737695764827,
          "user_tz": -540,
          "elapsed": 1916,
          "user": {
            "displayName": "",
            "userId": ""
          }
        }
      },
      "outputs": [],
      "source": [
        "# Use the environment variable if the user doesn't provide Project ID.\n",
        "import os\n",
        "\n",
        "import vertexai\n",
        "\n",
        "PROJECT_ID = \"jc-gcp-project\"  # @param {type: \"string\", placeholder: \"[your-project-id]\" isTemplate: true}\n",
        "if not PROJECT_ID or PROJECT_ID == \"[your-project-id]\":\n",
        "    PROJECT_ID = str(os.environ.get(\"GOOGLE_CLOUD_PROJECT\"))\n",
        "\n",
        "LOCATION = os.environ.get(\"GOOGLE_CLOUD_REGION\", \"us-central1\")\n",
        "\n",
        "vertexai.init(project=PROJECT_ID, location=LOCATION)"
      ]
    },
    {
      "cell_type": "markdown",
      "metadata": {
        "id": "jXHfaVS66_01"
      },
      "source": [
        "### Import libraries\n"
      ]
    },
    {
      "cell_type": "code",
      "execution_count": 2,
      "metadata": {
        "id": "lslYAvw37JGQ",
        "executionInfo": {
          "status": "ok",
          "timestamp": 1737695790992,
          "user_tz": -540,
          "elapsed": 648,
          "user": {
            "displayName": "",
            "userId": ""
          }
        }
      },
      "outputs": [],
      "source": [
        "import IPython.display\n",
        "from vertexai.generative_models import (\n",
        "    GenerationConfig,\n",
        "    GenerativeModel,\n",
        "    HarmBlockThreshold,\n",
        "    HarmCategory,\n",
        "    Part,\n",
        "    Tool,\n",
        "    grounding\n",
        ")"
      ]
    },
    {
      "cell_type": "markdown",
      "metadata": {
        "id": "BY1nfXrqRxVX"
      },
      "source": [
        "### Load the Gemini 1.5 Pro model\n",
        "\n",
        "To learn more about all [Gemini API models on Vertex AI](https://cloud.google.com/vertex-ai/generative-ai/docs/learn/models#gemini-models).\n"
      ]
    },
    {
      "cell_type": "code",
      "execution_count": 3,
      "metadata": {
        "id": "U7ExWmuLBdIA",
        "executionInfo": {
          "status": "ok",
          "timestamp": 1737695798201,
          "user_tz": -540,
          "elapsed": 1,
          "user": {
            "displayName": "",
            "userId": ""
          }
        }
      },
      "outputs": [],
      "source": [
        "MODEL_ID = \"gemini-1.5-pro-002\"  # @param {type:\"string\"}\n",
        "\n",
        "model = GenerativeModel(MODEL_ID)"
      ]
    },
    {
      "cell_type": "markdown",
      "source": [
        "#### Threshold 값  = 0.5"
      ],
      "metadata": {
        "id": "qvFNO9vhwzoA"
      }
    },
    {
      "cell_type": "code",
      "source": [
        "#### Dynamic Retrieval Setting\n",
        "retrieval = grounding.GoogleSearchRetrieval(dynamic_retrieval_config=grounding.DynamicRetrievalConfig(\n",
        "        mode=grounding.DynamicRetrievalConfig.Mode.MODE_DYNAMIC,\n",
        "        dynamic_threshold=0.5\n",
        "        ))\n",
        "tool_google_search = Tool.from_google_search_retrieval(retrieval)"
      ],
      "metadata": {
        "id": "BVXi50uTksMd",
        "executionInfo": {
          "status": "ok",
          "timestamp": 1737696292145,
          "user_tz": -540,
          "elapsed": 1,
          "user": {
            "displayName": "",
            "userId": ""
          }
        }
      },
      "execution_count": 18,
      "outputs": []
    },
    {
      "cell_type": "code",
      "source": [
        "prompt = \"오늘 서울 날씨는 어때?\"\n",
        "response = model.generate_content(\n",
        "    prompt,\n",
        "    tools=[tool_google_search],\n",
        "    generation_config=GenerationConfig(\n",
        "        temperature=0.0,\n",
        "    ),\n",
        ")\n",
        "print(response.text)"
      ],
      "metadata": {
        "colab": {
          "base_uri": "https://localhost:8080/"
        },
        "id": "S5OZNfmb38tn",
        "executionInfo": {
          "status": "ok",
          "timestamp": 1737696302254,
          "user_tz": -540,
          "elapsed": 9477,
          "user": {
            "displayName": "",
            "userId": ""
          }
        },
        "outputId": "0a0f63f2-24b6-41c2-d2e9-2744d01ecf58"
      },
      "execution_count": 19,
      "outputs": [
        {
          "output_type": "stream",
          "name": "stdout",
          "text": [
            "오늘 (2025년 1월 24일) 서울 날씨는 구름이 조금 끼는 날씨이며, 최저 기온은 0°C, 최고 기온은 6°C로 예상됩니다.  평년 기온과 비슷하거나 낮은 기온입니다.  \n",
            "\n",
            "향후 날씨 정보를 요약하면 다음과 같습니다:\n",
            "\n",
            "* **1월 28일 (화요일):** 눈이 내리는 곳이 있겠습니다. 바람이 강하게 불겠고, 서해중부해상의 물결은 1.0~5.0m로 매우 높게 일겠습니다. 아침 기온은 -11~-3도, 낮 기온은 -2~4도로 예상됩니다.\n",
            "* **1월 29일 (수요일):** 바람이 강하게 불겠고, 서해중부해상의 물결은 1.0~5.0m로 매우 높게 일겠습니다. 아침 기온은 -11~-3도, 낮 기온은 -2~4도로 예상됩니다.\n",
            "* **그 외 날:** 서해중부해상의 물결은 1.0~2.5m로 일겠습니다. 아침 기온은 -11~-3도, 낮 기온은 -2~4도로 예상됩니다.\n",
            "\n",
            "\n",
            "이 정보는 현재 시각 (2025년 1월 24일 금요일 05:24:53 UTC) 기준이며, 기상 상황은 변동될 수 있으니 최신 정보를 확인하시기 바랍니다. 외출 시 따뜻하게 옷을 입으시고, 눈이나 강풍에 대한 대비를 하시는 것이 좋겠습니다.\n",
            "\n"
          ]
        }
      ]
    },
    {
      "cell_type": "code",
      "source": [
        "print(response.candidates[0].grounding_metadata.retrieval_metadata)"
      ],
      "metadata": {
        "colab": {
          "base_uri": "https://localhost:8080/"
        },
        "id": "bD_vMxOspbbd",
        "executionInfo": {
          "status": "ok",
          "timestamp": 1737696302254,
          "user_tz": -540,
          "elapsed": 5,
          "user": {
            "displayName": "",
            "userId": ""
          }
        },
        "outputId": "9ff243f5-b0f7-4e9f-8287-c714683e5ac4"
      },
      "execution_count": 20,
      "outputs": [
        {
          "output_type": "stream",
          "name": "stdout",
          "text": [
            "google_search_dynamic_retrieval_score: 0.890863419\n",
            "\n"
          ]
        }
      ]
    },
    {
      "cell_type": "markdown",
      "source": [
        "#### 위의 Response를 펼치면, Grounding 결과가 보입니다."
      ],
      "metadata": {
        "id": "U_WSFx1-worG"
      }
    },
    {
      "cell_type": "code",
      "source": [
        "response"
      ],
      "metadata": {
        "colab": {
          "base_uri": "https://localhost:8080/"
        },
        "id": "3MHTVrmrwhyF",
        "executionInfo": {
          "status": "ok",
          "timestamp": 1737696310199,
          "user_tz": -540,
          "elapsed": 642,
          "user": {
            "displayName": "",
            "userId": ""
          }
        },
        "outputId": "50d84fd3-f11b-4be4-c06c-a0fc3d2766ac"
      },
      "execution_count": 21,
      "outputs": [
        {
          "output_type": "execute_result",
          "data": {
            "text/plain": [
              "candidates {\n",
              "  content {\n",
              "    role: \"model\"\n",
              "    parts {\n",
              "      text: \"오늘 (2025년 1월 24일) 서울 날씨는 구름이 조금 끼는 날씨이며, 최저 기온은 0°C, 최고 기온은 6°C로 예상됩니다.  평년 기온과 비슷하거나 낮은 기온입니다.  \\n\\n향후 날씨 정보를 요약하면 다음과 같습니다:\\n\\n* **1월 28일 (화요일):** 눈이 내리는 곳이 있겠습니다. 바람이 강하게 불겠고, 서해중부해상의 물결은 1.0~5.0m로 매우 높게 일겠습니다. 아침 기온은 -11~-3도, 낮 기온은 -2~4도로 예상됩니다.\\n* **1월 29일 (수요일):** 바람이 강하게 불겠고, 서해중부해상의 물결은 1.0~5.0m로 매우 높게 일겠습니다. 아침 기온은 -11~-3도, 낮 기온은 -2~4도로 예상됩니다.\\n* **그 외 날:** 서해중부해상의 물결은 1.0~2.5m로 일겠습니다. 아침 기온은 -11~-3도, 낮 기온은 -2~4도로 예상됩니다.\\n\\n\\n이 정보는 현재 시각 (2025년 1월 24일 금요일 05:24:53 UTC) 기준이며, 기상 상황은 변동될 수 있으니 최신 정보를 확인하시기 바랍니다. 외출 시 따뜻하게 옷을 입으시고, 눈이나 강풍에 대한 대비를 하시는 것이 좋겠습니다.\\n\"\n",
              "    }\n",
              "  }\n",
              "  avg_logprobs: -0.035435296979524578\n",
              "  finish_reason: STOP\n",
              "  grounding_metadata {\n",
              "    web_search_queries: \"서울 날씨\"\n",
              "    search_entry_point {\n",
              "      rendered_content: \"<style>\\n.container {\\n  align-items: center;\\n  border-radius: 8px;\\n  display: flex;\\n  font-family: Google Sans, Roboto, sans-serif;\\n  font-size: 14px;\\n  line-height: 20px;\\n  padding: 8px 12px;\\n}\\n.chip {\\n  display: inline-block;\\n  border: solid 1px;\\n  border-radius: 16px;\\n  min-width: 14px;\\n  padding: 5px 16px;\\n  text-align: center;\\n  user-select: none;\\n  margin: 0 8px;\\n  -webkit-tap-highlight-color: transparent;\\n}\\n.carousel {\\n  overflow: auto;\\n  scrollbar-width: none;\\n  white-space: nowrap;\\n  margin-right: -12px;\\n}\\n.headline {\\n  display: flex;\\n  margin-right: 4px;\\n}\\n.gradient-container {\\n  position: relative;\\n}\\n.gradient {\\n  position: absolute;\\n  transform: translate(3px, -9px);\\n  height: 36px;\\n  width: 9px;\\n}\\n@media (prefers-color-scheme: light) {\\n  .container {\\n    background-color: #fafafa;\\n    box-shadow: 0 0 0 1px #0000000f;\\n  }\\n  .headline-label {\\n    color: #1f1f1f;\\n  }\\n  .chip {\\n    background-color: #ffffff;\\n    border-color: #d2d2d2;\\n    color: #5e5e5e;\\n    text-decoration: none;\\n  }\\n  .chip:hover {\\n    background-color: #f2f2f2;\\n  }\\n  .chip:focus {\\n    background-color: #f2f2f2;\\n  }\\n  .chip:active {\\n    background-color: #d8d8d8;\\n    border-color: #b6b6b6;\\n  }\\n  .logo-dark {\\n    display: none;\\n  }\\n  .gradient {\\n    background: linear-gradient(90deg, #fafafa 15%, #fafafa00 100%);\\n  }\\n}\\n@media (prefers-color-scheme: dark) {\\n  .container {\\n    background-color: #1f1f1f;\\n    box-shadow: 0 0 0 1px #ffffff26;\\n  }\\n  .headline-label {\\n    color: #fff;\\n  }\\n  .chip {\\n    background-color: #2c2c2c;\\n    border-color: #3c4043;\\n    color: #fff;\\n    text-decoration: none;\\n  }\\n  .chip:hover {\\n    background-color: #353536;\\n  }\\n  .chip:focus {\\n    background-color: #353536;\\n  }\\n  .chip:active {\\n    background-color: #464849;\\n    border-color: #53575b;\\n  }\\n  .logo-light {\\n    display: none;\\n  }\\n  .gradient {\\n    background: linear-gradient(90deg, #1f1f1f 15%, #1f1f1f00 100%);\\n  }\\n}\\n</style>\\n<div class=\\\"container\\\">\\n  <div class=\\\"headline\\\">\\n    <svg class=\\\"logo-light\\\" width=\\\"18\\\" height=\\\"18\\\" viewBox=\\\"9 9 35 35\\\" fill=\\\"none\\\" xmlns=\\\"http://www.w3.org/2000/svg\\\">\\n      <path fill-rule=\\\"evenodd\\\" clip-rule=\\\"evenodd\\\" d=\\\"M42.8622 27.0064C42.8622 25.7839 42.7525 24.6084 42.5487 23.4799H26.3109V30.1568H35.5897C35.1821 32.3041 33.9596 34.1222 32.1258 35.3448V39.6864H37.7213C40.9814 36.677 42.8622 32.2571 42.8622 27.0064V27.0064Z\\\" fill=\\\"#4285F4\\\"/>\\n      <path fill-rule=\\\"evenodd\\\" clip-rule=\\\"evenodd\\\" d=\\\"M26.3109 43.8555C30.9659 43.8555 34.8687 42.3195 37.7213 39.6863L32.1258 35.3447C30.5898 36.3792 28.6306 37.0061 26.3109 37.0061C21.8282 37.0061 18.0195 33.9811 16.6559 29.906H10.9194V34.3573C13.7563 39.9841 19.5712 43.8555 26.3109 43.8555V43.8555Z\\\" fill=\\\"#34A853\\\"/>\\n      <path fill-rule=\\\"evenodd\\\" clip-rule=\\\"evenodd\\\" d=\\\"M16.6559 29.8904C16.3111 28.8559 16.1074 27.7588 16.1074 26.6146C16.1074 25.4704 16.3111 24.3733 16.6559 23.3388V18.8875H10.9194C9.74388 21.2072 9.06992 23.8247 9.06992 26.6146C9.06992 29.4045 9.74388 32.022 10.9194 34.3417L15.3864 30.8621L16.6559 29.8904V29.8904Z\\\" fill=\\\"#FBBC05\\\"/>\\n      <path fill-rule=\\\"evenodd\\\" clip-rule=\\\"evenodd\\\" d=\\\"M26.3109 16.2386C28.85 16.2386 31.107 17.1164 32.9095 18.8091L37.8466 13.8719C34.853 11.082 30.9659 9.3736 26.3109 9.3736C19.5712 9.3736 13.7563 13.245 10.9194 18.8875L16.6559 23.3388C18.0195 19.2636 21.8282 16.2386 26.3109 16.2386V16.2386Z\\\" fill=\\\"#EA4335\\\"/>\\n    </svg>\\n    <svg class=\\\"logo-dark\\\" width=\\\"18\\\" height=\\\"18\\\" viewBox=\\\"0 0 48 48\\\" xmlns=\\\"http://www.w3.org/2000/svg\\\">\\n      <circle cx=\\\"24\\\" cy=\\\"23\\\" fill=\\\"#FFF\\\" r=\\\"22\\\"/>\\n      <path d=\\\"M33.76 34.26c2.75-2.56 4.49-6.37 4.49-11.26 0-.89-.08-1.84-.29-3H24.01v5.99h8.03c-.4 2.02-1.5 3.56-3.07 4.56v.75l3.91 2.97h.88z\\\" fill=\\\"#4285F4\\\"/>\\n      <path d=\\\"M15.58 25.77A8.845 8.845 0 0 0 24 31.86c1.92 0 3.62-.46 4.97-1.31l4.79 3.71C31.14 36.7 27.65 38 24 38c-5.93 0-11.01-3.4-13.45-8.36l.17-1.01 4.06-2.85h.8z\\\" fill=\\\"#34A853\\\"/>\\n      <path d=\\\"M15.59 20.21a8.864 8.864 0 0 0 0 5.58l-5.03 3.86c-.98-2-1.53-4.25-1.53-6.64 0-2.39.55-4.64 1.53-6.64l1-.22 3.81 2.98.22 1.08z\\\" fill=\\\"#FBBC05\\\"/>\\n      <path d=\\\"M24 14.14c2.11 0 4.02.75 5.52 1.98l4.36-4.36C31.22 9.43 27.81 8 24 8c-5.93 0-11.01 3.4-13.45 8.36l5.03 3.85A8.86 8.86 0 0 1 24 14.14z\\\" fill=\\\"#EA4335\\\"/>\\n    </svg>\\n    <div class=\\\"gradient-container\\\"><div class=\\\"gradient\\\"></div></div>\\n  </div>\\n  <div class=\\\"carousel\\\">\\n    <a class=\\\"chip\\\" href=\\\"https://vertexaisearch.cloud.google.com/grounding-api-redirect/AUBnsYtY3Pf44BvlfQ5pC8sDlvf6qbilqYX4IjyCNAqyyq7STpyy6UX1FrPoY-5hjPqEQj6GdlT7WmYdgdeD744e7iAL9aQUsdZ_uyYe6JLKGBkVe1m19H8hjd70EVg2KzjIpJPlplH2k2PkGTlUSOMvlQ1US3S5H9le-F3osB2iE2l3l_lwoivC0h8Nb6wP_D3IfJ9YHPK340ifka5jTcG-BWALDIy7NwzjiQ==\\\">서울 날씨</a>\\n  </div>\\n</div>\\n\"\n",
              "    }\n",
              "    grounding_chunks {\n",
              "      web {\n",
              "        uri: \"https://vertexaisearch.cloud.google.com/grounding-api-redirect/AUBnsYtovQo0l2l7PTcOP9BhkaOSEkQZcsTnwJwtYIlj1ygoX_1QUI0_6TDox_lqMVmZRAtYc5WyNaDDIujzMHRL89qC1hzLmcq0-FAq67rElWD6p_zMN_mHxp7RLJ4Q5hSXX-wrqyG9UGcS1C2oSaxxQ8qqFYk9zHR9NxLL7SSBrGPJNTa9\"\n",
              "        title: \"allmetsat.com\"\n",
              "      }\n",
              "    }\n",
              "    grounding_chunks {\n",
              "      web {\n",
              "        uri: \"https://vertexaisearch.cloud.google.com/grounding-api-redirect/AUBnsYuYpUTx08eT_201bL-mKiYXDKKuI6HH0BZ_2MnVkb2ZLIm2ROQ_myeu19QRvugxMsFezdSkXuUivwvShu8gcAaQGVdl6o9yOkhw_j7z3A_eTXyiiZOATqNpq-oSxKmOMWBK94ABIxPGTG1tnJ-wSDsvxnO6AaN-_pPoMc-FSC0=\"\n",
              "        title: \"weather.go.kr\"\n",
              "      }\n",
              "    }\n",
              "    grounding_supports {\n",
              "      segment {\n",
              "        end_index: 147\n",
              "        text: \"오늘 (2025년 1월 24일) 서울 날씨는 구름이 조금 끼는 날씨이며, 최저 기온은 0°C, 최고 기온은 6°C로 예상됩니다.\"\n",
              "      }\n",
              "      grounding_chunk_indices: 0\n",
              "      confidence_scores: 0.892682135\n",
              "    }\n",
              "    grounding_supports {\n",
              "      segment {\n",
              "        start_index: 149\n",
              "        end_index: 205\n",
              "        text: \"평년 기온과 비슷하거나 낮은 기온입니다.\"\n",
              "      }\n",
              "      grounding_chunk_indices: 1\n",
              "      confidence_scores: 0.968004823\n",
              "    }\n",
              "    grounding_supports {\n",
              "      segment {\n",
              "        start_index: 342\n",
              "        end_index: 447\n",
              "        text: \"바람이 강하게 불겠고, 서해중부해상의 물결은 1.0~5.0m로 매우 높게 일겠습니다.\"\n",
              "      }\n",
              "      grounding_chunk_indices: 1\n",
              "      confidence_scores: 0.967598081\n",
              "    }\n",
              "    grounding_supports {\n",
              "      segment {\n",
              "        start_index: 448\n",
              "        end_index: 517\n",
              "        text: \"아침 기온은 -11~-3도, 낮 기온은 -2~4도로 예상됩니다.\"\n",
              "      }\n",
              "      grounding_chunk_indices: 1\n",
              "      confidence_scores: 0.987274051\n",
              "    }\n",
              "    grounding_supports {\n",
              "      segment {\n",
              "        start_index: 518\n",
              "        end_index: 653\n",
              "        text: \"* **1월 29일 (수요일):** 바람이 강하게 불겠고, 서해중부해상의 물결은 1.0~5.0m로 매우 높게 일겠습니다.\"\n",
              "      }\n",
              "      grounding_chunk_indices: 1\n",
              "      confidence_scores: 0.849920571\n",
              "    }\n",
              "    grounding_supports {\n",
              "      segment {\n",
              "        start_index: 654\n",
              "        end_index: 723\n",
              "        text: \"아침 기온은 -11~-3도, 낮 기온은 -2~4도로 예상됩니다.\"\n",
              "      }\n",
              "      grounding_chunk_indices: 1\n",
              "      confidence_scores: 0.987274051\n",
              "    }\n",
              "    grounding_supports {\n",
              "      segment {\n",
              "        start_index: 724\n",
              "        end_index: 803\n",
              "        text: \"* **그 외 날:** 서해중부해상의 물결은 1.0~2.5m로 일겠습니다.\"\n",
              "      }\n",
              "      grounding_chunk_indices: 1\n",
              "      confidence_scores: 0.984655619\n",
              "    }\n",
              "    grounding_supports {\n",
              "      segment {\n",
              "        start_index: 804\n",
              "        end_index: 873\n",
              "        text: \"아침 기온은 -11~-3도, 낮 기온은 -2~4도로 예상됩니다.\"\n",
              "      }\n",
              "      grounding_chunk_indices: 1\n",
              "      confidence_scores: 0.987274051\n",
              "    }\n",
              "    retrieval_metadata {\n",
              "      google_search_dynamic_retrieval_score: 0.890863419\n",
              "    }\n",
              "  }\n",
              "}\n",
              "model_version: \"gemini-1.5-pro-002\"\n",
              "usage_metadata {\n",
              "  prompt_token_count: 9\n",
              "  candidates_token_count: 407\n",
              "  total_token_count: 416\n",
              "}"
            ]
          },
          "metadata": {},
          "execution_count": 21
        }
      ]
    },
    {
      "cell_type": "markdown",
      "source": [
        "#### Threshold 값을 높여서 Test - 0.9"
      ],
      "metadata": {
        "id": "27AlWFpov-so"
      }
    },
    {
      "cell_type": "code",
      "source": [
        "#### Dynamic Retrieval Setting\n",
        "retrieval = grounding.GoogleSearchRetrieval(dynamic_retrieval_config=grounding.DynamicRetrievalConfig(\n",
        "        mode=grounding.DynamicRetrievalConfig.Mode.MODE_DYNAMIC,\n",
        "        dynamic_threshold=0.9\n",
        "        ))\n",
        "tool_google_search = Tool.from_google_search_retrieval(retrieval)"
      ],
      "metadata": {
        "id": "YOGdE56OpM35",
        "executionInfo": {
          "status": "ok",
          "timestamp": 1737696368506,
          "user_tz": -540,
          "elapsed": 625,
          "user": {
            "displayName": "",
            "userId": ""
          }
        }
      },
      "execution_count": 22,
      "outputs": []
    },
    {
      "cell_type": "code",
      "source": [
        "prompt = \"오늘 서울 날씨는 어때?\"\n",
        "response = model.generate_content(\n",
        "    prompt,\n",
        "    tools=[tool_google_search],\n",
        "    generation_config=GenerationConfig(\n",
        "        temperature=0.0,\n",
        "    ),\n",
        ")\n",
        "\n",
        "print(response.text)"
      ],
      "metadata": {
        "id": "sXECxKOppM2A",
        "colab": {
          "base_uri": "https://localhost:8080/"
        },
        "executionInfo": {
          "status": "ok",
          "timestamp": 1737696387956,
          "user_tz": -540,
          "elapsed": 4013,
          "user": {
            "displayName": "",
            "userId": ""
          }
        },
        "outputId": "e8f42a6b-505d-4999-f2fa-817fc1faae92"
      },
      "execution_count": 23,
      "outputs": [
        {
          "output_type": "stream",
          "name": "stdout",
          "text": [
            "오늘 서울 날씨 정보를 알려드리겠습니다.  최신 정보를 위해서는 기상청 웹사이트나 앱을 확인하는 것이 가장 좋습니다.  일반적으로 제가 제공하는 정보는 조금 지연될 수 있습니다.\n",
            "\n",
            "현재 기상 상황과 오늘 예상되는 날씨 (예: 최고/최저 기온, 강수 확률, 미세먼지 농도 등)를 알려주세요.  더 자세한 정보를 원하시면 구체적으로 질문해주세요. (예: 오후 3시 강수 확률,  내일 아침 최저 기온)\n",
            "\n"
          ]
        }
      ]
    },
    {
      "cell_type": "code",
      "source": [
        "response"
      ],
      "metadata": {
        "id": "0JcWdJilpMyl",
        "colab": {
          "base_uri": "https://localhost:8080/"
        },
        "executionInfo": {
          "status": "ok",
          "timestamp": 1737696387956,
          "user_tz": -540,
          "elapsed": 4,
          "user": {
            "displayName": "",
            "userId": ""
          }
        },
        "outputId": "8d7665f9-952b-4f62-bba1-351e9a29fd9f"
      },
      "execution_count": 24,
      "outputs": [
        {
          "output_type": "execute_result",
          "data": {
            "text/plain": [
              "candidates {\n",
              "  content {\n",
              "    role: \"model\"\n",
              "    parts {\n",
              "      text: \"오늘 서울 날씨 정보를 알려드리겠습니다.  최신 정보를 위해서는 기상청 웹사이트나 앱을 확인하는 것이 가장 좋습니다.  일반적으로 제가 제공하는 정보는 조금 지연될 수 있습니다.\\n\\n현재 기상 상황과 오늘 예상되는 날씨 (예: 최고/최저 기온, 강수 확률, 미세먼지 농도 등)를 알려주세요.  더 자세한 정보를 원하시면 구체적으로 질문해주세요. (예: 오후 3시 강수 확률,  내일 아침 최저 기온)\\n\"\n",
              "    }\n",
              "  }\n",
              "  avg_logprobs: -0.097528117976776546\n",
              "  finish_reason: STOP\n",
              "  grounding_metadata {\n",
              "    retrieval_metadata {\n",
              "      google_search_dynamic_retrieval_score: 0.890863419\n",
              "    }\n",
              "  }\n",
              "}\n",
              "model_version: \"gemini-1.5-pro-002\"\n",
              "usage_metadata {\n",
              "  prompt_token_count: 9\n",
              "  candidates_token_count: 146\n",
              "  total_token_count: 155\n",
              "}"
            ]
          },
          "metadata": {},
          "execution_count": 24
        }
      ]
    },
    {
      "cell_type": "code",
      "source": [],
      "metadata": {
        "id": "VGx1twzvpMvu"
      },
      "execution_count": null,
      "outputs": []
    }
  ],
  "metadata": {
    "colab": {
      "name": "dynamic_retrieval_test.ipynb",
      "provenance": []
    },
    "kernelspec": {
      "display_name": "Python 3",
      "name": "python3"
    }
  },
  "nbformat": 4,
  "nbformat_minor": 0
}